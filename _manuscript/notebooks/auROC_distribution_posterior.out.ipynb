{
 "cells": [
  {
   "cell_type": "markdown",
   "metadata": {},
   "source": [
    "# Evaluate inner auROC for main models of training jobs from CHTC for\n",
    "\n",
    "gps study with version v6 using nested_1_x_10_3_x_10 CV\n",
    "\n",
    "John Curtin & Claire Punturieri  \n",
    "October 23, 2024\n",
    "\n",
    "# Housekeeping\n",
    "\n",
    "## Code status\n",
    "\n",
    "Complete for use in GPS study as of 10/2024.\n",
    "\n",
    "## Notes\n",
    "\n",
    "Generates a median auROC histogram for best model configuration.\n",
    "\n",
    "# Set Up\n",
    "\n",
    "## Set Up Environment\n",
    "\n",
    "### Study parameters"
   ],
   "id": "f5d9d25d-26bd-4be2-9a51-f1ecc1aabc0a"
  },
  {
   "cell_type": "code",
   "execution_count": null,
   "metadata": {},
   "outputs": [],
   "source": [
    "study <- params$study\n",
    "cv <- params$cv\n",
    "model <- params$model\n",
    "algorithms <- params$algorithms\n",
    "version <- params$version\n"
   ],
   "id": "0a438771-f6b3-4109-9080-4f1e0fa380ff"
  },
  {
   "cell_type": "markdown",
   "metadata": {},
   "source": [
    "### Defaults"
   ],
   "id": "865b093d-7df3-46b6-b4cf-b12299c3bf28"
  },
  {
   "cell_type": "code",
   "execution_count": null,
   "metadata": {},
   "outputs": [
    {
     "output_type": "stream",
     "name": "stderr",
     "text": [
      "ℹ SHA-1 hash of file is \"77e91675366f10788c6bcb59fa1cfc9ee0c75281\""
     ]
    }
   ],
   "source": [
    "\n",
    "# handle conflicts\n",
    "options(conflicts.policy = \"depends.ok\")\n",
    "devtools::source_url(\"https://github.com/jjcurtin/lab_support/blob/main/fun_ml.R?raw=true\")\n"
   ],
   "id": "3a3d3cbf-e06d-450d-9e89-7794b8522c9f"
  },
  {
   "cell_type": "markdown",
   "metadata": {},
   "source": [
    "### Packages for script"
   ],
   "id": "746ac0de-52c2-4862-ba04-6e26e4981c90"
  },
  {
   "cell_type": "code",
   "execution_count": null,
   "metadata": {},
   "outputs": [
    {
     "output_type": "stream",
     "name": "stderr",
     "text": [
      "── Attaching core tidyverse packages ──────────────────────── tidyverse 2.0.0 ──\n",
      "✔ dplyr     1.1.4     ✔ readr     2.1.5\n",
      "✔ forcats   1.0.0     ✔ stringr   1.5.1\n",
      "✔ ggplot2   3.5.1     ✔ tibble    3.2.1\n",
      "✔ lubridate 1.9.3     ✔ tidyr     1.3.1\n",
      "✔ purrr     1.0.2     \n",
      "── Conflicts ────────────────────────────────────────── tidyverse_conflicts() ──\n",
      "✖ dplyr::filter() masks stats::filter()\n",
      "✖ dplyr::lag()    masks stats::lag()\n",
      "ℹ Use the conflicted package (<http://conflicted.r-lib.org/>) to force all conflicts to become errors"
     ]
    },
    {
     "output_type": "stream",
     "name": "stderr",
     "text": [
      "ℹ SHA-1 hash of file is \"c045eee2655a18dc85e715b78182f176327358a7\""
     ]
    },
    {
     "output_type": "stream",
     "name": "stderr",
     "text": [
      "ℹ SHA-1 hash of file is \"a58e57da996d1b70bb9a5b58241325d6fd78890f\""
     ]
    },
    {
     "output_type": "stream",
     "name": "stderr",
     "text": [
      "ℹ SHA-1 hash of file is \"75cc6f7b855da59c240908bd936834b4da01285b\""
     ]
    }
   ],
   "source": [
    "\n",
    "library(tidyverse)\n"
   ],
   "id": "e96ff91b-30eb-44b3-93db-b72e9522fcc8"
  },
  {
   "cell_type": "markdown",
   "metadata": {},
   "source": [
    "### Absolute paths"
   ],
   "id": "916a222c-d05f-4686-a14a-f8e57867aedf"
  },
  {
   "cell_type": "code",
   "execution_count": null,
   "metadata": {},
   "outputs": [],
   "source": [
    "path_models <- format_path(str_c(\"studydata/risk/models/\", study))\n"
   ],
   "id": "09eab771-4b9d-4fa3-ba1d-d1b1c8fde92f"
  },
  {
   "cell_type": "markdown",
   "metadata": {},
   "source": [
    "# Generate performance metric plot"
   ],
   "id": "eee2d74e-6181-4324-998b-cea8b74c9a6f"
  },
  {
   "cell_type": "code",
   "execution_count": null,
   "metadata": {},
   "outputs": [
    {
     "output_type": "stream",
     "name": "stderr",
     "text": [
      "Rows: 300 Columns: 17\n",
      "── Column specification ────────────────────────────────────────────────────────\n",
      "Delimiter: \",\"\n",
      "chr  (3): algorithm, feature_set, resample\n",
      "dbl (13): config_num, outer_split_num, inner_split_num, hp1, hp2, hp3, sens,...\n",
      "lgl  (1): split_num\n",
      "\n",
      "ℹ Use `spec()` to retrieve the full column specification for this data.\n",
      "ℹ Specify the column types or set `show_col_types = FALSE` to quiet this message."
     ]
    },
    {
     "output_type": "stream",
     "name": "stdout",
     "text": [
      "Rows: 300\n",
      "Columns: 17\n",
      "$ config_num      <dbl> 150262, 152110, 153958, 155806, 15358, 157654, 159502,…\n",
      "$ split_num       <lgl> NA, NA, NA, NA, NA, NA, NA, NA, NA, NA, NA, NA, NA, NA…\n",
      "$ outer_split_num <dbl> 9, 9, 9, 9, 1, 9, 9, 9, 9, 9, 10, 10, 10, 10, 1, 10, 1…\n",
      "$ inner_split_num <dbl> 2, 3, 4, 5, 9, 6, 7, 8, 9, 10, 1, 2, 3, 4, 10, 5, 6, 7…\n",
      "$ algorithm       <chr> \"xgboost\", \"xgboost\", \"xgboost\", \"xgboost\", \"xgboost\",…\n",
      "$ feature_set     <chr> \"context_affect_rawdiff\", \"context_affect_rawdiff\", \"c…\n",
      "$ hp1             <dbl> 0.01, 0.01, 0.01, 0.01, 0.01, 0.01, 0.01, 0.01, 0.01, …\n",
      "$ hp2             <dbl> 1, 1, 1, 1, 1, 1, 1, 1, 1, 1, 1, 1, 1, 1, 1, 1, 1, 1, …\n",
      "$ hp3             <dbl> 40, 40, 40, 40, 40, 40, 40, 40, 40, 40, 40, 40, 40, 40…\n",
      "$ resample        <chr> \"up_1\", \"up_1\", \"up_1\", \"up_1\", \"up_1\", \"up_1\", \"up_1\"…\n",
      "$ sens            <dbl> 0.7857143, 0.4626866, 0.7564103, 0.6323529, 0.3673469,…\n",
      "$ spec            <dbl> 0.7149758, 0.7260556, 0.6787679, 0.7945652, 0.7647658,…\n",
      "$ ppv             <dbl> 0.15714286, 0.10437710, 0.16809117, 0.18534483, 0.0722…\n",
      "$ npv             <dbl> 0.9801325, 0.9514170, 0.9701258, 0.9669312, 0.9603581,…\n",
      "$ accuracy        <dbl> 0.7194570, 0.7090559, 0.6849037, 0.7834008, 0.7458778,…\n",
      "$ bal_accuracy    <dbl> 0.7503451, 0.5943711, 0.7175891, 0.7134591, 0.5660564,…\n",
      "$ roc_auc         <dbl> 0.7911939, 0.7197765, 0.7847028, 0.8230499, 0.6704664,…"
     ]
    }
   ],
   "source": [
    "# probs_local <- read_rds(file.path(path_models, str_c(\"inner_preds_\", \n",
    "#                                             window, \"_\", version, \"_\", \n",
    "#                                             cv, \"_\", model, \".rds\"))) |>\n",
    "#    mutate(prob = prob_logi) |> \n",
    "# #   #pivot_longer(cols = starts_with(\"prob\"), \n",
    "# #                #names_to = \"method\", \n",
    "# #                #values_to = \".pred_Lapse\") |>\n",
    "#    glimpse()\n",
    "\n",
    "probs <- read_csv(here::here(path_models, str_c(\"best_config_\",\n",
    "                                             version, \"_\",\n",
    "                                             cv, \"_\", model, \".csv\"))) |> \n",
    "  glimpse()\n"
   ],
   "id": "2b30e096-477b-4859-aea6-af9b55519efb"
  },
  {
   "cell_type": "markdown",
   "metadata": {},
   "source": [
    "Calculate auROC in each fold"
   ],
   "id": "c970b6e8-3696-49db-a657-dc8c75f87f35"
  },
  {
   "cell_type": "code",
   "execution_count": null,
   "metadata": {},
   "outputs": [],
   "source": [
    "# auROCs <- probs |>\n",
    "#   group_by(outer_split_num, inner_split_num) |>\n",
    "#   summarize(auROC = roc_auc_vec(truth = label, estimate = prob),\n",
    "#             .groups = \"drop\")\n",
    "# \n",
    "# auROCs |> pull(auROC) |> median()\n"
   ],
   "id": "7ba5be09-efd8-445b-889c-01051d772be4"
  },
  {
   "cell_type": "markdown",
   "metadata": {},
   "source": [
    "Generate plot across all *inner* folds."
   ],
   "id": "fe43abf5-ed2f-4bf4-a085-5d01fd29dc3b"
  },
  {
   "cell_type": "code",
   "execution_count": null,
   "metadata": {},
   "outputs": [
    {
     "output_type": "display_data",
     "metadata": {},
     "data": {
      "image/png": "[encoded data removed]"
     }
    }
   ],
   "source": [
    "\n",
    "# auROCs |> \n",
    "#   ggplot(aes(x = auROC)) +\n",
    "#   geom_histogram(bins = 10, fill = c(\"#af1f21\")) +\n",
    "#   geom_vline(xintercept = median(auROCs$auROC), color = c(\"#f29c96\"), lwd = 1, linetype=\"longdash\") +\n",
    "#   labs(x = \"auROC\", y = \"Frequency\")\n",
    "probs |> \n",
    "  ggplot(aes(x = roc_auc)) +\n",
    "  geom_histogram(bins = 15, color = c(\"#af1f21\"), fill = \"white\") +\n",
    "  #geom_step(bins = 10, fill = c(\"#af1f21\")) +\n",
    "  #stat_bin(geom=\"step\", bins = 10, color = c(\"#af1f21\"), lwd = 1) +\n",
    "  geom_vline(xintercept = median(probs$roc_auc), color = c(\"darkblue\"), lwd = 1, linetype=\"dashed\") +\n",
    "  scale_y_continuous(expand = c(0,0)) +\n",
    "  labs(x = \"auROC\", y = \"Frequency\")\n"
   ],
   "id": "cell-fig-auroc-histogram"
  },
  {
   "cell_type": "markdown",
   "metadata": {},
   "source": [
    "# Posteriors"
   ],
   "id": "a7c172cb-4c97-4aee-b2bb-8f3ab20e7bb2"
  },
  {
   "cell_type": "code",
   "execution_count": null,
   "metadata": {},
   "outputs": [
    {
     "output_type": "stream",
     "name": "stderr",
     "text": [
      "Model exists! Loading in..."
     ]
    }
   ],
   "source": [
    "# from ?perf_mod()\n",
    "# Repeated CV (id = repeat, id2 = fold within repeat)\n",
    "# with a common variance:  statistic ~ model + (model | id2/id)\n",
    "\n",
    "if(file.exists(here::here(path_models, str_c(\"pp_\",\n",
    "                                    version, \"_\",\n",
    "                                    cv, \"_\", model, \".rds\")))) {\n",
    "  \n",
    "  message(\"Model exists! Loading in...\")\n",
    "  \n",
    "  pp <- read_rds(here::here(path_models, str_c(\"pp_\",\n",
    "                                    version, \"_\",\n",
    "                                    cv, \"_\", model, \".rds\")))\n",
    "} else {\n",
    "  \n",
    "    message(\"Model does not exist! Running and saving out...\")\n",
    "  \n",
    "  set.seed(101)\n",
    "  \n",
    "  pp <- probs |> #auROCs |>\n",
    "    select(outer_split_num, inner_split_num, roc_auc) |> \n",
    "           #auROC) |> \n",
    "    rename(id = outer_split_num,\n",
    "           id2 = inner_split_num) |> \n",
    "    perf_mod(formula = statistic ~ 1 + (1 | id/id2),\n",
    "             # prior_intercept = rstanarm::student_t(autoscale = TRUE),\n",
    "             # prior = rstanarm::student_t(autoscale = TRUE),\n",
    "             transform = tidyposterior::logit_trans,  # for skewed & bounded AUC\n",
    "             iter = 13000, chains = 4,\n",
    "             adapt_delta = .99999999,\n",
    "             # cores = 4, seed = 12345,\n",
    "             family = gaussian)  \n",
    "\n",
    "\n",
    "  pp |> write_rds(here::here(path_models, str_c(\"pp_\",\n",
    "                                                version, \"_\",\n",
    "                                                cv, \"_\", model, \".rds\")))\n",
    "}\n"
   ],
   "id": "83e1cf4f-c48e-42c7-b678-69ac12c75fce"
  },
  {
   "cell_type": "markdown",
   "metadata": {},
   "source": [
    "Posterior graph as density plot"
   ],
   "id": "14e9e952-6ea1-4462-82e0-d148cc580762"
  },
  {
   "cell_type": "code",
   "execution_count": null,
   "metadata": {},
   "outputs": [
    {
     "output_type": "display_data",
     "metadata": {},
     "data": {
      "image/png": "[encoded data removed]"
     }
    }
   ],
   "source": [
    "\n",
    "pp_tidy <- pp |> \n",
    "  tidy(seed = 123)\n",
    "\n",
    "q <- c(0.025, 0.5, 0.975)\n",
    "\n",
    "ci_day <- pp_tidy |> \n",
    "  summarize(median = quantile(posterior, probs = q[2]),\n",
    "            lower = quantile(posterior, probs = q[1]), \n",
    "            upper = quantile(posterior, probs = q[3])) |> \n",
    "  mutate(y = 30)\n",
    "\n",
    "pp_tidy |> \n",
    "  ggplot(aes(x = posterior)) + \n",
    "  geom_density(color = c(\"#af1f21\"), fill = \"white\", alpha = 1, lwd = .8) +\n",
    "  #geom_segment(mapping = aes(y = y, yend = y, x = lower, xend = upper), color = c(\"#af1f21\"),\n",
    "                #data = ci_day, lwd = 1) +\n",
    "  geom_errorbar(aes(y = ci_day$y, xmin = ci_day$lower, xmax = ci_day$upper), color = c(\"darkblue\"), lwd = 1) +\n",
    "  geom_vline(xintercept = ci_day$median, color = c(\"darkblue\"), lwd = 1, linetype=\"dashed\") +\n",
    "  geom_vline(xintercept = .5, color = \"darkblue\", lwd = 1, linetype=\"dotted\") +\n",
    "  scale_x_continuous(limits=c(0.49,.76)) +\n",
    "  scale_y_continuous(expand = c(0,0)) +\n",
    "  ylab(\"Posterior Probability Density\") +\n",
    "  xlab(\"Area Under ROC Curve\")\n"
   ],
   "id": "cell-fig-pp"
  },
  {
   "cell_type": "code",
   "execution_count": null,
   "metadata": {},
   "outputs": [
    {
     "output_type": "stream",
     "name": "stdout",
     "text": [
      "# A tibble: 1 × 1\n",
      "   prob\n",
      "  <dbl>\n",
      "1     1"
     ]
    }
   ],
   "source": [
    "pp_tidy <- pp |> \n",
    "  tidy(seed = 123) |> \n",
    "  write_csv(here::here(\"objects\", \"pp_tidy.csv\"))\n",
    "\n",
    "pp_tidy |> \n",
    " summarize(prob = mean(posterior > .5)) \n"
   ],
   "id": "32e54071-89bc-426f-ad0a-4f7f1f81d45f"
  }
 ],
 "nbformat": 4,
 "nbformat_minor": 5,
 "metadata": {}
}
