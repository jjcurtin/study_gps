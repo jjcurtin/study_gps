{
 "cells": [
  {
   "cell_type": "markdown",
   "metadata": {},
   "source": [
    "# SHAPs\n",
    "\n",
    "John Curtin, modified by Claire Punturieri  \n",
    "October 23, 2024"
   ],
   "id": "2740690f-a215-4940-a4b2-49018b7fa1f8"
  },
  {
   "cell_type": "code",
   "execution_count": null,
   "metadata": {},
   "outputs": [],
   "source": [
    "study <- params$study\n",
    "cv <- params$cv\n",
    "algorithms <- params$algorithms\n",
    "version <- params$version\n",
    "window <- params$window\n",
    "model <- params$model"
   ],
   "id": "1242f995-4967-47f8-89ec-fdb10f40b436"
  },
  {
   "cell_type": "markdown",
   "metadata": {},
   "source": [
    "# Set up environment"
   ],
   "id": "61b53e3d-50ef-4cee-9eb8-0b369b8a9be0"
  },
  {
   "cell_type": "code",
   "execution_count": null,
   "metadata": {},
   "outputs": [
    {
     "output_type": "stream",
     "name": "stderr",
     "text": [
      "── Attaching core tidyverse packages ──────────────────────── tidyverse 2.0.0 ──\n",
      "✔ dplyr     1.1.4     ✔ readr     2.1.5\n",
      "✔ forcats   1.0.0     ✔ stringr   1.5.1\n",
      "✔ ggplot2   3.5.1     ✔ tibble    3.2.1\n",
      "✔ lubridate 1.9.3     ✔ tidyr     1.3.1\n",
      "✔ purrr     1.0.2     \n",
      "── Conflicts ────────────────────────────────────────── tidyverse_conflicts() ──\n",
      "✖ dplyr::filter() masks stats::filter()\n",
      "✖ dplyr::lag()    masks stats::lag()\n",
      "ℹ Use the conflicted package (<http://conflicted.r-lib.org/>) to force all conflicts to become errors"
     ]
    }
   ],
   "source": [
    "library(tidyverse)"
   ],
   "id": "43aab70e-3b6c-4af7-bed0-5870dbfb82d4"
  },
  {
   "cell_type": "code",
   "execution_count": null,
   "metadata": {},
   "outputs": [
    {
     "output_type": "stream",
     "name": "stdout",
     "text": [
      "Rows: 4,173,193\n",
      "Columns: 5\n",
      "Groups: id_obs [11,511]\n",
      "$ id_obs     <int> 1, 1, 1, 1, 1, 1, 1, 1, 1, 1, 1, 1, 1, 1, 1, 1, 1, 1, 1, 1,…\n",
      "$ variable   <fct> p168.raw_duration.risk.medium, p6.diff_duration.risk.high, …\n",
      "$ value      <dbl> -0.222449977, -0.022518206, 0.039494187, 0.073705416, 0.085…\n",
      "$ rfvalue    <dbl> 0.000000000, -0.001160714, 0.001160714, 0.000000000, 0.0434…\n",
      "$ mean_value <dbl> 0.181355553, 0.043778063, 0.167258377, 0.093508345, 0.10053…"
     ]
    },
    {
     "output_type": "stream",
     "name": "stdout",
     "text": [
      "Rows: 103,599\n",
      "Columns: 3\n",
      "Groups: id_obs [11,511]\n",
      "$ id_obs       <int> 1, 1, 1, 1, 1, 1, 1, 1, 1, 2, 2, 2, 2, 2, 2, 2, 2, 2, 3, …\n",
      "$ variable_grp <fct> alcohol availability at location, location to avoid in re…\n",
      "$ value        <dbl> 0.112337563, -0.017883652, 0.004709006, -0.001830503, 0.0…"
     ]
    }
   ],
   "source": [
    "#source(here::here(path_mak, \"mak_ema_shaps.R\"))\n",
    "\n",
    "shaps <- read_rds(file.path(path_models, str_c(\"inner_shaps_\", \n",
    "                                           window, \"_\", version, \"_\", \n",
    "                                           cv, \"_\", model, \".rds\"))) |>\n",
    "  #pivot_longer(cols = starts_with(\"prob\"), \n",
    "               #names_to = \"method\", \n",
    "               #values_to = \".pred_Lapse\") |>\n",
    "  glimpse()"
   ],
   "id": "366fe674-160c-44d5-895d-a499f05ee8d6"
  },
  {
   "cell_type": "code",
   "execution_count": null,
   "metadata": {},
   "outputs": [
    {
     "output_type": "display_data",
     "metadata": {},
     "data": {
      "image/png": "[encoded data removed]"
     }
    }
   ],
   "source": [
    "#| label: fig-shaps-group\n",
    "#| fig-cap: Grouped SHAP values displaying relative feature importance calculated using mean absolute values. Larger log-odds values indicate greater contribution to predictions in the model.\n",
    "#| fig-height: 5\n",
    "#| fig-width: 5\n",
    "\n",
    "shaps_grp |>\n",
    "  group_by(variable_grp) |>\n",
    "  summarize(mean_value = (mean(abs(value)))) |> \n",
    "  mutate(group = reorder(variable_grp, mean_value)) |> #, sum)) |>\n",
    "  #mutate(window = fct(window, levels = c(\"week\", \"day\", \"hour\"))) |> \n",
    "  ggplot() +\n",
    "  geom_bar(aes(x = group, y = mean_value), stat = \"identity\", fill = \"#af1f21\") +\n",
    "  ylab(\"Mean |SHAP| value (in Log-Odds)\") +\n",
    "  xlab(\"\") +\n",
    "  coord_flip()"
   ],
   "id": "cell-fig-shaps-group"
  }
 ],
 "nbformat": 4,
 "nbformat_minor": 5,
 "metadata": {}
}
