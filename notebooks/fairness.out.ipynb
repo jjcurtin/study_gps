{
 "cells": [
  {
   "cell_type": "markdown",
   "metadata": {},
   "source": [
    "# Subgroup Analysis\n",
    "\n",
    "Coco Yu, modified by Claire Punturieri  \n",
    "October 17, 2024\n",
    "\n",
    "# Housekeeping\n",
    "\n",
    "## Code status\n",
    "\n",
    "## Notes\n",
    "\n",
    "# Set Up\n",
    "\n",
    "## Set Up Environment\n",
    "\n",
    "### Study parameters"
   ],
   "id": "d631d7fb-06c3-4e61-bde7-df4ddd5f8dca"
  },
  {
   "cell_type": "code",
   "execution_count": null,
   "metadata": {},
   "outputs": [],
   "source": [
    "study <- params$study\n",
    "cv <- params$cv\n",
    "algorithms <- params$algorithms\n",
    "version <- params$version\n",
    "window <- params$window\n",
    "model <- params$model\n"
   ],
   "id": "50fab9f3-1af6-44c1-afb7-9358fab9e24f"
  },
  {
   "cell_type": "markdown",
   "metadata": {},
   "source": [
    "### Defaults"
   ],
   "id": "0160c6a0-86f6-4156-9bec-1e1d69efa08a"
  },
  {
   "cell_type": "code",
   "execution_count": null,
   "metadata": {},
   "outputs": [
    {
     "output_type": "stream",
     "name": "stderr",
     "text": [
      "ℹ SHA-1 hash of file is \"77e91675366f10788c6bcb59fa1cfc9ee0c75281\""
     ]
    }
   ],
   "source": [
    "\n",
    "# handle conflicts\n",
    "options(conflicts.policy = \"depends.ok\")\n",
    "devtools::source_url(\"https://github.com/jjcurtin/lab_support/blob/main/fun_ml.R?raw=true\")\n"
   ],
   "id": "e63fd48e-a86f-4ff0-a690-3edae8150b5b"
  },
  {
   "cell_type": "markdown",
   "metadata": {},
   "source": [
    "### Packages for script"
   ],
   "id": "e6a2b1ad-339c-463e-8bc8-8d8feb240fb5"
  },
  {
   "cell_type": "code",
   "execution_count": null,
   "metadata": {},
   "outputs": [
    {
     "output_type": "stream",
     "name": "stderr",
     "text": [
      "── Attaching core tidyverse packages ──────────────────────── tidyverse 2.0.0 ──\n",
      "✔ dplyr     1.1.4     ✔ readr     2.1.5\n",
      "✔ forcats   1.0.0     ✔ stringr   1.5.1\n",
      "✔ ggplot2   3.5.1     ✔ tibble    3.2.1\n",
      "✔ lubridate 1.9.3     ✔ tidyr     1.3.1\n",
      "✔ purrr     1.0.2     \n",
      "── Conflicts ────────────────────────────────────────── tidyverse_conflicts() ──\n",
      "✖ dplyr::filter() masks stats::filter()\n",
      "✖ dplyr::lag()    masks stats::lag()\n",
      "ℹ Use the conflicted package (<http://conflicted.r-lib.org/>) to force all conflicts to become errors"
     ]
    },
    {
     "output_type": "stream",
     "name": "stderr",
     "text": [
      "── Attaching packages ────────────────────────────────────── tidymodels 1.2.0 ──\n",
      "✔ broom        1.0.6     ✔ rsample      1.2.1\n",
      "✔ dials        1.3.0     ✔ tune         1.2.1\n",
      "✔ infer        1.0.7     ✔ workflows    1.1.4\n",
      "✔ modeldata    1.4.0     ✔ workflowsets 1.1.0\n",
      "✔ parsnip      1.2.1     ✔ yardstick    1.3.1\n",
      "✔ recipes      1.1.0     \n",
      "── Conflicts ───────────────────────────────────────── tidymodels_conflicts() ──\n",
      "✖ scales::discard() masks purrr::discard()\n",
      "✖ dplyr::filter()   masks stats::filter()\n",
      "✖ recipes::fixed()  masks stringr::fixed()\n",
      "✖ dplyr::lag()      masks stats::lag()\n",
      "✖ yardstick::spec() masks readr::spec()\n",
      "✖ recipes::step()   masks stats::step()\n",
      "• Use tidymodels_prefer() to resolve common conflicts."
     ]
    },
    {
     "output_type": "stream",
     "name": "stderr",
     "text": [
      "ℹ SHA-1 hash of file is \"a58e57da996d1b70bb9a5b58241325d6fd78890f\""
     ]
    }
   ],
   "source": [
    "\n",
    "library(tidyverse)\n"
   ],
   "id": "63fabd45-d55f-4b61-9bb6-a2d76ac9e472"
  },
  {
   "cell_type": "markdown",
   "metadata": {},
   "source": [
    "### Absolute paths"
   ],
   "id": "93f29e08-8042-4c84-9684-a249efae05a4"
  },
  {
   "cell_type": "code",
   "execution_count": null,
   "metadata": {},
   "outputs": [],
   "source": [
    "path_models <- format_path(str_c(\"studydata/risk/models/\", study))\n",
    "path_gps <- format_path(str_c(\"studydata/risk/data_processed/\", study))\n",
    "path_shared <- format_path(str_c(\"studydata/risk/data_processed/shared\"))\n"
   ],
   "id": "fea836ff-bd09-4363-b413-23480460f49d"
  },
  {
   "cell_type": "markdown",
   "metadata": {},
   "source": [
    "## Data Cleaning\n",
    "\n",
    "Read in Data"
   ],
   "id": "fb9d4dfd-7926-4820-9610-c5ee22adb5f6"
  },
  {
   "cell_type": "code",
   "execution_count": null,
   "metadata": {},
   "outputs": [
    {
     "output_type": "stream",
     "name": "stdout",
     "text": [
      "Rows: 310,797\n",
      "Columns: 7\n",
      "$ id_obs          <int> 446, 447, 448, 449, 450, 451, 452, 453, 454, 455, 456,…\n",
      "$ outer_split_num <int> 1, 1, 1, 1, 1, 1, 1, 1, 1, 1, 1, 1, 1, 1, 1, 1, 1, 1, …\n",
      "$ inner_split_num <int> 1, 1, 1, 1, 1, 1, 1, 1, 1, 1, 1, 1, 1, 1, 1, 1, 1, 1, …\n",
      "$ prob_raw        <dbl> 0.3209265, 0.3209265, 0.3373791, 0.3209265, 0.3209265,…\n",
      "$ prob_iso        <dbl> 0, 0, 0, 0, 0, 0, 0, 0, 0, 0, 0, 0, 0, 0, 0, 0, 0, 0, …\n",
      "$ prob_logi       <dbl> 0.08943453, 0.08943453, 0.07479958, 0.08943453, 0.0894…\n",
      "$ label           <fct> no lapse, no lapse, no lapse, no lapse, no lapse, no l…"
     ]
    },
    {
     "output_type": "stream",
     "name": "stdout",
     "text": [
      "Rows: 208\n",
      "Columns: 16\n",
      "$ dem_1   <dbl> 57, 35, 22, 39, 22, 38, 22, 38, 25, 45, 63, 50, 53, 26, 52, 54…\n",
      "$ dem_2   <chr> \"Male\", \"Female\", \"Female\", \"Male\", \"Male\", \"Male\", \"Female\", …\n",
      "$ dem_3   <chr> \"White/Caucasian\", \"White/Caucasian\", \"White/Caucasian\", \"Whit…\n",
      "$ dem_3_1 <chr> NA, NA, NA, NA, NA, NA, NA, NA, \"Filipino and Black\", NA, NA, …\n",
      "$ dem_4   <chr> \"No, I am not of Hispanic, Latino, or Spanish origin\", \"No, I …\n",
      "$ dem_4_1 <chr> NA, NA, NA, NA, NA, NA, NA, NA, NA, NA, NA, NA, NA, NA, NA, NA…\n",
      "$ dem_5   <chr> \"College degree\", \"2-Year degree\", \"High school or GED\", \"Coll…\n",
      "$ dem_6   <chr> \"Unemployed\", \"Employed\", \"Employed\", \"Employed\", \"Employed\", …\n",
      "$ dem_6_1 <chr> NA, \"Full-time\", \"Full-time\", \"Full-time\", \"Part-time\", \"Full-…\n",
      "$ dem_7   <dbl> 12000, 36920, 20064, 130000, 5000, 70000, 8000, 57000, 10000, …\n",
      "$ dem_8   <chr> \"Never Married\", \"Never Married\", \"Never Married\", \"Married\", …\n",
      "$ dem2_2  <dbl> 2, 2, 4, 1, 2, 1, 4, 2, 2, 2, 0, 2, 3, 2, 1, 0, 2, 2, 2, 1, 2,…\n",
      "$ dem2_4  <dbl> 0, 1, 0, 1, NA, 1, 0, 0, 0, 0, 2, 0, 1, 0, 0, 0, 0, 0, 0, 1, 0…\n",
      "$ dem2_6  <dbl> 0, 4, 0, 2, NA, NA, 0, 2, 0, 2, 1, 2, 0, 0, 1, 0, 0, 0, 2, 0, …\n",
      "$ dem2_8  <dbl> 0, 0, 0, NA, NA, NA, 0, 0, 0, 0, 1, 0, 0, 0, 0, 0, 0, 0, 0, 0,…\n",
      "$ subid   <dbl> 1, 2, 3, 5, 6, 7, 8, 10, 11, 12, 13, 14, 15, 16, 17, 9, 18, 19…"
     ]
    }
   ],
   "source": [
    "probs <- read_rds(here::here(path_models, str_c(\"inner_preds_\", window, \"_\", version, \"_\",\n",
    "                                         cv, \"_\", model, \".rds\"))) |> \n",
    "  #pivot_longer(cols = starts_with(\"prob\"), \n",
    "               #names_to = \"method\", \n",
    "               #values_to = \".pred_Lapse\") |>\n",
    "  glimpse()\n"
   ],
   "id": "eda8fded-8902-42b6-9fdf-0b5d32868029"
  },
  {
   "cell_type": "markdown",
   "metadata": {},
   "source": [
    "Find demographic groups"
   ],
   "id": "9cd7e3b2-212e-4834-bd0e-d3ff9b6eae76"
  },
  {
   "cell_type": "code",
   "execution_count": null,
   "metadata": {},
   "outputs": [
    {
     "output_type": "stream",
     "name": "stdout",
     "text": [
      "Rows: 11,511\n",
      "Columns: 6\n",
      "$ subid  <dbl> 1, 1, 1, 1, 1, 1, 1, 1, 1, 1, 1, 1, 1, 1, 1, 1, 1, 1, 1, 1, 1, …\n",
      "$ id_obs <int> 1, 2, 3, 4, 5, 6, 7, 8, 9, 10, 11, 12, 13, 14, 15, 16, 17, 18, …\n",
      "$ race   <chr> \"white\", \"white\", \"white\", \"white\", \"white\", \"white\", \"white\", …\n",
      "$ sex    <chr> \"male\", \"male\", \"male\", \"male\", \"male\", \"male\", \"male\", \"male\",…\n",
      "$ age    <chr> \"older\", \"older\", \"older\", \"older\", \"older\", \"older\", \"older\", …\n",
      "$ income <chr> \"below_poverty\", \"below_poverty\", \"below_poverty\", \"below_pover…"
     ]
    }
   ],
   "source": [
    "demographics <- labels |> \n",
    "  left_join(screen, by = \"subid\") |> \n",
    "  select(-day_start, -day_end, -lapse) |> \n",
    "  distinct() |>\n",
    "  mutate(\n",
    "    race = case_when(\n",
    "      dem_3 == \"White/Caucasian\" & grepl(\"No\", dem_4) ~ \"white\",\n",
    "      dem_3 != \"White/Caucasian\" | grepl(\"Yes\", dem_4) ~ \"non_white\"),\n",
    "    sex = if_else(dem_2 == \"Female\", \"female\", \"male\"),\n",
    "    age = if_else(dem_1 >= 55, \"older\", \"younger\"),\n",
    "    income = if_else(dem_7 <= .5 * 30000, \"below_poverty\", \"above_poverty\")\n",
    "  ) |> \n",
    "  select(-starts_with(\"dem\")) |> \n",
    "  glimpse()\n"
   ],
   "id": "f6a57948-3ac8-4318-bd2f-51200ef4273e"
  },
  {
   "cell_type": "code",
   "execution_count": null,
   "metadata": {},
   "outputs": [],
   "source": [
    "probs <- probs |> \n",
    "  left_join(demographics, by = \"id_obs\")\n"
   ],
   "id": "b9681249-06c4-412f-aa71-301c35179e96"
  },
  {
   "cell_type": "markdown",
   "metadata": {},
   "source": [
    "## Calculate auROC"
   ],
   "id": "61a0c3b8-2e34-4faf-bf2f-8ffe22e1cd80"
  },
  {
   "cell_type": "code",
   "execution_count": null,
   "metadata": {},
   "outputs": [
    {
     "output_type": "stream",
     "name": "stderr",
     "text": [
      "Warning: There was 1 warning in `summarize()`.\n",
      "ℹ In argument: `auroc = roc_auc(cur_data(), prob_logi, truth =\n",
      "  label)$.estimate`.\n",
      "ℹ In group 1: `inner_split_num = 1` and `outer_split_num = 1`.\n",
      "Caused by warning:\n",
      "! `cur_data()` was deprecated in dplyr 1.1.0.\n",
      "ℹ Please use `pick()` instead."
     ]
    },
    {
     "output_type": "stream",
     "name": "stderr",
     "text": [
      "`summarise()` has grouped output by 'inner_split_num'. You can override using\n",
      "the `.groups` argument."
     ]
    }
   ],
   "source": [
    "auroc_all <- probs |> \n",
    "  group_by(inner_split_num, outer_split_num) |> \n",
    "  summarize(auroc = roc_auc(cur_data(), prob_logi, truth = label)$.estimate)\n"
   ],
   "id": "2c8a22f3-0504-4af6-8d55-34518d2833e7"
  },
  {
   "cell_type": "code",
   "execution_count": null,
   "metadata": {},
   "outputs": [
    {
     "output_type": "stream",
     "name": "stderr",
     "text": [
      "Warning: There were 52 warnings in `summarize()`.\n",
      "The first warning was:\n",
      "ℹ In argument: `auroc = roc_auc(cur_data(), prob_logi, truth =\n",
      "  label)$.estimate`.\n",
      "ℹ In group 16: `inner_split_num = 1`, `outer_split_num = 9`, `race =\n",
      "  \"non_white\"`.\n",
      "Caused by warning:\n",
      "! No event observations were detected in `truth` with event level 'lapse'.\n",
      "ℹ Run `dplyr::last_dplyr_warnings()` to see the 51 remaining warnings."
     ]
    },
    {
     "output_type": "stream",
     "name": "stderr",
     "text": [
      "`summarise()` has grouped output by 'inner_split_num', 'outer_split_num'. You\n",
      "can override using the `.groups` argument."
     ]
    },
    {
     "output_type": "stream",
     "name": "stderr",
     "text": [
      "Warning: There were 3 warnings in `summarize()`.\n",
      "The first warning was:\n",
      "ℹ In argument: `auroc = roc_auc(cur_data(), prob_logi, truth =\n",
      "  label)$.estimate`.\n",
      "ℹ In group 94: `inner_split_num = 2`, `outer_split_num = 17`, `sex = \"male\"`.\n",
      "Caused by warning:\n",
      "! No event observations were detected in `truth` with event level 'lapse'.\n",
      "ℹ Run `dplyr::last_dplyr_warnings()` to see the 2 remaining warnings."
     ]
    },
    {
     "output_type": "stream",
     "name": "stderr",
     "text": [
      "`summarise()` has grouped output by 'inner_split_num', 'outer_split_num'. You\n",
      "can override using the `.groups` argument."
     ]
    },
    {
     "output_type": "stream",
     "name": "stderr",
     "text": [
      "Warning: There were 40 warnings in `summarize()`.\n",
      "The first warning was:\n",
      "ℹ In argument: `auroc = roc_auc(cur_data(), prob_logi, truth =\n",
      "  label)$.estimate`.\n",
      "ℹ In group 13: `inner_split_num = 1`, `outer_split_num = 8`, `age = \"older\"`.\n",
      "Caused by warning:\n",
      "! No event observations were detected in `truth` with event level 'lapse'.\n",
      "ℹ Run `dplyr::last_dplyr_warnings()` to see the 39 remaining warnings."
     ]
    },
    {
     "output_type": "stream",
     "name": "stderr",
     "text": [
      "`summarise()` has grouped output by 'inner_split_num', 'outer_split_num'. You\n",
      "can override using the `.groups` argument."
     ]
    },
    {
     "output_type": "stream",
     "name": "stderr",
     "text": [
      "Warning: There were 14 warnings in `summarize()`.\n",
      "The first warning was:\n",
      "ℹ In argument: `auroc = roc_auc(cur_data(), prob_logi, truth =\n",
      "  label)$.estimate`.\n",
      "ℹ In group 90: `inner_split_num = 2`, `outer_split_num = 15`, `income =\n",
      "  \"below_poverty\"`.\n",
      "Caused by warning:\n",
      "! No event observations were detected in `truth` with event level 'lapse'.\n",
      "ℹ Run `dplyr::last_dplyr_warnings()` to see the 13 remaining warnings."
     ]
    },
    {
     "output_type": "stream",
     "name": "stderr",
     "text": [
      "`summarise()` has grouped output by 'inner_split_num', 'outer_split_num'. You\n",
      "can override using the `.groups` argument."
     ]
    }
   ],
   "source": [
    "auroc_race <- probs |> \n",
    "  group_by(inner_split_num, outer_split_num, race) |> \n",
    "  summarize(auroc = roc_auc(cur_data(), prob_logi, truth = label)$.estimate) |> \n",
    "  ungroup() |> \n",
    "  rename(subgroup = race)\n"
   ],
   "id": "0e0d6fd7-cea8-471c-8688-2233c937f505"
  },
  {
   "cell_type": "markdown",
   "metadata": {},
   "source": [
    "## Model Comparison"
   ],
   "id": "f750182b-10e0-4e04-a35e-22dcf2fed37b"
  },
  {
   "cell_type": "code",
   "execution_count": null,
   "metadata": {},
   "outputs": [],
   "source": [
    "# contrast_table <- function(df, levels){\n",
    "#   df |> \n",
    "#     filter(subgroup != \"all\") |>\n",
    "#     select(c(\"auroc\", \"subgroup\", \"inner_split_num\", \"outer_split_num\")) |> \n",
    "#     group_by(subgroup) |>\n",
    "#     pivot_wider(values_from = c(\"auroc\"), names_from = subgroup) |>\n",
    "#     rename(id = outer_split_num, id2 = inner_split_num) |>\n",
    "#     perf_mod(formula = statistic ~ model + (1 | id/id2),\n",
    "#              # prior_intercept = rstanarm::student_t(autoscale = TRUE),\n",
    "#              # prior = rstanarm::student_t(autoscale = TRUE),\n",
    "#              # transform = tidyposterior::logit_trans,  # for skewed & bounded AUC\n",
    "#              # iter = 2000, chains = 4,\n",
    "#              adapt_delta = .99,\n",
    "#              # cores = 4, seed = 12345,\n",
    "#              family = gaussian, verbose = FALSE) |> \n",
    "#     contrast_models(list_1 = levels[1], list_2 = levels[2]) |> \n",
    "#     summary(size = 0) |> \n",
    "#     mutate(metrics = \"auroc\", .before = contrast)\n",
    "#   }\n"
   ],
   "id": "6e9da2b8-2574-4164-9710-7fe087807a30"
  },
  {
   "cell_type": "code",
   "execution_count": null,
   "metadata": {},
   "outputs": [],
   "source": [
    "# contrast_table(auroc_race, c(\"white\", \"non_white\"))\n",
    "# contrast_table(auroc_sex, c(\"male\", \"female\"))\n",
    "# contrast_table(auroc_age, c(\"younger\", \"older\"))\n",
    "# contrast_table(auroc_income, c(\"above_poverty\", \"below_poverty\"))\n"
   ],
   "id": "986f2804-8a7e-4c7e-817c-b8e5d4d7d004"
  },
  {
   "cell_type": "markdown",
   "metadata": {},
   "source": [
    "## CY figure\n",
    "\n",
    "Plots"
   ],
   "id": "6d4592dc-3a4e-48b7-bf83-22af3597aa2a"
  },
  {
   "cell_type": "code",
   "execution_count": null,
   "metadata": {},
   "outputs": [],
   "source": [
    "# auroc_plot <- auroc_race |> \n",
    "#   mutate(group = \"race\") |> \n",
    "#   bind_rows(auroc_sex |> mutate(group = \"sex\")) |> \n",
    "#   bind_rows(auroc_age |> mutate(group = \"age\")) |> \n",
    "#   bind_rows(auroc_income |> mutate(group = \"income\"))\n"
   ],
   "id": "16950b0b-7a37-4c37-8a0b-5b0ed38f2ca2"
  },
  {
   "cell_type": "code",
   "execution_count": null,
   "metadata": {},
   "outputs": [],
   "source": [
    "# ggpubr::ggarrange(\n",
    "#   auroc_race |> \n",
    "#     ggplot(aes(x = factor(subgroup, levels = c(\"all\", \"white\", \"non_white\")), \n",
    "#                y = auroc, fill = subgroup)) +\n",
    "#     geom_boxplot() +\n",
    "#     theme(legend.position = \"none\", axis.text.x = element_text(angle = 10)) +\n",
    "#     scale_fill_manual(values = c(\"#80B1D3\", \"#B5D66E\", \"#F28072\")) +\n",
    "#     ylim(0, 1) +\n",
    "#     labs(x = \"Race\"),\n",
    "#   auroc_sex |> \n",
    "#     ggplot(aes(x = factor(subgroup, levels = c(\"all\", \"male\", \"female\")),\n",
    "#                y = auroc, fill = subgroup)) +\n",
    "#     geom_boxplot() +\n",
    "#     theme(legend.position = \"none\", axis.text.x = element_text(angle = 10)) +\n",
    "#     scale_fill_manual(values = c(\"#80B1D3\", \"#B5D66E\", \"#F28072\")) +\n",
    "#     ylim(0, 1) +\n",
    "#     labs(x = \"Sex\"),\n",
    "#   auroc_age |> \n",
    "#     ggplot(aes(x = factor(subgroup, levels = c(\"all\", \"younger\", \"older\")),\n",
    "#                y = auroc, fill = subgroup)) +\n",
    "#     geom_boxplot() +\n",
    "#     theme(legend.position = \"none\", axis.text.x = element_text(angle = 10)) +\n",
    "#     scale_fill_manual(values = c(\"#80B1D3\", \"#B5D66E\", \"#F28072\")) +\n",
    "#     ylim(0, 1) +\n",
    "#     labs(x = \"Age\"),\n",
    "#   auroc_income |> \n",
    "#     ggplot(aes(x = factor(subgroup, levels = \n",
    "#                             c(\"all\", \"above_poverty\", \"below_poverty\")),\n",
    "#                y = auroc, fill = subgroup)) +\n",
    "#     geom_boxplot() +\n",
    "#     theme(legend.position = \"none\", axis.text.x = element_text(angle = 10)) +\n",
    "#     scale_fill_manual(values = c(\"#80B1D3\", \"#B5D66E\", \"#F28072\")) +\n",
    "#     ylim(0, 1) +\n",
    "#     labs(x = \"Income\")\n",
    "# )\n"
   ],
   "id": "3e3e1aa2-6455-43fc-8f46-a4591f913615"
  },
  {
   "cell_type": "markdown",
   "metadata": {},
   "source": [
    "## JC figure"
   ],
   "id": "d955b608-1ca1-48fb-adf4-a8d99e4f6d30"
  },
  {
   "cell_type": "code",
   "execution_count": null,
   "metadata": {},
   "outputs": [],
   "source": [
    "posterior_auroc <- function(df, levels){\n",
    "  q = c(.025, .5, .975)\n",
    "\n",
    "  df |> \n",
    "    filter(subgroup != \"all\") |>\n",
    "    group_by(subgroup) |>\n",
    "    pivot_wider(values_from = auroc, names_from = subgroup) |>\n",
    "    rename(id = inner_split_num, id2 = outer_split_num) |>\n",
    "    perf_mod(formula = statistic ~ model + (1 | id2/id),\n",
    "             # prior_intercept = rstanarm::student_t(autoscale = TRUE),\n",
    "             # prior = rstanarm::student_t(autoscale = TRUE),\n",
    "             # transform = tidyposterior::logit_trans,  # for skewed & bounded AUC\n",
    "             # iter = 2000, chains = 4,\n",
    "             adapt_delta = .99,\n",
    "             # cores = 4, seed = 12345,\n",
    "             family = gaussian, verbose = FALSE)   |> \n",
    "    # output of this needs to go into contrast models\n",
    "    tidy(seed = 123) |> \n",
    "    group_by(model) |> \n",
    "    summarize(median = quantile(posterior, probs = q[2]),\n",
    "              lower = quantile(posterior, probs = q[1]), \n",
    "              upper = quantile(posterior, probs = q[3]))\n",
    "}\n"
   ],
   "id": "8b54cccb-17b3-4c4a-bf53-99f037e90c82"
  },
  {
   "cell_type": "code",
   "execution_count": null,
   "metadata": {},
   "outputs": [
    {
     "output_type": "stream",
     "name": "stdout",
     "text": [
      "\n",
      "SAMPLING FOR MODEL 'continuous' NOW (CHAIN 1).\n",
      "Chain 1: \n",
      "Chain 1: Gradient evaluation took 0.002327 seconds\n",
      "Chain 1: 1000 transitions using 10 leapfrog steps per transition would take 23.27 seconds.\n",
      "Chain 1: Adjust your expectations accordingly!\n",
      "Chain 1: \n",
      "Chain 1: \n",
      "Chain 1: Iteration:    1 / 2000 [  0%]  (Warmup)\n",
      "Chain 1: Iteration:  200 / 2000 [ 10%]  (Warmup)\n",
      "Chain 1: Iteration:  400 / 2000 [ 20%]  (Warmup)\n",
      "Chain 1: Iteration:  600 / 2000 [ 30%]  (Warmup)\n",
      "Chain 1: Iteration:  800 / 2000 [ 40%]  (Warmup)\n",
      "Chain 1: Iteration: 1000 / 2000 [ 50%]  (Warmup)\n",
      "Chain 1: Iteration: 1001 / 2000 [ 50%]  (Sampling)\n",
      "Chain 1: Iteration: 1200 / 2000 [ 60%]  (Sampling)\n",
      "Chain 1: Iteration: 1400 / 2000 [ 70%]  (Sampling)\n",
      "Chain 1: Iteration: 1600 / 2000 [ 80%]  (Sampling)\n",
      "Chain 1: Iteration: 1800 / 2000 [ 90%]  (Sampling)\n",
      "Chain 1: Iteration: 2000 / 2000 [100%]  (Sampling)\n",
      "Chain 1: \n",
      "Chain 1:  Elapsed Time: 16.024 seconds (Warm-up)\n",
      "Chain 1:                3.586 seconds (Sampling)\n",
      "Chain 1:                19.61 seconds (Total)\n",
      "Chain 1: \n",
      "\n",
      "SAMPLING FOR MODEL 'continuous' NOW (CHAIN 2).\n",
      "Chain 2: \n",
      "Chain 2: Gradient evaluation took 8.6e-05 seconds\n",
      "Chain 2: 1000 transitions using 10 leapfrog steps per transition would take 0.86 seconds.\n",
      "Chain 2: Adjust your expectations accordingly!\n",
      "Chain 2: \n",
      "Chain 2: \n",
      "Chain 2: Iteration:    1 / 2000 [  0%]  (Warmup)\n",
      "Chain 2: Iteration:  200 / 2000 [ 10%]  (Warmup)\n",
      "Chain 2: Iteration:  400 / 2000 [ 20%]  (Warmup)\n",
      "Chain 2: Iteration:  600 / 2000 [ 30%]  (Warmup)\n",
      "Chain 2: Iteration:  800 / 2000 [ 40%]  (Warmup)\n",
      "Chain 2: Iteration: 1000 / 2000 [ 50%]  (Warmup)\n",
      "Chain 2: Iteration: 1001 / 2000 [ 50%]  (Sampling)\n",
      "Chain 2: Iteration: 1200 / 2000 [ 60%]  (Sampling)\n",
      "Chain 2: Iteration: 1400 / 2000 [ 70%]  (Sampling)\n",
      "Chain 2: Iteration: 1600 / 2000 [ 80%]  (Sampling)\n",
      "Chain 2: Iteration: 1800 / 2000 [ 90%]  (Sampling)\n",
      "Chain 2: Iteration: 2000 / 2000 [100%]  (Sampling)\n",
      "Chain 2: \n",
      "Chain 2:  Elapsed Time: 13.223 seconds (Warm-up)\n",
      "Chain 2:                4.899 seconds (Sampling)\n",
      "Chain 2:                18.122 seconds (Total)\n",
      "Chain 2: \n",
      "\n",
      "SAMPLING FOR MODEL 'continuous' NOW (CHAIN 3).\n",
      "Chain 3: \n",
      "Chain 3: Gradient evaluation took 9.1e-05 seconds\n",
      "Chain 3: 1000 transitions using 10 leapfrog steps per transition would take 0.91 seconds.\n",
      "Chain 3: Adjust your expectations accordingly!\n",
      "Chain 3: \n",
      "Chain 3: \n",
      "Chain 3: Iteration:    1 / 2000 [  0%]  (Warmup)\n",
      "Chain 3: Iteration:  200 / 2000 [ 10%]  (Warmup)\n",
      "Chain 3: Iteration:  400 / 2000 [ 20%]  (Warmup)\n",
      "Chain 3: Iteration:  600 / 2000 [ 30%]  (Warmup)\n",
      "Chain 3: Iteration:  800 / 2000 [ 40%]  (Warmup)\n",
      "Chain 3: Iteration: 1000 / 2000 [ 50%]  (Warmup)\n",
      "Chain 3: Iteration: 1001 / 2000 [ 50%]  (Sampling)\n",
      "Chain 3: Iteration: 1200 / 2000 [ 60%]  (Sampling)\n",
      "Chain 3: Iteration: 1400 / 2000 [ 70%]  (Sampling)\n",
      "Chain 3: Iteration: 1600 / 2000 [ 80%]  (Sampling)\n",
      "Chain 3: Iteration: 1800 / 2000 [ 90%]  (Sampling)\n",
      "Chain 3: Iteration: 2000 / 2000 [100%]  (Sampling)\n",
      "Chain 3: \n",
      "Chain 3:  Elapsed Time: 13.934 seconds (Warm-up)\n",
      "Chain 3:                4.865 seconds (Sampling)\n",
      "Chain 3:                18.799 seconds (Total)\n",
      "Chain 3: \n",
      "\n",
      "SAMPLING FOR MODEL 'continuous' NOW (CHAIN 4).\n",
      "Chain 4: \n",
      "Chain 4: Gradient evaluation took 8.1e-05 seconds\n",
      "Chain 4: 1000 transitions using 10 leapfrog steps per transition would take 0.81 seconds.\n",
      "Chain 4: Adjust your expectations accordingly!\n",
      "Chain 4: \n",
      "Chain 4: \n",
      "Chain 4: Iteration:    1 / 2000 [  0%]  (Warmup)\n",
      "Chain 4: Iteration:  200 / 2000 [ 10%]  (Warmup)\n",
      "Chain 4: Iteration:  400 / 2000 [ 20%]  (Warmup)\n",
      "Chain 4: Iteration:  600 / 2000 [ 30%]  (Warmup)\n",
      "Chain 4: Iteration:  800 / 2000 [ 40%]  (Warmup)\n",
      "Chain 4: Iteration: 1000 / 2000 [ 50%]  (Warmup)\n",
      "Chain 4: Iteration: 1001 / 2000 [ 50%]  (Sampling)\n",
      "Chain 4: Iteration: 1200 / 2000 [ 60%]  (Sampling)\n",
      "Chain 4: Iteration: 1400 / 2000 [ 70%]  (Sampling)\n",
      "Chain 4: Iteration: 1600 / 2000 [ 80%]  (Sampling)\n",
      "Chain 4: Iteration: 1800 / 2000 [ 90%]  (Sampling)\n",
      "Chain 4: Iteration: 2000 / 2000 [100%]  (Sampling)\n",
      "Chain 4: \n",
      "Chain 4:  Elapsed Time: 15.035 seconds (Warm-up)\n",
      "Chain 4:                4.99 seconds (Sampling)\n",
      "Chain 4:                20.025 seconds (Total)\n",
      "Chain 4: "
     ]
    },
    {
     "output_type": "stream",
     "name": "stdout",
     "text": [
      "\n",
      "SAMPLING FOR MODEL 'continuous' NOW (CHAIN 1).\n",
      "Chain 1: \n",
      "Chain 1: Gradient evaluation took 0.0001 seconds\n",
      "Chain 1: 1000 transitions using 10 leapfrog steps per transition would take 1 seconds.\n",
      "Chain 1: Adjust your expectations accordingly!\n",
      "Chain 1: \n",
      "Chain 1: \n",
      "Chain 1: Iteration:    1 / 2000 [  0%]  (Warmup)\n",
      "Chain 1: Iteration:  200 / 2000 [ 10%]  (Warmup)\n",
      "Chain 1: Iteration:  400 / 2000 [ 20%]  (Warmup)\n",
      "Chain 1: Iteration:  600 / 2000 [ 30%]  (Warmup)\n",
      "Chain 1: Iteration:  800 / 2000 [ 40%]  (Warmup)\n",
      "Chain 1: Iteration: 1000 / 2000 [ 50%]  (Warmup)\n",
      "Chain 1: Iteration: 1001 / 2000 [ 50%]  (Sampling)\n",
      "Chain 1: Iteration: 1200 / 2000 [ 60%]  (Sampling)\n",
      "Chain 1: Iteration: 1400 / 2000 [ 70%]  (Sampling)\n",
      "Chain 1: Iteration: 1600 / 2000 [ 80%]  (Sampling)\n",
      "Chain 1: Iteration: 1800 / 2000 [ 90%]  (Sampling)\n",
      "Chain 1: Iteration: 2000 / 2000 [100%]  (Sampling)\n",
      "Chain 1: \n",
      "Chain 1:  Elapsed Time: 15.203 seconds (Warm-up)\n",
      "Chain 1:                4.49 seconds (Sampling)\n",
      "Chain 1:                19.693 seconds (Total)\n",
      "Chain 1: \n",
      "\n",
      "SAMPLING FOR MODEL 'continuous' NOW (CHAIN 2).\n",
      "Chain 2: \n",
      "Chain 2: Gradient evaluation took 7.5e-05 seconds\n",
      "Chain 2: 1000 transitions using 10 leapfrog steps per transition would take 0.75 seconds.\n",
      "Chain 2: Adjust your expectations accordingly!\n",
      "Chain 2: \n",
      "Chain 2: \n",
      "Chain 2: Iteration:    1 / 2000 [  0%]  (Warmup)\n",
      "Chain 2: Iteration:  200 / 2000 [ 10%]  (Warmup)\n",
      "Chain 2: Iteration:  400 / 2000 [ 20%]  (Warmup)\n",
      "Chain 2: Iteration:  600 / 2000 [ 30%]  (Warmup)\n",
      "Chain 2: Iteration:  800 / 2000 [ 40%]  (Warmup)\n",
      "Chain 2: Iteration: 1000 / 2000 [ 50%]  (Warmup)\n",
      "Chain 2: Iteration: 1001 / 2000 [ 50%]  (Sampling)\n",
      "Chain 2: Iteration: 1200 / 2000 [ 60%]  (Sampling)\n",
      "Chain 2: Iteration: 1400 / 2000 [ 70%]  (Sampling)\n",
      "Chain 2: Iteration: 1600 / 2000 [ 80%]  (Sampling)\n",
      "Chain 2: Iteration: 1800 / 2000 [ 90%]  (Sampling)\n",
      "Chain 2: Iteration: 2000 / 2000 [100%]  (Sampling)\n",
      "Chain 2: \n",
      "Chain 2:  Elapsed Time: 11.261 seconds (Warm-up)\n",
      "Chain 2:                4.605 seconds (Sampling)\n",
      "Chain 2:                15.866 seconds (Total)\n",
      "Chain 2: \n",
      "\n",
      "SAMPLING FOR MODEL 'continuous' NOW (CHAIN 3).\n",
      "Chain 3: \n",
      "Chain 3: Gradient evaluation took 7.2e-05 seconds\n",
      "Chain 3: 1000 transitions using 10 leapfrog steps per transition would take 0.72 seconds.\n",
      "Chain 3: Adjust your expectations accordingly!\n",
      "Chain 3: \n",
      "Chain 3: \n",
      "Chain 3: Iteration:    1 / 2000 [  0%]  (Warmup)\n",
      "Chain 3: Iteration:  200 / 2000 [ 10%]  (Warmup)\n",
      "Chain 3: Iteration:  400 / 2000 [ 20%]  (Warmup)\n",
      "Chain 3: Iteration:  600 / 2000 [ 30%]  (Warmup)\n",
      "Chain 3: Iteration:  800 / 2000 [ 40%]  (Warmup)\n",
      "Chain 3: Iteration: 1000 / 2000 [ 50%]  (Warmup)\n",
      "Chain 3: Iteration: 1001 / 2000 [ 50%]  (Sampling)\n",
      "Chain 3: Iteration: 1200 / 2000 [ 60%]  (Sampling)\n",
      "Chain 3: Iteration: 1400 / 2000 [ 70%]  (Sampling)\n",
      "Chain 3: Iteration: 1600 / 2000 [ 80%]  (Sampling)\n",
      "Chain 3: Iteration: 1800 / 2000 [ 90%]  (Sampling)\n",
      "Chain 3: Iteration: 2000 / 2000 [100%]  (Sampling)\n",
      "Chain 3: \n",
      "Chain 3:  Elapsed Time: 12.947 seconds (Warm-up)\n",
      "Chain 3:                4.552 seconds (Sampling)\n",
      "Chain 3:                17.499 seconds (Total)\n",
      "Chain 3: \n",
      "\n",
      "SAMPLING FOR MODEL 'continuous' NOW (CHAIN 4).\n",
      "Chain 4: \n",
      "Chain 4: Gradient evaluation took 0.000172 seconds\n",
      "Chain 4: 1000 transitions using 10 leapfrog steps per transition would take 1.72 seconds.\n",
      "Chain 4: Adjust your expectations accordingly!\n",
      "Chain 4: \n",
      "Chain 4: \n",
      "Chain 4: Iteration:    1 / 2000 [  0%]  (Warmup)\n",
      "Chain 4: Iteration:  200 / 2000 [ 10%]  (Warmup)\n",
      "Chain 4: Iteration:  400 / 2000 [ 20%]  (Warmup)\n",
      "Chain 4: Iteration:  600 / 2000 [ 30%]  (Warmup)\n",
      "Chain 4: Iteration:  800 / 2000 [ 40%]  (Warmup)\n",
      "Chain 4: Iteration: 1000 / 2000 [ 50%]  (Warmup)\n",
      "Chain 4: Iteration: 1001 / 2000 [ 50%]  (Sampling)\n",
      "Chain 4: Iteration: 1200 / 2000 [ 60%]  (Sampling)\n",
      "Chain 4: Iteration: 1400 / 2000 [ 70%]  (Sampling)\n",
      "Chain 4: Iteration: 1600 / 2000 [ 80%]  (Sampling)\n",
      "Chain 4: Iteration: 1800 / 2000 [ 90%]  (Sampling)\n",
      "Chain 4: Iteration: 2000 / 2000 [100%]  (Sampling)\n",
      "Chain 4: \n",
      "Chain 4:  Elapsed Time: 13.519 seconds (Warm-up)\n",
      "Chain 4:                4.504 seconds (Sampling)\n",
      "Chain 4:                18.023 seconds (Total)\n",
      "Chain 4: "
     ]
    },
    {
     "output_type": "stream",
     "name": "stdout",
     "text": [
      "\n",
      "SAMPLING FOR MODEL 'continuous' NOW (CHAIN 1).\n",
      "Chain 1: \n",
      "Chain 1: Gradient evaluation took 9e-05 seconds\n",
      "Chain 1: 1000 transitions using 10 leapfrog steps per transition would take 0.9 seconds.\n",
      "Chain 1: Adjust your expectations accordingly!\n",
      "Chain 1: \n",
      "Chain 1: \n",
      "Chain 1: Iteration:    1 / 2000 [  0%]  (Warmup)\n",
      "Chain 1: Iteration:  200 / 2000 [ 10%]  (Warmup)\n",
      "Chain 1: Iteration:  400 / 2000 [ 20%]  (Warmup)\n",
      "Chain 1: Iteration:  600 / 2000 [ 30%]  (Warmup)\n",
      "Chain 1: Iteration:  800 / 2000 [ 40%]  (Warmup)\n",
      "Chain 1: Iteration: 1000 / 2000 [ 50%]  (Warmup)\n",
      "Chain 1: Iteration: 1001 / 2000 [ 50%]  (Sampling)\n",
      "Chain 1: Iteration: 1200 / 2000 [ 60%]  (Sampling)\n",
      "Chain 1: Iteration: 1400 / 2000 [ 70%]  (Sampling)\n",
      "Chain 1: Iteration: 1600 / 2000 [ 80%]  (Sampling)\n",
      "Chain 1: Iteration: 1800 / 2000 [ 90%]  (Sampling)\n",
      "Chain 1: Iteration: 2000 / 2000 [100%]  (Sampling)\n",
      "Chain 1: \n",
      "Chain 1:  Elapsed Time: 14.666 seconds (Warm-up)\n",
      "Chain 1:                4.884 seconds (Sampling)\n",
      "Chain 1:                19.55 seconds (Total)\n",
      "Chain 1: \n",
      "\n",
      "SAMPLING FOR MODEL 'continuous' NOW (CHAIN 2).\n",
      "Chain 2: \n",
      "Chain 2: Gradient evaluation took 0.000114 seconds\n",
      "Chain 2: 1000 transitions using 10 leapfrog steps per transition would take 1.14 seconds.\n",
      "Chain 2: Adjust your expectations accordingly!\n",
      "Chain 2: \n",
      "Chain 2: \n",
      "Chain 2: Iteration:    1 / 2000 [  0%]  (Warmup)\n",
      "Chain 2: Iteration:  200 / 2000 [ 10%]  (Warmup)\n",
      "Chain 2: Iteration:  400 / 2000 [ 20%]  (Warmup)\n",
      "Chain 2: Iteration:  600 / 2000 [ 30%]  (Warmup)\n",
      "Chain 2: Iteration:  800 / 2000 [ 40%]  (Warmup)\n",
      "Chain 2: Iteration: 1000 / 2000 [ 50%]  (Warmup)\n",
      "Chain 2: Iteration: 1001 / 2000 [ 50%]  (Sampling)\n",
      "Chain 2: Iteration: 1200 / 2000 [ 60%]  (Sampling)\n",
      "Chain 2: Iteration: 1400 / 2000 [ 70%]  (Sampling)\n",
      "Chain 2: Iteration: 1600 / 2000 [ 80%]  (Sampling)\n",
      "Chain 2: Iteration: 1800 / 2000 [ 90%]  (Sampling)\n",
      "Chain 2: Iteration: 2000 / 2000 [100%]  (Sampling)\n",
      "Chain 2: \n",
      "Chain 2:  Elapsed Time: 15.552 seconds (Warm-up)\n",
      "Chain 2:                4.865 seconds (Sampling)\n",
      "Chain 2:                20.417 seconds (Total)\n",
      "Chain 2: \n",
      "\n",
      "SAMPLING FOR MODEL 'continuous' NOW (CHAIN 3).\n",
      "Chain 3: \n",
      "Chain 3: Gradient evaluation took 7.8e-05 seconds\n",
      "Chain 3: 1000 transitions using 10 leapfrog steps per transition would take 0.78 seconds.\n",
      "Chain 3: Adjust your expectations accordingly!\n",
      "Chain 3: \n",
      "Chain 3: \n",
      "Chain 3: Iteration:    1 / 2000 [  0%]  (Warmup)\n",
      "Chain 3: Iteration:  200 / 2000 [ 10%]  (Warmup)\n",
      "Chain 3: Iteration:  400 / 2000 [ 20%]  (Warmup)\n",
      "Chain 3: Iteration:  600 / 2000 [ 30%]  (Warmup)\n",
      "Chain 3: Iteration:  800 / 2000 [ 40%]  (Warmup)\n",
      "Chain 3: Iteration: 1000 / 2000 [ 50%]  (Warmup)\n",
      "Chain 3: Iteration: 1001 / 2000 [ 50%]  (Sampling)\n",
      "Chain 3: Iteration: 1200 / 2000 [ 60%]  (Sampling)\n",
      "Chain 3: Iteration: 1400 / 2000 [ 70%]  (Sampling)\n",
      "Chain 3: Iteration: 1600 / 2000 [ 80%]  (Sampling)\n",
      "Chain 3: Iteration: 1800 / 2000 [ 90%]  (Sampling)\n",
      "Chain 3: Iteration: 2000 / 2000 [100%]  (Sampling)\n",
      "Chain 3: \n",
      "Chain 3:  Elapsed Time: 14.808 seconds (Warm-up)\n",
      "Chain 3:                4.96 seconds (Sampling)\n",
      "Chain 3:                19.768 seconds (Total)\n",
      "Chain 3: \n",
      "\n",
      "SAMPLING FOR MODEL 'continuous' NOW (CHAIN 4).\n",
      "Chain 4: \n",
      "Chain 4: Gradient evaluation took 8.3e-05 seconds\n",
      "Chain 4: 1000 transitions using 10 leapfrog steps per transition would take 0.83 seconds.\n",
      "Chain 4: Adjust your expectations accordingly!\n",
      "Chain 4: \n",
      "Chain 4: \n",
      "Chain 4: Iteration:    1 / 2000 [  0%]  (Warmup)\n",
      "Chain 4: Iteration:  200 / 2000 [ 10%]  (Warmup)\n",
      "Chain 4: Iteration:  400 / 2000 [ 20%]  (Warmup)\n",
      "Chain 4: Iteration:  600 / 2000 [ 30%]  (Warmup)\n",
      "Chain 4: Iteration:  800 / 2000 [ 40%]  (Warmup)\n",
      "Chain 4: Iteration: 1000 / 2000 [ 50%]  (Warmup)\n",
      "Chain 4: Iteration: 1001 / 2000 [ 50%]  (Sampling)\n",
      "Chain 4: Iteration: 1200 / 2000 [ 60%]  (Sampling)\n",
      "Chain 4: Iteration: 1400 / 2000 [ 70%]  (Sampling)\n",
      "Chain 4: Iteration: 1600 / 2000 [ 80%]  (Sampling)\n",
      "Chain 4: Iteration: 1800 / 2000 [ 90%]  (Sampling)\n",
      "Chain 4: Iteration: 2000 / 2000 [100%]  (Sampling)\n",
      "Chain 4: \n",
      "Chain 4:  Elapsed Time: 15.349 seconds (Warm-up)\n",
      "Chain 4:                9.63 seconds (Sampling)\n",
      "Chain 4:                24.979 seconds (Total)\n",
      "Chain 4: "
     ]
    },
    {
     "output_type": "stream",
     "name": "stderr",
     "text": [
      "Warning: Bulk Effective Samples Size (ESS) is too low, indicating posterior means and medians may be unreliable.\n",
      "Running the chains for more iterations may help. See\n",
      "https://mc-stan.org/misc/warnings.html#bulk-ess"
     ]
    },
    {
     "output_type": "stream",
     "name": "stdout",
     "text": [
      "\n",
      "SAMPLING FOR MODEL 'continuous' NOW (CHAIN 1).\n",
      "Chain 1: \n",
      "Chain 1: Gradient evaluation took 9.2e-05 seconds\n",
      "Chain 1: 1000 transitions using 10 leapfrog steps per transition would take 0.92 seconds.\n",
      "Chain 1: Adjust your expectations accordingly!\n",
      "Chain 1: \n",
      "Chain 1: \n",
      "Chain 1: Iteration:    1 / 2000 [  0%]  (Warmup)\n",
      "Chain 1: Iteration:  200 / 2000 [ 10%]  (Warmup)\n",
      "Chain 1: Iteration:  400 / 2000 [ 20%]  (Warmup)\n",
      "Chain 1: Iteration:  600 / 2000 [ 30%]  (Warmup)\n",
      "Chain 1: Iteration:  800 / 2000 [ 40%]  (Warmup)\n",
      "Chain 1: Iteration: 1000 / 2000 [ 50%]  (Warmup)\n",
      "Chain 1: Iteration: 1001 / 2000 [ 50%]  (Sampling)\n",
      "Chain 1: Iteration: 1200 / 2000 [ 60%]  (Sampling)\n",
      "Chain 1: Iteration: 1400 / 2000 [ 70%]  (Sampling)\n",
      "Chain 1: Iteration: 1600 / 2000 [ 80%]  (Sampling)\n",
      "Chain 1: Iteration: 1800 / 2000 [ 90%]  (Sampling)\n",
      "Chain 1: Iteration: 2000 / 2000 [100%]  (Sampling)\n",
      "Chain 1: \n",
      "Chain 1:  Elapsed Time: 11.185 seconds (Warm-up)\n",
      "Chain 1:                4.568 seconds (Sampling)\n",
      "Chain 1:                15.753 seconds (Total)\n",
      "Chain 1: \n",
      "\n",
      "SAMPLING FOR MODEL 'continuous' NOW (CHAIN 2).\n",
      "Chain 2: \n",
      "Chain 2: Gradient evaluation took 7.3e-05 seconds\n",
      "Chain 2: 1000 transitions using 10 leapfrog steps per transition would take 0.73 seconds.\n",
      "Chain 2: Adjust your expectations accordingly!\n",
      "Chain 2: \n",
      "Chain 2: \n",
      "Chain 2: Iteration:    1 / 2000 [  0%]  (Warmup)\n",
      "Chain 2: Iteration:  200 / 2000 [ 10%]  (Warmup)\n",
      "Chain 2: Iteration:  400 / 2000 [ 20%]  (Warmup)\n",
      "Chain 2: Iteration:  600 / 2000 [ 30%]  (Warmup)\n",
      "Chain 2: Iteration:  800 / 2000 [ 40%]  (Warmup)\n",
      "Chain 2: Iteration: 1000 / 2000 [ 50%]  (Warmup)\n",
      "Chain 2: Iteration: 1001 / 2000 [ 50%]  (Sampling)\n",
      "Chain 2: Iteration: 1200 / 2000 [ 60%]  (Sampling)\n",
      "Chain 2: Iteration: 1400 / 2000 [ 70%]  (Sampling)\n",
      "Chain 2: Iteration: 1600 / 2000 [ 80%]  (Sampling)\n",
      "Chain 2: Iteration: 1800 / 2000 [ 90%]  (Sampling)\n",
      "Chain 2: Iteration: 2000 / 2000 [100%]  (Sampling)\n",
      "Chain 2: \n",
      "Chain 2:  Elapsed Time: 13.668 seconds (Warm-up)\n",
      "Chain 2:                4.532 seconds (Sampling)\n",
      "Chain 2:                18.2 seconds (Total)\n",
      "Chain 2: \n",
      "\n",
      "SAMPLING FOR MODEL 'continuous' NOW (CHAIN 3).\n",
      "Chain 3: \n",
      "Chain 3: Gradient evaluation took 7.4e-05 seconds\n",
      "Chain 3: 1000 transitions using 10 leapfrog steps per transition would take 0.74 seconds.\n",
      "Chain 3: Adjust your expectations accordingly!\n",
      "Chain 3: \n",
      "Chain 3: \n",
      "Chain 3: Iteration:    1 / 2000 [  0%]  (Warmup)\n",
      "Chain 3: Iteration:  200 / 2000 [ 10%]  (Warmup)\n",
      "Chain 3: Iteration:  400 / 2000 [ 20%]  (Warmup)\n",
      "Chain 3: Iteration:  600 / 2000 [ 30%]  (Warmup)\n",
      "Chain 3: Iteration:  800 / 2000 [ 40%]  (Warmup)\n",
      "Chain 3: Iteration: 1000 / 2000 [ 50%]  (Warmup)\n",
      "Chain 3: Iteration: 1001 / 2000 [ 50%]  (Sampling)\n",
      "Chain 3: Iteration: 1200 / 2000 [ 60%]  (Sampling)\n",
      "Chain 3: Iteration: 1400 / 2000 [ 70%]  (Sampling)\n",
      "Chain 3: Iteration: 1600 / 2000 [ 80%]  (Sampling)\n",
      "Chain 3: Iteration: 1800 / 2000 [ 90%]  (Sampling)\n",
      "Chain 3: Iteration: 2000 / 2000 [100%]  (Sampling)\n",
      "Chain 3: \n",
      "Chain 3:  Elapsed Time: 11.577 seconds (Warm-up)\n",
      "Chain 3:                4.573 seconds (Sampling)\n",
      "Chain 3:                16.15 seconds (Total)\n",
      "Chain 3: \n",
      "\n",
      "SAMPLING FOR MODEL 'continuous' NOW (CHAIN 4).\n",
      "Chain 4: \n",
      "Chain 4: Gradient evaluation took 8.3e-05 seconds\n",
      "Chain 4: 1000 transitions using 10 leapfrog steps per transition would take 0.83 seconds.\n",
      "Chain 4: Adjust your expectations accordingly!\n",
      "Chain 4: \n",
      "Chain 4: \n",
      "Chain 4: Iteration:    1 / 2000 [  0%]  (Warmup)\n",
      "Chain 4: Iteration:  200 / 2000 [ 10%]  (Warmup)\n",
      "Chain 4: Iteration:  400 / 2000 [ 20%]  (Warmup)\n",
      "Chain 4: Iteration:  600 / 2000 [ 30%]  (Warmup)\n",
      "Chain 4: Iteration:  800 / 2000 [ 40%]  (Warmup)\n",
      "Chain 4: Iteration: 1000 / 2000 [ 50%]  (Warmup)\n",
      "Chain 4: Iteration: 1001 / 2000 [ 50%]  (Sampling)\n",
      "Chain 4: Iteration: 1200 / 2000 [ 60%]  (Sampling)\n",
      "Chain 4: Iteration: 1400 / 2000 [ 70%]  (Sampling)\n",
      "Chain 4: Iteration: 1600 / 2000 [ 80%]  (Sampling)\n",
      "Chain 4: Iteration: 1800 / 2000 [ 90%]  (Sampling)\n",
      "Chain 4: Iteration: 2000 / 2000 [100%]  (Sampling)\n",
      "Chain 4: \n",
      "Chain 4:  Elapsed Time: 14.019 seconds (Warm-up)\n",
      "Chain 4:                8.956 seconds (Sampling)\n",
      "Chain 4:                22.975 seconds (Total)\n",
      "Chain 4: "
     ]
    }
   ],
   "source": [
    "ci_sex <- posterior_auroc(auroc_sex, c(\"male\", \"female\"))\n"
   ],
   "id": "a8f9fb45-1875-4acc-94f4-f00dbe7021cb"
  },
  {
   "cell_type": "code",
   "execution_count": null,
   "metadata": {},
   "outputs": [],
   "source": [
    "ci <- ci_sex |> \n",
    "    bind_rows(ci_race) |> \n",
    "    bind_rows(ci_income) |> \n",
    "    bind_rows(ci_age)\n"
   ],
   "id": "7bc1a622-3bcf-4d73-8336-de5911107720"
  },
  {
   "cell_type": "code",
   "execution_count": null,
   "metadata": {},
   "outputs": [],
   "source": [
    "plot_ci <- function(d, title){\n",
    "  d |> \n",
    "    ggplot(aes(x = model, color = model)) +\n",
    "    geom_point(aes(y = median), size = 2) +\n",
    "    geom_errorbar(aes(ymin = lower, ymax = upper), width = .2) +\n",
    "      #width = .2, position = position_dodge(.9)) +\n",
    "    coord_flip() +\n",
    "    ylab(\"auROC\") +\n",
    "    xlab(\"Group\") +\n",
    "    ggtitle(title) +\n",
    "    xlab(\"\") +\n",
    "    theme(legend.position = \"none\") +\n",
    "    #scale_y_continuous(breaks = seq(0.6, 1, 0.10), limits = c(0.6, 1)) +\n",
    "    scale_color_manual(values = c(\"#7FBFFFFF\",\"#4C4CFFFF\")) #+\n",
    "    # theme(title = element_text(size = 18, color = \"orange\"),\n",
    "    #       axis.text.x = element_text(size = 12, color = \"black\"),\n",
    "    #       axis.text.y = element_text(size = 12, color = \"black\"),\n",
    "    #       axis.title.x = element_text(size = 16, color = \"black\"),\n",
    "    #       axis.title.y = element_text(size = 16, color = \"black\"))\n",
    "}\n"
   ],
   "id": "5156d6ac-874b-4f9a-b36c-4c612b1650b7"
  },
  {
   "cell_type": "code",
   "execution_count": null,
   "metadata": {},
   "outputs": [],
   "source": [
    "fig_sex  <- ci |>\n",
    "  filter(model == \"male\" | model == \"female\") |>\n",
    "  mutate(model = fct(model, levels = c(\"female\", \"male\")),\n",
    "         model = fct_recode(model, male = \"male\", female = \"female\")) |> \n",
    "  plot_ci(\"Sex\")\n",
    "\n",
    "fig_race  <- ci |>\n",
    "  filter(model == \"white\" | model == \"non_white\") |>\n",
    "  mutate(model = fct(model, levels = c(\"non_white\", \"white\")),\n",
    "         model = fct_recode(model, white = \"white\", nonwhite = \"non_white\")) |> \n",
    "  plot_ci(\"Race/Ethnicity\")\n",
    "\n",
    "fig_income  <- ci |>\n",
    "  filter(model == \"above_poverty\" | model == \"below_poverty\") |>\n",
    "  mutate(model = fct(model, levels = c(\"below_poverty\", \"above_poverty\")),\n",
    "         model = fct_recode(model, `above poverty` = \"above_poverty\", `below poverty` = \"below_poverty\")) |> \n",
    "  plot_ci(\"Income\")\n",
    "  \n",
    "fig_age  <- ci |>\n",
    "  filter(model == \"younger\" | model == \"older\") |>\n",
    "  mutate(model = fct(model, levels = c(\"older\", \"younger\"))) |> \n",
    "  plot_ci(\"Age\")\n"
   ],
   "id": "976e2d21-bcb8-45a3-9ebd-8ed11691e162"
  },
  {
   "cell_type": "code",
   "execution_count": null,
   "metadata": {},
   "outputs": [
    {
     "output_type": "display_data",
     "metadata": {},
     "data": {
      "image/png": "[encoded data removed]"
     }
    }
   ],
   "source": [
    "\n",
    "cowplot::plot_grid(fig_race, fig_sex, fig_age, fig_income, align=\"v\", scale = 0.95)\n"
   ],
   "id": "cell-fig-fairness-subgroups"
  }
 ],
 "nbformat": 4,
 "nbformat_minor": 5,
 "metadata": {}
}
