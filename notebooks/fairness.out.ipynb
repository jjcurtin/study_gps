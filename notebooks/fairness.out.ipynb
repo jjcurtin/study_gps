{
 "cells": [
  {
   "cell_type": "markdown",
   "metadata": {},
   "source": [
    "# Subgroup Analysis\n",
    "\n",
    "Coco Yu, modified by Claire Punturieri  \n",
    "October 17, 2024\n",
    "\n",
    "# Housekeeping\n",
    "\n",
    "## Code status\n",
    "\n",
    "## Notes\n",
    "\n",
    "# Set Up\n",
    "\n",
    "## Set Up Environment\n",
    "\n",
    "### Study parameters"
   ],
   "id": "c64a8c5e-c5b0-4442-a68e-603f89e0f8da"
  },
  {
   "cell_type": "code",
   "execution_count": null,
   "metadata": {},
   "outputs": [],
   "source": [
    "study <- params$study\n",
    "cv <- params$cv\n",
    "algorithms <- params$algorithms\n",
    "version <- params$version\n",
    "window <- params$window\n",
    "model <- params$model\n"
   ],
   "id": "4d257119-0329-4c20-b6a1-f73bcc45f389"
  },
  {
   "cell_type": "markdown",
   "metadata": {},
   "source": [
    "### Defaults"
   ],
   "id": "3017d680-5ad8-44b9-9f0b-f416764526ba"
  },
  {
   "cell_type": "code",
   "execution_count": null,
   "metadata": {},
   "outputs": [
    {
     "output_type": "stream",
     "name": "stderr",
     "text": [
      "ℹ SHA-1 hash of file is \"77e91675366f10788c6bcb59fa1cfc9ee0c75281\""
     ]
    }
   ],
   "source": [
    "\n",
    "# handle conflicts\n",
    "options(conflicts.policy = \"depends.ok\")\n",
    "devtools::source_url(\"https://github.com/jjcurtin/lab_support/blob/main/fun_ml.R?raw=true\")\n"
   ],
   "id": "2b5fdcec-08a7-4349-b387-de0c709a4398"
  },
  {
   "cell_type": "markdown",
   "metadata": {},
   "source": [
    "### Packages for script"
   ],
   "id": "1b8102a4-f310-423b-a981-5b24e88c3bd2"
  },
  {
   "cell_type": "code",
   "execution_count": null,
   "metadata": {},
   "outputs": [
    {
     "output_type": "stream",
     "name": "stderr",
     "text": [
      "── Attaching core tidyverse packages ──────────────────────── tidyverse 2.0.0 ──\n",
      "✔ dplyr     1.1.4     ✔ readr     2.1.5\n",
      "✔ forcats   1.0.0     ✔ stringr   1.5.1\n",
      "✔ ggplot2   3.5.1     ✔ tibble    3.2.1\n",
      "✔ lubridate 1.9.3     ✔ tidyr     1.3.1\n",
      "✔ purrr     1.0.2     \n",
      "── Conflicts ────────────────────────────────────────── tidyverse_conflicts() ──\n",
      "✖ dplyr::filter() masks stats::filter()\n",
      "✖ dplyr::lag()    masks stats::lag()\n",
      "ℹ Use the conflicted package (<http://conflicted.r-lib.org/>) to force all conflicts to become errors"
     ]
    },
    {
     "output_type": "stream",
     "name": "stderr",
     "text": [
      "── Attaching packages ────────────────────────────────────── tidymodels 1.2.0 ──\n",
      "✔ broom        1.0.6     ✔ rsample      1.2.1\n",
      "✔ dials        1.3.0     ✔ tune         1.2.1\n",
      "✔ infer        1.0.7     ✔ workflows    1.1.4\n",
      "✔ modeldata    1.4.0     ✔ workflowsets 1.1.0\n",
      "✔ parsnip      1.2.1     ✔ yardstick    1.3.1\n",
      "✔ recipes      1.1.0     \n",
      "── Conflicts ───────────────────────────────────────── tidymodels_conflicts() ──\n",
      "✖ scales::discard() masks purrr::discard()\n",
      "✖ dplyr::filter()   masks stats::filter()\n",
      "✖ recipes::fixed()  masks stringr::fixed()\n",
      "✖ dplyr::lag()      masks stats::lag()\n",
      "✖ yardstick::spec() masks readr::spec()\n",
      "✖ recipes::step()   masks stats::step()\n",
      "• Learn how to get started at https://www.tidymodels.org/start/"
     ]
    },
    {
     "output_type": "stream",
     "name": "stderr",
     "text": [
      "ℹ SHA-1 hash of file is \"a58e57da996d1b70bb9a5b58241325d6fd78890f\""
     ]
    }
   ],
   "source": [
    "\n",
    "library(tidyverse)\n"
   ],
   "id": "ac008cde-3186-4e02-867c-c193bf07db87"
  },
  {
   "cell_type": "markdown",
   "metadata": {},
   "source": [
    "### Absolute paths"
   ],
   "id": "2085135c-3df4-406e-98a3-7608fc7d55c0"
  },
  {
   "cell_type": "code",
   "execution_count": null,
   "metadata": {},
   "outputs": [],
   "source": [
    "path_models <- format_path(str_c(\"studydata/risk/models/\", study))\n",
    "path_gps <- format_path(str_c(\"studydata/risk/data_processed/\", study))\n",
    "path_shared <- format_path(str_c(\"studydata/risk/data_processed/shared\"))\n"
   ],
   "id": "189e5cad-c8f7-4958-a82e-d0b93cb97cd9"
  },
  {
   "cell_type": "markdown",
   "metadata": {},
   "source": [
    "## Data Cleaning\n",
    "\n",
    "Read in Data"
   ],
   "id": "8c096678-3ce3-4aeb-a888-a7dc7a1e4618"
  },
  {
   "cell_type": "code",
   "execution_count": null,
   "metadata": {},
   "outputs": [
    {
     "output_type": "stream",
     "name": "stdout",
     "text": [
      "Rows: 310,797\n",
      "Columns: 7\n",
      "$ id_obs          <int> 446, 447, 448, 449, 450, 451, 452, 453, 454, 455, 456,…\n",
      "$ outer_split_num <int> 1, 1, 1, 1, 1, 1, 1, 1, 1, 1, 1, 1, 1, 1, 1, 1, 1, 1, …\n",
      "$ inner_split_num <int> 1, 1, 1, 1, 1, 1, 1, 1, 1, 1, 1, 1, 1, 1, 1, 1, 1, 1, …\n",
      "$ prob_raw        <dbl> 0.3209265, 0.3209265, 0.3373791, 0.3209265, 0.3209265,…\n",
      "$ prob_iso        <dbl> 0, 0, 0, 0, 0, 0, 0, 0, 0, 0, 0, 0, 0, 0, 0, 0, 0, 0, …\n",
      "$ prob_logi       <dbl> 0.08943453, 0.08943453, 0.07479958, 0.08943453, 0.0894…\n",
      "$ label           <fct> no lapse, no lapse, no lapse, no lapse, no lapse, no l…"
     ]
    },
    {
     "output_type": "stream",
     "name": "stdout",
     "text": [
      "Rows: 208\n",
      "Columns: 16\n",
      "$ dem_1   <dbl> 57, 35, 22, 39, 22, 38, 22, 38, 25, 45, 63, 50, 53, 26, 52, 54…\n",
      "$ dem_2   <chr> \"Male\", \"Female\", \"Female\", \"Male\", \"Male\", \"Male\", \"Female\", …\n",
      "$ dem_3   <chr> \"White/Caucasian\", \"White/Caucasian\", \"White/Caucasian\", \"Whit…\n",
      "$ dem_3_1 <chr> NA, NA, NA, NA, NA, NA, NA, NA, \"Filipino and Black\", NA, NA, …\n",
      "$ dem_4   <chr> \"No, I am not of Hispanic, Latino, or Spanish origin\", \"No, I …\n",
      "$ dem_4_1 <chr> NA, NA, NA, NA, NA, NA, NA, NA, NA, NA, NA, NA, NA, NA, NA, NA…\n",
      "$ dem_5   <chr> \"College degree\", \"2-Year degree\", \"High school or GED\", \"Coll…\n",
      "$ dem_6   <chr> \"Unemployed\", \"Employed\", \"Employed\", \"Employed\", \"Employed\", …\n",
      "$ dem_6_1 <chr> NA, \"Full-time\", \"Full-time\", \"Full-time\", \"Part-time\", \"Full-…\n",
      "$ dem_7   <dbl> 12000, 36920, 20064, 130000, 5000, 70000, 8000, 57000, 10000, …\n",
      "$ dem_8   <chr> \"Never Married\", \"Never Married\", \"Never Married\", \"Married\", …\n",
      "$ dem2_2  <dbl> 2, 2, 4, 1, 2, 1, 4, 2, 2, 2, 0, 2, 3, 2, 1, 0, 2, 2, 2, 1, 2,…\n",
      "$ dem2_4  <dbl> 0, 1, 0, 1, NA, 1, 0, 0, 0, 0, 2, 0, 1, 0, 0, 0, 0, 0, 0, 1, 0…\n",
      "$ dem2_6  <dbl> 0, 4, 0, 2, NA, NA, 0, 2, 0, 2, 1, 2, 0, 0, 1, 0, 0, 0, 2, 0, …\n",
      "$ dem2_8  <dbl> 0, 0, 0, NA, NA, NA, 0, 0, 0, 0, 1, 0, 0, 0, 0, 0, 0, 0, 0, 0,…\n",
      "$ subid   <dbl> 1, 2, 3, 5, 6, 7, 8, 10, 11, 12, 13, 14, 15, 16, 17, 9, 18, 19…"
     ]
    }
   ],
   "source": [
    "probs <- read_rds(here::here(path_models, str_c(\"inner_preds_\", window, \"_\", version, \"_\",\n",
    "                                         cv, \"_\", model, \".rds\"))) |> \n",
    "  #pivot_longer(cols = starts_with(\"prob\"), \n",
    "               #names_to = \"method\", \n",
    "               #values_to = \".pred_Lapse\") |>\n",
    "  glimpse()\n"
   ],
   "id": "a302418a-6b66-4607-b428-f24c2d93a79f"
  },
  {
   "cell_type": "markdown",
   "metadata": {},
   "source": [
    "Find demographic groups"
   ],
   "id": "f9c19228-5753-491e-9898-469e901f2c45"
  },
  {
   "cell_type": "code",
   "execution_count": null,
   "metadata": {},
   "outputs": [
    {
     "output_type": "stream",
     "name": "stdout",
     "text": [
      "Rows: 11,511\n",
      "Columns: 6\n",
      "$ subid  <dbl> 1, 1, 1, 1, 1, 1, 1, 1, 1, 1, 1, 1, 1, 1, 1, 1, 1, 1, 1, 1, 1, …\n",
      "$ id_obs <int> 1, 2, 3, 4, 5, 6, 7, 8, 9, 10, 11, 12, 13, 14, 15, 16, 17, 18, …\n",
      "$ race   <chr> \"white\", \"white\", \"white\", \"white\", \"white\", \"white\", \"white\", …\n",
      "$ sex    <chr> \"male\", \"male\", \"male\", \"male\", \"male\", \"male\", \"male\", \"male\",…\n",
      "$ age    <chr> \"older\", \"older\", \"older\", \"older\", \"older\", \"older\", \"older\", …\n",
      "$ income <chr> \"below_poverty\", \"below_poverty\", \"below_poverty\", \"below_pover…"
     ]
    }
   ],
   "source": [
    "demographics <- labels |> \n",
    "  left_join(screen, by = \"subid\") |> \n",
    "  select(-day_start, -day_end, -lapse) |> \n",
    "  distinct() |>\n",
    "  mutate(\n",
    "    race = case_when(\n",
    "      dem_3 == \"White/Caucasian\" & grepl(\"No\", dem_4) ~ \"white\",\n",
    "      dem_3 != \"White/Caucasian\" | grepl(\"Yes\", dem_4) ~ \"non_white\"),\n",
    "    sex = if_else(dem_2 == \"Female\", \"female\", \"male\"),\n",
    "    age = if_else(dem_1 >= 55, \"older\", \"younger\"),\n",
    "    income = if_else(dem_7 <= .5 * 30000, \"below_poverty\", \"above_poverty\")\n",
    "  ) |> \n",
    "  select(-starts_with(\"dem\")) |> \n",
    "  glimpse()\n"
   ],
   "id": "e1af40b7-a9b2-4d68-94f8-fd9f75b1e116"
  },
  {
   "cell_type": "code",
   "execution_count": null,
   "metadata": {},
   "outputs": [],
   "source": [
    "probs <- probs |> \n",
    "  left_join(demographics, by = \"id_obs\")\n"
   ],
   "id": "e09d400c-1908-4857-8a4a-ebb16ba51bfc"
  },
  {
   "cell_type": "markdown",
   "metadata": {},
   "source": [
    "## Calculate auROC"
   ],
   "id": "f7cd2b89-a46c-4bbf-9c07-845f84363821"
  },
  {
   "cell_type": "code",
   "execution_count": null,
   "metadata": {},
   "outputs": [
    {
     "output_type": "stream",
     "name": "stderr",
     "text": [
      "Warning: There was 1 warning in `summarize()`.\n",
      "ℹ In argument: `auroc = roc_auc(cur_data(), prob_logi, truth =\n",
      "  label)$.estimate`.\n",
      "ℹ In group 1: `inner_split_num = 1` and `outer_split_num = 1`.\n",
      "Caused by warning:\n",
      "! `cur_data()` was deprecated in dplyr 1.1.0.\n",
      "ℹ Please use `pick()` instead."
     ]
    },
    {
     "output_type": "stream",
     "name": "stderr",
     "text": [
      "`summarise()` has grouped output by 'inner_split_num'. You can override using\n",
      "the `.groups` argument."
     ]
    }
   ],
   "source": [
    "auroc_all <- probs |> \n",
    "  group_by(inner_split_num, outer_split_num) |> \n",
    "  summarize(auroc = roc_auc(cur_data(), prob_logi, truth = label)$.estimate)\n"
   ],
   "id": "a4e9070b-cce8-4e9d-86b4-1ef2441f329e"
  },
  {
   "cell_type": "code",
   "execution_count": null,
   "metadata": {},
   "outputs": [
    {
     "output_type": "stream",
     "name": "stderr",
     "text": [
      "Warning: There were 52 warnings in `summarize()`.\n",
      "The first warning was:\n",
      "ℹ In argument: `auroc = roc_auc(cur_data(), prob_logi, truth =\n",
      "  label)$.estimate`.\n",
      "ℹ In group 16: `inner_split_num = 1`, `outer_split_num = 9`, `race =\n",
      "  \"non_white\"`.\n",
      "Caused by warning:\n",
      "! No event observations were detected in `truth` with event level 'lapse'.\n",
      "ℹ Run `dplyr::last_dplyr_warnings()` to see the 51 remaining warnings."
     ]
    },
    {
     "output_type": "stream",
     "name": "stderr",
     "text": [
      "`summarise()` has grouped output by 'inner_split_num', 'outer_split_num'. You\n",
      "can override using the `.groups` argument."
     ]
    },
    {
     "output_type": "stream",
     "name": "stderr",
     "text": [
      "Warning: There were 3 warnings in `summarize()`.\n",
      "The first warning was:\n",
      "ℹ In argument: `auroc = roc_auc(cur_data(), prob_logi, truth =\n",
      "  label)$.estimate`.\n",
      "ℹ In group 94: `inner_split_num = 2`, `outer_split_num = 17`, `sex = \"male\"`.\n",
      "Caused by warning:\n",
      "! No event observations were detected in `truth` with event level 'lapse'.\n",
      "ℹ Run `dplyr::last_dplyr_warnings()` to see the 2 remaining warnings."
     ]
    },
    {
     "output_type": "stream",
     "name": "stderr",
     "text": [
      "`summarise()` has grouped output by 'inner_split_num', 'outer_split_num'. You\n",
      "can override using the `.groups` argument."
     ]
    },
    {
     "output_type": "stream",
     "name": "stderr",
     "text": [
      "Warning: There were 40 warnings in `summarize()`.\n",
      "The first warning was:\n",
      "ℹ In argument: `auroc = roc_auc(cur_data(), prob_logi, truth =\n",
      "  label)$.estimate`.\n",
      "ℹ In group 13: `inner_split_num = 1`, `outer_split_num = 8`, `age = \"older\"`.\n",
      "Caused by warning:\n",
      "! No event observations were detected in `truth` with event level 'lapse'.\n",
      "ℹ Run `dplyr::last_dplyr_warnings()` to see the 39 remaining warnings."
     ]
    },
    {
     "output_type": "stream",
     "name": "stderr",
     "text": [
      "`summarise()` has grouped output by 'inner_split_num', 'outer_split_num'. You\n",
      "can override using the `.groups` argument."
     ]
    },
    {
     "output_type": "stream",
     "name": "stderr",
     "text": [
      "Warning: There were 14 warnings in `summarize()`.\n",
      "The first warning was:\n",
      "ℹ In argument: `auroc = roc_auc(cur_data(), prob_logi, truth =\n",
      "  label)$.estimate`.\n",
      "ℹ In group 90: `inner_split_num = 2`, `outer_split_num = 15`, `income =\n",
      "  \"below_poverty\"`.\n",
      "Caused by warning:\n",
      "! No event observations were detected in `truth` with event level 'lapse'.\n",
      "ℹ Run `dplyr::last_dplyr_warnings()` to see the 13 remaining warnings."
     ]
    },
    {
     "output_type": "stream",
     "name": "stderr",
     "text": [
      "`summarise()` has grouped output by 'inner_split_num', 'outer_split_num'. You\n",
      "can override using the `.groups` argument."
     ]
    }
   ],
   "source": [
    "auroc_race <- probs |> \n",
    "  group_by(inner_split_num, outer_split_num, race) |> \n",
    "  summarize(auroc = roc_auc(cur_data(), prob_logi, truth = label)$.estimate) |> \n",
    "  ungroup() |> \n",
    "  rename(subgroup = race)\n"
   ],
   "id": "ecf573ab-7995-4327-b2e9-75c3f30255ce"
  },
  {
   "cell_type": "markdown",
   "metadata": {},
   "source": [
    "## Model Comparison"
   ],
   "id": "7c0c7b3a-8980-4f42-81ce-838d1cfc091a"
  },
  {
   "cell_type": "code",
   "execution_count": null,
   "metadata": {},
   "outputs": [],
   "source": [
    "# contrast_table <- function(df, levels){\n",
    "#   df |> \n",
    "#     filter(subgroup != \"all\") |>\n",
    "#     select(c(\"auroc\", \"subgroup\", \"inner_split_num\", \"outer_split_num\")) |> \n",
    "#     group_by(subgroup) |>\n",
    "#     pivot_wider(values_from = c(\"auroc\"), names_from = subgroup) |>\n",
    "#     rename(id = outer_split_num, id2 = inner_split_num) |>\n",
    "#     perf_mod(formula = statistic ~ model + (1 | id/id2),\n",
    "#              # prior_intercept = rstanarm::student_t(autoscale = TRUE),\n",
    "#              # prior = rstanarm::student_t(autoscale = TRUE),\n",
    "#              # transform = tidyposterior::logit_trans,  # for skewed & bounded AUC\n",
    "#              # iter = 2000, chains = 4,\n",
    "#              adapt_delta = .99,\n",
    "#              # cores = 4, seed = 12345,\n",
    "#              family = gaussian, verbose = FALSE) |> \n",
    "#     contrast_models(list_1 = levels[1], list_2 = levels[2]) |> \n",
    "#     summary(size = 0) |> \n",
    "#     mutate(metrics = \"auroc\", .before = contrast)\n",
    "#   }\n"
   ],
   "id": "7fe118ed-eac6-413e-b5ba-95f47234d194"
  },
  {
   "cell_type": "code",
   "execution_count": null,
   "metadata": {},
   "outputs": [],
   "source": [
    "# contrast_table(auroc_race, c(\"white\", \"non_white\"))\n",
    "# contrast_table(auroc_sex, c(\"male\", \"female\"))\n",
    "# contrast_table(auroc_age, c(\"younger\", \"older\"))\n",
    "# contrast_table(auroc_income, c(\"above_poverty\", \"below_poverty\"))\n"
   ],
   "id": "fba60386-400b-400a-99ff-927eea4bacf8"
  },
  {
   "cell_type": "markdown",
   "metadata": {},
   "source": [
    "## CY figure\n",
    "\n",
    "Plots"
   ],
   "id": "09afe782-5426-4e79-bf35-82fc8505b1c7"
  },
  {
   "cell_type": "code",
   "execution_count": null,
   "metadata": {},
   "outputs": [],
   "source": [
    "# auroc_plot <- auroc_race |> \n",
    "#   mutate(group = \"race\") |> \n",
    "#   bind_rows(auroc_sex |> mutate(group = \"sex\")) |> \n",
    "#   bind_rows(auroc_age |> mutate(group = \"age\")) |> \n",
    "#   bind_rows(auroc_income |> mutate(group = \"income\"))\n"
   ],
   "id": "bfc429d8-6e4e-4ff3-9912-d5463630f593"
  },
  {
   "cell_type": "code",
   "execution_count": null,
   "metadata": {},
   "outputs": [],
   "source": [
    "# ggpubr::ggarrange(\n",
    "#   auroc_race |> \n",
    "#     ggplot(aes(x = factor(subgroup, levels = c(\"all\", \"white\", \"non_white\")), \n",
    "#                y = auroc, fill = subgroup)) +\n",
    "#     geom_boxplot() +\n",
    "#     theme(legend.position = \"none\", axis.text.x = element_text(angle = 10)) +\n",
    "#     scale_fill_manual(values = c(\"#80B1D3\", \"#B5D66E\", \"#F28072\")) +\n",
    "#     ylim(0, 1) +\n",
    "#     labs(x = \"Race\"),\n",
    "#   auroc_sex |> \n",
    "#     ggplot(aes(x = factor(subgroup, levels = c(\"all\", \"male\", \"female\")),\n",
    "#                y = auroc, fill = subgroup)) +\n",
    "#     geom_boxplot() +\n",
    "#     theme(legend.position = \"none\", axis.text.x = element_text(angle = 10)) +\n",
    "#     scale_fill_manual(values = c(\"#80B1D3\", \"#B5D66E\", \"#F28072\")) +\n",
    "#     ylim(0, 1) +\n",
    "#     labs(x = \"Sex\"),\n",
    "#   auroc_age |> \n",
    "#     ggplot(aes(x = factor(subgroup, levels = c(\"all\", \"younger\", \"older\")),\n",
    "#                y = auroc, fill = subgroup)) +\n",
    "#     geom_boxplot() +\n",
    "#     theme(legend.position = \"none\", axis.text.x = element_text(angle = 10)) +\n",
    "#     scale_fill_manual(values = c(\"#80B1D3\", \"#B5D66E\", \"#F28072\")) +\n",
    "#     ylim(0, 1) +\n",
    "#     labs(x = \"Age\"),\n",
    "#   auroc_income |> \n",
    "#     ggplot(aes(x = factor(subgroup, levels = \n",
    "#                             c(\"all\", \"above_poverty\", \"below_poverty\")),\n",
    "#                y = auroc, fill = subgroup)) +\n",
    "#     geom_boxplot() +\n",
    "#     theme(legend.position = \"none\", axis.text.x = element_text(angle = 10)) +\n",
    "#     scale_fill_manual(values = c(\"#80B1D3\", \"#B5D66E\", \"#F28072\")) +\n",
    "#     ylim(0, 1) +\n",
    "#     labs(x = \"Income\")\n",
    "# )\n"
   ],
   "id": "93eddb64-d489-4d83-9efa-e8352f8dd048"
  },
  {
   "cell_type": "markdown",
   "metadata": {},
   "source": [
    "## JC figure"
   ],
   "id": "38344581-9703-44ae-90a0-dd06a0bcc75e"
  },
  {
   "cell_type": "code",
   "execution_count": null,
   "metadata": {},
   "outputs": [],
   "source": [
    "posterior_auroc <- function(df, levels){\n",
    "  q = c(.025, .5, .975)\n",
    "\n",
    "  df |> \n",
    "    filter(subgroup != \"all\") |>\n",
    "    group_by(subgroup) |>\n",
    "    pivot_wider(values_from = auroc, names_from = subgroup) |>\n",
    "    rename(id = inner_split_num, id2 = outer_split_num) |>\n",
    "    perf_mod(formula = statistic ~ model + (1 | id2/id),\n",
    "             # prior_intercept = rstanarm::student_t(autoscale = TRUE),\n",
    "             # prior = rstanarm::student_t(autoscale = TRUE),\n",
    "             # transform = tidyposterior::logit_trans,  # for skewed & bounded AUC\n",
    "             # iter = 2000, chains = 4,\n",
    "             adapt_delta = .99,\n",
    "             # cores = 4, seed = 12345,\n",
    "             family = gaussian, verbose = FALSE)   |> \n",
    "    # output of this needs to go into contrast models\n",
    "    tidy(seed = 123) |> \n",
    "    group_by(model) |> \n",
    "    summarize(median = quantile(posterior, probs = q[2]),\n",
    "              lower = quantile(posterior, probs = q[1]), \n",
    "              upper = quantile(posterior, probs = q[3]))\n",
    "}\n"
   ],
   "id": "1884bee7-2ba0-4046-a2c2-e426e938c346"
  },
  {
   "cell_type": "code",
   "execution_count": null,
   "metadata": {},
   "outputs": [
    {
     "output_type": "stream",
     "name": "stdout",
     "text": [
      "\n",
      "SAMPLING FOR MODEL 'continuous' NOW (CHAIN 1).\n",
      "Chain 1: \n",
      "Chain 1: Gradient evaluation took 0.000329 seconds\n",
      "Chain 1: 1000 transitions using 10 leapfrog steps per transition would take 3.29 seconds.\n",
      "Chain 1: Adjust your expectations accordingly!\n",
      "Chain 1: \n",
      "Chain 1: \n",
      "Chain 1: Iteration:    1 / 2000 [  0%]  (Warmup)\n",
      "Chain 1: Iteration:  200 / 2000 [ 10%]  (Warmup)\n",
      "Chain 1: Iteration:  400 / 2000 [ 20%]  (Warmup)\n",
      "Chain 1: Iteration:  600 / 2000 [ 30%]  (Warmup)\n",
      "Chain 1: Iteration:  800 / 2000 [ 40%]  (Warmup)\n",
      "Chain 1: Iteration: 1000 / 2000 [ 50%]  (Warmup)\n",
      "Chain 1: Iteration: 1001 / 2000 [ 50%]  (Sampling)\n",
      "Chain 1: Iteration: 1200 / 2000 [ 60%]  (Sampling)\n",
      "Chain 1: Iteration: 1400 / 2000 [ 70%]  (Sampling)\n",
      "Chain 1: Iteration: 1600 / 2000 [ 80%]  (Sampling)\n",
      "Chain 1: Iteration: 1800 / 2000 [ 90%]  (Sampling)\n",
      "Chain 1: Iteration: 2000 / 2000 [100%]  (Sampling)\n",
      "Chain 1: \n",
      "Chain 1:  Elapsed Time: 13.04 seconds (Warm-up)\n",
      "Chain 1:                5.949 seconds (Sampling)\n",
      "Chain 1:                18.989 seconds (Total)\n",
      "Chain 1: \n",
      "\n",
      "SAMPLING FOR MODEL 'continuous' NOW (CHAIN 2).\n",
      "Chain 2: \n",
      "Chain 2: Gradient evaluation took 8.1e-05 seconds\n",
      "Chain 2: 1000 transitions using 10 leapfrog steps per transition would take 0.81 seconds.\n",
      "Chain 2: Adjust your expectations accordingly!\n",
      "Chain 2: \n",
      "Chain 2: \n",
      "Chain 2: Iteration:    1 / 2000 [  0%]  (Warmup)\n",
      "Chain 2: Iteration:  200 / 2000 [ 10%]  (Warmup)\n",
      "Chain 2: Iteration:  400 / 2000 [ 20%]  (Warmup)\n",
      "Chain 2: Iteration:  600 / 2000 [ 30%]  (Warmup)\n",
      "Chain 2: Iteration:  800 / 2000 [ 40%]  (Warmup)\n",
      "Chain 2: Iteration: 1000 / 2000 [ 50%]  (Warmup)\n",
      "Chain 2: Iteration: 1001 / 2000 [ 50%]  (Sampling)\n",
      "Chain 2: Iteration: 1200 / 2000 [ 60%]  (Sampling)\n",
      "Chain 2: Iteration: 1400 / 2000 [ 70%]  (Sampling)\n",
      "Chain 2: Iteration: 1600 / 2000 [ 80%]  (Sampling)\n",
      "Chain 2: Iteration: 1800 / 2000 [ 90%]  (Sampling)\n",
      "Chain 2: Iteration: 2000 / 2000 [100%]  (Sampling)\n",
      "Chain 2: \n",
      "Chain 2:  Elapsed Time: 18.731 seconds (Warm-up)\n",
      "Chain 2:                4.67 seconds (Sampling)\n",
      "Chain 2:                23.401 seconds (Total)\n",
      "Chain 2: \n",
      "\n",
      "SAMPLING FOR MODEL 'continuous' NOW (CHAIN 3).\n",
      "Chain 3: \n",
      "Chain 3: Gradient evaluation took 8e-05 seconds\n",
      "Chain 3: 1000 transitions using 10 leapfrog steps per transition would take 0.8 seconds.\n",
      "Chain 3: Adjust your expectations accordingly!\n",
      "Chain 3: \n",
      "Chain 3: \n",
      "Chain 3: Iteration:    1 / 2000 [  0%]  (Warmup)\n",
      "Chain 3: Iteration:  200 / 2000 [ 10%]  (Warmup)\n",
      "Chain 3: Iteration:  400 / 2000 [ 20%]  (Warmup)\n",
      "Chain 3: Iteration:  600 / 2000 [ 30%]  (Warmup)\n",
      "Chain 3: Iteration:  800 / 2000 [ 40%]  (Warmup)\n",
      "Chain 3: Iteration: 1000 / 2000 [ 50%]  (Warmup)\n",
      "Chain 3: Iteration: 1001 / 2000 [ 50%]  (Sampling)\n",
      "Chain 3: Iteration: 1200 / 2000 [ 60%]  (Sampling)\n",
      "Chain 3: Iteration: 1400 / 2000 [ 70%]  (Sampling)\n",
      "Chain 3: Iteration: 1600 / 2000 [ 80%]  (Sampling)\n",
      "Chain 3: Iteration: 1800 / 2000 [ 90%]  (Sampling)\n",
      "Chain 3: Iteration: 2000 / 2000 [100%]  (Sampling)\n",
      "Chain 3: \n",
      "Chain 3:  Elapsed Time: 16.424 seconds (Warm-up)\n",
      "Chain 3:                4.9 seconds (Sampling)\n",
      "Chain 3:                21.324 seconds (Total)\n",
      "Chain 3: \n",
      "\n",
      "SAMPLING FOR MODEL 'continuous' NOW (CHAIN 4).\n",
      "Chain 4: \n",
      "Chain 4: Gradient evaluation took 7.9e-05 seconds\n",
      "Chain 4: 1000 transitions using 10 leapfrog steps per transition would take 0.79 seconds.\n",
      "Chain 4: Adjust your expectations accordingly!\n",
      "Chain 4: \n",
      "Chain 4: \n",
      "Chain 4: Iteration:    1 / 2000 [  0%]  (Warmup)\n",
      "Chain 4: Iteration:  200 / 2000 [ 10%]  (Warmup)\n",
      "Chain 4: Iteration:  400 / 2000 [ 20%]  (Warmup)\n",
      "Chain 4: Iteration:  600 / 2000 [ 30%]  (Warmup)\n",
      "Chain 4: Iteration:  800 / 2000 [ 40%]  (Warmup)\n",
      "Chain 4: Iteration: 1000 / 2000 [ 50%]  (Warmup)\n",
      "Chain 4: Iteration: 1001 / 2000 [ 50%]  (Sampling)\n",
      "Chain 4: Iteration: 1200 / 2000 [ 60%]  (Sampling)\n",
      "Chain 4: Iteration: 1400 / 2000 [ 70%]  (Sampling)\n",
      "Chain 4: Iteration: 1600 / 2000 [ 80%]  (Sampling)\n",
      "Chain 4: Iteration: 1800 / 2000 [ 90%]  (Sampling)\n",
      "Chain 4: Iteration: 2000 / 2000 [100%]  (Sampling)\n",
      "Chain 4: \n",
      "Chain 4:  Elapsed Time: 16.39 seconds (Warm-up)\n",
      "Chain 4:                4.988 seconds (Sampling)\n",
      "Chain 4:                21.378 seconds (Total)\n",
      "Chain 4: "
     ]
    },
    {
     "output_type": "stream",
     "name": "stdout",
     "text": [
      "\n",
      "SAMPLING FOR MODEL 'continuous' NOW (CHAIN 1).\n",
      "Chain 1: \n",
      "Chain 1: Gradient evaluation took 0.000104 seconds\n",
      "Chain 1: 1000 transitions using 10 leapfrog steps per transition would take 1.04 seconds.\n",
      "Chain 1: Adjust your expectations accordingly!\n",
      "Chain 1: \n",
      "Chain 1: \n",
      "Chain 1: Iteration:    1 / 2000 [  0%]  (Warmup)\n",
      "Chain 1: Iteration:  200 / 2000 [ 10%]  (Warmup)\n",
      "Chain 1: Iteration:  400 / 2000 [ 20%]  (Warmup)\n",
      "Chain 1: Iteration:  600 / 2000 [ 30%]  (Warmup)\n",
      "Chain 1: Iteration:  800 / 2000 [ 40%]  (Warmup)\n",
      "Chain 1: Iteration: 1000 / 2000 [ 50%]  (Warmup)\n",
      "Chain 1: Iteration: 1001 / 2000 [ 50%]  (Sampling)\n",
      "Chain 1: Iteration: 1200 / 2000 [ 60%]  (Sampling)\n",
      "Chain 1: Iteration: 1400 / 2000 [ 70%]  (Sampling)\n",
      "Chain 1: Iteration: 1600 / 2000 [ 80%]  (Sampling)\n",
      "Chain 1: Iteration: 1800 / 2000 [ 90%]  (Sampling)\n",
      "Chain 1: Iteration: 2000 / 2000 [100%]  (Sampling)\n",
      "Chain 1: \n",
      "Chain 1:  Elapsed Time: 12.816 seconds (Warm-up)\n",
      "Chain 1:                4.425 seconds (Sampling)\n",
      "Chain 1:                17.241 seconds (Total)\n",
      "Chain 1: \n",
      "\n",
      "SAMPLING FOR MODEL 'continuous' NOW (CHAIN 2).\n",
      "Chain 2: \n",
      "Chain 2: Gradient evaluation took 7.6e-05 seconds\n",
      "Chain 2: 1000 transitions using 10 leapfrog steps per transition would take 0.76 seconds.\n",
      "Chain 2: Adjust your expectations accordingly!\n",
      "Chain 2: \n",
      "Chain 2: \n",
      "Chain 2: Iteration:    1 / 2000 [  0%]  (Warmup)\n",
      "Chain 2: Iteration:  200 / 2000 [ 10%]  (Warmup)\n",
      "Chain 2: Iteration:  400 / 2000 [ 20%]  (Warmup)\n",
      "Chain 2: Iteration:  600 / 2000 [ 30%]  (Warmup)\n",
      "Chain 2: Iteration:  800 / 2000 [ 40%]  (Warmup)\n",
      "Chain 2: Iteration: 1000 / 2000 [ 50%]  (Warmup)\n",
      "Chain 2: Iteration: 1001 / 2000 [ 50%]  (Sampling)\n",
      "Chain 2: Iteration: 1200 / 2000 [ 60%]  (Sampling)\n",
      "Chain 2: Iteration: 1400 / 2000 [ 70%]  (Sampling)\n",
      "Chain 2: Iteration: 1600 / 2000 [ 80%]  (Sampling)\n",
      "Chain 2: Iteration: 1800 / 2000 [ 90%]  (Sampling)\n",
      "Chain 2: Iteration: 2000 / 2000 [100%]  (Sampling)\n",
      "Chain 2: \n",
      "Chain 2:  Elapsed Time: 11.899 seconds (Warm-up)\n",
      "Chain 2:                9.142 seconds (Sampling)\n",
      "Chain 2:                21.041 seconds (Total)\n",
      "Chain 2: \n",
      "\n",
      "SAMPLING FOR MODEL 'continuous' NOW (CHAIN 3).\n",
      "Chain 3: \n",
      "Chain 3: Gradient evaluation took 7.8e-05 seconds\n",
      "Chain 3: 1000 transitions using 10 leapfrog steps per transition would take 0.78 seconds.\n",
      "Chain 3: Adjust your expectations accordingly!\n",
      "Chain 3: \n",
      "Chain 3: \n",
      "Chain 3: Iteration:    1 / 2000 [  0%]  (Warmup)\n",
      "Chain 3: Iteration:  200 / 2000 [ 10%]  (Warmup)\n",
      "Chain 3: Iteration:  400 / 2000 [ 20%]  (Warmup)\n",
      "Chain 3: Iteration:  600 / 2000 [ 30%]  (Warmup)\n",
      "Chain 3: Iteration:  800 / 2000 [ 40%]  (Warmup)\n",
      "Chain 3: Iteration: 1000 / 2000 [ 50%]  (Warmup)\n",
      "Chain 3: Iteration: 1001 / 2000 [ 50%]  (Sampling)\n",
      "Chain 3: Iteration: 1200 / 2000 [ 60%]  (Sampling)\n",
      "Chain 3: Iteration: 1400 / 2000 [ 70%]  (Sampling)\n",
      "Chain 3: Iteration: 1600 / 2000 [ 80%]  (Sampling)\n",
      "Chain 3: Iteration: 1800 / 2000 [ 90%]  (Sampling)\n",
      "Chain 3: Iteration: 2000 / 2000 [100%]  (Sampling)\n",
      "Chain 3: \n",
      "Chain 3:  Elapsed Time: 13.139 seconds (Warm-up)\n",
      "Chain 3:                4.422 seconds (Sampling)\n",
      "Chain 3:                17.561 seconds (Total)\n",
      "Chain 3: \n",
      "\n",
      "SAMPLING FOR MODEL 'continuous' NOW (CHAIN 4).\n",
      "Chain 4: \n",
      "Chain 4: Gradient evaluation took 9.1e-05 seconds\n",
      "Chain 4: 1000 transitions using 10 leapfrog steps per transition would take 0.91 seconds.\n",
      "Chain 4: Adjust your expectations accordingly!\n",
      "Chain 4: \n",
      "Chain 4: \n",
      "Chain 4: Iteration:    1 / 2000 [  0%]  (Warmup)\n",
      "Chain 4: Iteration:  200 / 2000 [ 10%]  (Warmup)\n",
      "Chain 4: Iteration:  400 / 2000 [ 20%]  (Warmup)\n",
      "Chain 4: Iteration:  600 / 2000 [ 30%]  (Warmup)\n",
      "Chain 4: Iteration:  800 / 2000 [ 40%]  (Warmup)\n",
      "Chain 4: Iteration: 1000 / 2000 [ 50%]  (Warmup)\n",
      "Chain 4: Iteration: 1001 / 2000 [ 50%]  (Sampling)\n",
      "Chain 4: Iteration: 1200 / 2000 [ 60%]  (Sampling)\n",
      "Chain 4: Iteration: 1400 / 2000 [ 70%]  (Sampling)\n",
      "Chain 4: Iteration: 1600 / 2000 [ 80%]  (Sampling)\n",
      "Chain 4: Iteration: 1800 / 2000 [ 90%]  (Sampling)\n",
      "Chain 4: Iteration: 2000 / 2000 [100%]  (Sampling)\n",
      "Chain 4: \n",
      "Chain 4:  Elapsed Time: 11.057 seconds (Warm-up)\n",
      "Chain 4:                4.401 seconds (Sampling)\n",
      "Chain 4:                15.458 seconds (Total)\n",
      "Chain 4: "
     ]
    },
    {
     "output_type": "stream",
     "name": "stdout",
     "text": [
      "\n",
      "SAMPLING FOR MODEL 'continuous' NOW (CHAIN 1).\n",
      "Chain 1: \n",
      "Chain 1: Gradient evaluation took 9.5e-05 seconds\n",
      "Chain 1: 1000 transitions using 10 leapfrog steps per transition would take 0.95 seconds.\n",
      "Chain 1: Adjust your expectations accordingly!\n",
      "Chain 1: \n",
      "Chain 1: \n",
      "Chain 1: Iteration:    1 / 2000 [  0%]  (Warmup)\n",
      "Chain 1: Iteration:  200 / 2000 [ 10%]  (Warmup)\n",
      "Chain 1: Iteration:  400 / 2000 [ 20%]  (Warmup)\n",
      "Chain 1: Iteration:  600 / 2000 [ 30%]  (Warmup)\n",
      "Chain 1: Iteration:  800 / 2000 [ 40%]  (Warmup)\n",
      "Chain 1: Iteration: 1000 / 2000 [ 50%]  (Warmup)\n",
      "Chain 1: Iteration: 1001 / 2000 [ 50%]  (Sampling)\n",
      "Chain 1: Iteration: 1200 / 2000 [ 60%]  (Sampling)\n",
      "Chain 1: Iteration: 1400 / 2000 [ 70%]  (Sampling)\n",
      "Chain 1: Iteration: 1600 / 2000 [ 80%]  (Sampling)\n",
      "Chain 1: Iteration: 1800 / 2000 [ 90%]  (Sampling)\n",
      "Chain 1: Iteration: 2000 / 2000 [100%]  (Sampling)\n",
      "Chain 1: \n",
      "Chain 1:  Elapsed Time: 14.64 seconds (Warm-up)\n",
      "Chain 1:                4.838 seconds (Sampling)\n",
      "Chain 1:                19.478 seconds (Total)\n",
      "Chain 1: \n",
      "\n",
      "SAMPLING FOR MODEL 'continuous' NOW (CHAIN 2).\n",
      "Chain 2: \n",
      "Chain 2: Gradient evaluation took 8.2e-05 seconds\n",
      "Chain 2: 1000 transitions using 10 leapfrog steps per transition would take 0.82 seconds.\n",
      "Chain 2: Adjust your expectations accordingly!\n",
      "Chain 2: \n",
      "Chain 2: \n",
      "Chain 2: Iteration:    1 / 2000 [  0%]  (Warmup)\n",
      "Chain 2: Iteration:  200 / 2000 [ 10%]  (Warmup)\n",
      "Chain 2: Iteration:  400 / 2000 [ 20%]  (Warmup)\n",
      "Chain 2: Iteration:  600 / 2000 [ 30%]  (Warmup)\n",
      "Chain 2: Iteration:  800 / 2000 [ 40%]  (Warmup)\n",
      "Chain 2: Iteration: 1000 / 2000 [ 50%]  (Warmup)\n",
      "Chain 2: Iteration: 1001 / 2000 [ 50%]  (Sampling)\n",
      "Chain 2: Iteration: 1200 / 2000 [ 60%]  (Sampling)\n",
      "Chain 2: Iteration: 1400 / 2000 [ 70%]  (Sampling)\n",
      "Chain 2: Iteration: 1600 / 2000 [ 80%]  (Sampling)\n",
      "Chain 2: Iteration: 1800 / 2000 [ 90%]  (Sampling)\n",
      "Chain 2: Iteration: 2000 / 2000 [100%]  (Sampling)\n",
      "Chain 2: \n",
      "Chain 2:  Elapsed Time: 15.992 seconds (Warm-up)\n",
      "Chain 2:                4.879 seconds (Sampling)\n",
      "Chain 2:                20.871 seconds (Total)\n",
      "Chain 2: \n",
      "\n",
      "SAMPLING FOR MODEL 'continuous' NOW (CHAIN 3).\n",
      "Chain 3: \n",
      "Chain 3: Gradient evaluation took 9.3e-05 seconds\n",
      "Chain 3: 1000 transitions using 10 leapfrog steps per transition would take 0.93 seconds.\n",
      "Chain 3: Adjust your expectations accordingly!\n",
      "Chain 3: \n",
      "Chain 3: \n",
      "Chain 3: Iteration:    1 / 2000 [  0%]  (Warmup)\n",
      "Chain 3: Iteration:  200 / 2000 [ 10%]  (Warmup)\n",
      "Chain 3: Iteration:  400 / 2000 [ 20%]  (Warmup)\n",
      "Chain 3: Iteration:  600 / 2000 [ 30%]  (Warmup)\n",
      "Chain 3: Iteration:  800 / 2000 [ 40%]  (Warmup)\n",
      "Chain 3: Iteration: 1000 / 2000 [ 50%]  (Warmup)\n",
      "Chain 3: Iteration: 1001 / 2000 [ 50%]  (Sampling)\n",
      "Chain 3: Iteration: 1200 / 2000 [ 60%]  (Sampling)\n",
      "Chain 3: Iteration: 1400 / 2000 [ 70%]  (Sampling)\n",
      "Chain 3: Iteration: 1600 / 2000 [ 80%]  (Sampling)\n",
      "Chain 3: Iteration: 1800 / 2000 [ 90%]  (Sampling)\n",
      "Chain 3: Iteration: 2000 / 2000 [100%]  (Sampling)\n",
      "Chain 3: \n",
      "Chain 3:  Elapsed Time: 14.359 seconds (Warm-up)\n",
      "Chain 3:                8.326 seconds (Sampling)\n",
      "Chain 3:                22.685 seconds (Total)\n",
      "Chain 3: \n",
      "\n",
      "SAMPLING FOR MODEL 'continuous' NOW (CHAIN 4).\n",
      "Chain 4: \n",
      "Chain 4: Gradient evaluation took 9e-05 seconds\n",
      "Chain 4: 1000 transitions using 10 leapfrog steps per transition would take 0.9 seconds.\n",
      "Chain 4: Adjust your expectations accordingly!\n",
      "Chain 4: \n",
      "Chain 4: \n",
      "Chain 4: Iteration:    1 / 2000 [  0%]  (Warmup)\n",
      "Chain 4: Iteration:  200 / 2000 [ 10%]  (Warmup)\n",
      "Chain 4: Iteration:  400 / 2000 [ 20%]  (Warmup)\n",
      "Chain 4: Iteration:  600 / 2000 [ 30%]  (Warmup)\n",
      "Chain 4: Iteration:  800 / 2000 [ 40%]  (Warmup)\n",
      "Chain 4: Iteration: 1000 / 2000 [ 50%]  (Warmup)\n",
      "Chain 4: Iteration: 1001 / 2000 [ 50%]  (Sampling)\n",
      "Chain 4: Iteration: 1200 / 2000 [ 60%]  (Sampling)\n",
      "Chain 4: Iteration: 1400 / 2000 [ 70%]  (Sampling)\n",
      "Chain 4: Iteration: 1600 / 2000 [ 80%]  (Sampling)\n",
      "Chain 4: Iteration: 1800 / 2000 [ 90%]  (Sampling)\n",
      "Chain 4: Iteration: 2000 / 2000 [100%]  (Sampling)\n",
      "Chain 4: \n",
      "Chain 4:  Elapsed Time: 15.728 seconds (Warm-up)\n",
      "Chain 4:                9.544 seconds (Sampling)\n",
      "Chain 4:                25.272 seconds (Total)\n",
      "Chain 4: "
     ]
    },
    {
     "output_type": "stream",
     "name": "stderr",
     "text": [
      "Warning: Bulk Effective Samples Size (ESS) is too low, indicating posterior means and medians may be unreliable.\n",
      "Running the chains for more iterations may help. See\n",
      "https://mc-stan.org/misc/warnings.html#bulk-ess"
     ]
    },
    {
     "output_type": "stream",
     "name": "stdout",
     "text": [
      "\n",
      "SAMPLING FOR MODEL 'continuous' NOW (CHAIN 1).\n",
      "Chain 1: \n",
      "Chain 1: Gradient evaluation took 9.1e-05 seconds\n",
      "Chain 1: 1000 transitions using 10 leapfrog steps per transition would take 0.91 seconds.\n",
      "Chain 1: Adjust your expectations accordingly!\n",
      "Chain 1: \n",
      "Chain 1: \n",
      "Chain 1: Iteration:    1 / 2000 [  0%]  (Warmup)\n",
      "Chain 1: Iteration:  200 / 2000 [ 10%]  (Warmup)\n",
      "Chain 1: Iteration:  400 / 2000 [ 20%]  (Warmup)\n",
      "Chain 1: Iteration:  600 / 2000 [ 30%]  (Warmup)\n",
      "Chain 1: Iteration:  800 / 2000 [ 40%]  (Warmup)\n",
      "Chain 1: Iteration: 1000 / 2000 [ 50%]  (Warmup)\n",
      "Chain 1: Iteration: 1001 / 2000 [ 50%]  (Sampling)\n",
      "Chain 1: Iteration: 1200 / 2000 [ 60%]  (Sampling)\n",
      "Chain 1: Iteration: 1400 / 2000 [ 70%]  (Sampling)\n",
      "Chain 1: Iteration: 1600 / 2000 [ 80%]  (Sampling)\n",
      "Chain 1: Iteration: 1800 / 2000 [ 90%]  (Sampling)\n",
      "Chain 1: Iteration: 2000 / 2000 [100%]  (Sampling)\n",
      "Chain 1: \n",
      "Chain 1:  Elapsed Time: 12.149 seconds (Warm-up)\n",
      "Chain 1:                4.505 seconds (Sampling)\n",
      "Chain 1:                16.654 seconds (Total)\n",
      "Chain 1: \n",
      "\n",
      "SAMPLING FOR MODEL 'continuous' NOW (CHAIN 2).\n",
      "Chain 2: \n",
      "Chain 2: Gradient evaluation took 8.2e-05 seconds\n",
      "Chain 2: 1000 transitions using 10 leapfrog steps per transition would take 0.82 seconds.\n",
      "Chain 2: Adjust your expectations accordingly!\n",
      "Chain 2: \n",
      "Chain 2: \n",
      "Chain 2: Iteration:    1 / 2000 [  0%]  (Warmup)\n",
      "Chain 2: Iteration:  200 / 2000 [ 10%]  (Warmup)\n",
      "Chain 2: Iteration:  400 / 2000 [ 20%]  (Warmup)\n",
      "Chain 2: Iteration:  600 / 2000 [ 30%]  (Warmup)\n",
      "Chain 2: Iteration:  800 / 2000 [ 40%]  (Warmup)\n",
      "Chain 2: Iteration: 1000 / 2000 [ 50%]  (Warmup)\n",
      "Chain 2: Iteration: 1001 / 2000 [ 50%]  (Sampling)\n",
      "Chain 2: Iteration: 1200 / 2000 [ 60%]  (Sampling)\n",
      "Chain 2: Iteration: 1400 / 2000 [ 70%]  (Sampling)\n",
      "Chain 2: Iteration: 1600 / 2000 [ 80%]  (Sampling)\n",
      "Chain 2: Iteration: 1800 / 2000 [ 90%]  (Sampling)\n",
      "Chain 2: Iteration: 2000 / 2000 [100%]  (Sampling)\n",
      "Chain 2: \n",
      "Chain 2:  Elapsed Time: 12.996 seconds (Warm-up)\n",
      "Chain 2:                4.644 seconds (Sampling)\n",
      "Chain 2:                17.64 seconds (Total)\n",
      "Chain 2: \n",
      "\n",
      "SAMPLING FOR MODEL 'continuous' NOW (CHAIN 3).\n",
      "Chain 3: \n",
      "Chain 3: Gradient evaluation took 7.9e-05 seconds\n",
      "Chain 3: 1000 transitions using 10 leapfrog steps per transition would take 0.79 seconds.\n",
      "Chain 3: Adjust your expectations accordingly!\n",
      "Chain 3: \n",
      "Chain 3: \n",
      "Chain 3: Iteration:    1 / 2000 [  0%]  (Warmup)\n",
      "Chain 3: Iteration:  200 / 2000 [ 10%]  (Warmup)\n",
      "Chain 3: Iteration:  400 / 2000 [ 20%]  (Warmup)\n",
      "Chain 3: Iteration:  600 / 2000 [ 30%]  (Warmup)\n",
      "Chain 3: Iteration:  800 / 2000 [ 40%]  (Warmup)\n",
      "Chain 3: Iteration: 1000 / 2000 [ 50%]  (Warmup)\n",
      "Chain 3: Iteration: 1001 / 2000 [ 50%]  (Sampling)\n",
      "Chain 3: Iteration: 1200 / 2000 [ 60%]  (Sampling)\n",
      "Chain 3: Iteration: 1400 / 2000 [ 70%]  (Sampling)\n",
      "Chain 3: Iteration: 1600 / 2000 [ 80%]  (Sampling)\n",
      "Chain 3: Iteration: 1800 / 2000 [ 90%]  (Sampling)\n",
      "Chain 3: Iteration: 2000 / 2000 [100%]  (Sampling)\n",
      "Chain 3: \n",
      "Chain 3:  Elapsed Time: 12.251 seconds (Warm-up)\n",
      "Chain 3:                4.543 seconds (Sampling)\n",
      "Chain 3:                16.794 seconds (Total)\n",
      "Chain 3: \n",
      "\n",
      "SAMPLING FOR MODEL 'continuous' NOW (CHAIN 4).\n",
      "Chain 4: \n",
      "Chain 4: Gradient evaluation took 8.7e-05 seconds\n",
      "Chain 4: 1000 transitions using 10 leapfrog steps per transition would take 0.87 seconds.\n",
      "Chain 4: Adjust your expectations accordingly!\n",
      "Chain 4: \n",
      "Chain 4: \n",
      "Chain 4: Iteration:    1 / 2000 [  0%]  (Warmup)\n",
      "Chain 4: Iteration:  200 / 2000 [ 10%]  (Warmup)\n",
      "Chain 4: Iteration:  400 / 2000 [ 20%]  (Warmup)\n",
      "Chain 4: Iteration:  600 / 2000 [ 30%]  (Warmup)\n",
      "Chain 4: Iteration:  800 / 2000 [ 40%]  (Warmup)\n",
      "Chain 4: Iteration: 1000 / 2000 [ 50%]  (Warmup)\n",
      "Chain 4: Iteration: 1001 / 2000 [ 50%]  (Sampling)\n",
      "Chain 4: Iteration: 1200 / 2000 [ 60%]  (Sampling)\n",
      "Chain 4: Iteration: 1400 / 2000 [ 70%]  (Sampling)\n",
      "Chain 4: Iteration: 1600 / 2000 [ 80%]  (Sampling)\n",
      "Chain 4: Iteration: 1800 / 2000 [ 90%]  (Sampling)\n",
      "Chain 4: Iteration: 2000 / 2000 [100%]  (Sampling)\n",
      "Chain 4: \n",
      "Chain 4:  Elapsed Time: 12.491 seconds (Warm-up)\n",
      "Chain 4:                4.518 seconds (Sampling)\n",
      "Chain 4:                17.009 seconds (Total)\n",
      "Chain 4: "
     ]
    }
   ],
   "source": [
    "ci_sex <- posterior_auroc(auroc_sex, c(\"male\", \"female\"))\n"
   ],
   "id": "cbfbe76e-36b9-4fb8-9ac2-61600b0c71a5"
  },
  {
   "cell_type": "code",
   "execution_count": null,
   "metadata": {},
   "outputs": [],
   "source": [
    "ci <- ci_sex |> \n",
    "    bind_rows(ci_race) |> \n",
    "    bind_rows(ci_income) |> \n",
    "    bind_rows(ci_age)\n"
   ],
   "id": "1cc56f0f-92ab-45c5-b146-630dcbe73126"
  },
  {
   "cell_type": "code",
   "execution_count": null,
   "metadata": {},
   "outputs": [],
   "source": [
    "plot_ci <- function(d, title){\n",
    "  d |> \n",
    "    ggplot(aes(x = model, color = model)) +\n",
    "    geom_point(aes(y = median), size = 2) +\n",
    "    geom_errorbar(aes(ymin = lower, ymax = upper), width = .2) +\n",
    "      #width = .2, position = position_dodge(.9)) +\n",
    "    coord_flip() +\n",
    "    ylab(\"auROC\") +\n",
    "    xlab(\"Group\") +\n",
    "    ggtitle(title) +\n",
    "    xlab(\"\") +\n",
    "    theme(legend.position = \"none\") +\n",
    "    #scale_y_continuous(breaks = seq(0.6, 1, 0.10), limits = c(0.6, 1)) +\n",
    "    scale_color_manual(values = c(\"#7FBFFFFF\",\"#4C4CFFFF\")) #+\n",
    "    # theme(title = element_text(size = 18, color = \"orange\"),\n",
    "    #       axis.text.x = element_text(size = 12, color = \"black\"),\n",
    "    #       axis.text.y = element_text(size = 12, color = \"black\"),\n",
    "    #       axis.title.x = element_text(size = 16, color = \"black\"),\n",
    "    #       axis.title.y = element_text(size = 16, color = \"black\"))\n",
    "}\n"
   ],
   "id": "680bc7df-6a6e-44a9-a911-a9845e036995"
  },
  {
   "cell_type": "code",
   "execution_count": null,
   "metadata": {},
   "outputs": [],
   "source": [
    "fig_sex  <- ci |>\n",
    "  filter(model == \"male\" | model == \"female\") |>\n",
    "  mutate(model = fct(model, levels = c(\"female\", \"male\")),\n",
    "         model = fct_recode(model, male = \"male\", female = \"female\")) |> \n",
    "  plot_ci(\"Sex\")\n",
    "\n",
    "fig_race  <- ci |>\n",
    "  filter(model == \"white\" | model == \"non_white\") |>\n",
    "  mutate(model = fct(model, levels = c(\"non_white\", \"white\")),\n",
    "         model = fct_recode(model, white = \"white\", nonwhite = \"non_white\")) |> \n",
    "  plot_ci(\"Race/Ethnicity\")\n",
    "\n",
    "fig_income  <- ci |>\n",
    "  filter(model == \"above_poverty\" | model == \"below_poverty\") |>\n",
    "  mutate(model = fct(model, levels = c(\"below_poverty\", \"above_poverty\")),\n",
    "         model = fct_recode(model, `above poverty` = \"above_poverty\", `below poverty` = \"below_poverty\")) |> \n",
    "  plot_ci(\"Income\")\n",
    "  \n",
    "fig_age  <- ci |>\n",
    "  filter(model == \"younger\" | model == \"older\") |>\n",
    "  mutate(model = fct(model, levels = c(\"older\", \"younger\"))) |> \n",
    "  plot_ci(\"Age\")\n"
   ],
   "id": "aaf10e99-6cba-49b3-b0ce-d1368b9181bc"
  },
  {
   "cell_type": "code",
   "execution_count": null,
   "metadata": {},
   "outputs": [
    {
     "output_type": "display_data",
     "metadata": {},
     "data": {
      "image/png": "[encoded data removed]"
     }
    }
   ],
   "source": [
    "\n",
    "cowplot::plot_grid(fig_race, fig_sex, fig_age, fig_income, align=\"v\", scale = 0.95)\n"
   ],
   "id": "cell-fig-fairness-subgroups"
  }
 ],
 "nbformat": 4,
 "nbformat_minor": 5,
 "metadata": {}
}
