{
 "cells": [
  {
   "cell_type": "markdown",
   "metadata": {},
   "source": [
    "# Subgroup Analysis\n",
    "\n",
    "Coco Yu, modified by Claire Punturieri  \n",
    "October 23, 2024\n",
    "\n",
    "# Housekeeping\n",
    "\n",
    "## Code status\n",
    "\n",
    "## Notes\n",
    "\n",
    "# Set Up\n",
    "\n",
    "## Set Up Environment\n",
    "\n",
    "### Study parameters"
   ],
   "id": "f7e8a2f0-6c70-4e8c-b81c-480407ddbc49"
  },
  {
   "cell_type": "code",
   "execution_count": null,
   "metadata": {},
   "outputs": [],
   "source": [
    "study <- params$study\n",
    "cv <- params$cv\n",
    "algorithms <- params$algorithms\n",
    "version <- params$version\n",
    "window <- params$window\n",
    "model <- params$model\n"
   ],
   "id": "b997643d-3438-4372-aecd-3e6a5e34a9f9"
  },
  {
   "cell_type": "markdown",
   "metadata": {},
   "source": [
    "### Defaults"
   ],
   "id": "bdce1cf8-16b7-4841-8758-4637b6273e9d"
  },
  {
   "cell_type": "code",
   "execution_count": null,
   "metadata": {},
   "outputs": [
    {
     "output_type": "stream",
     "name": "stderr",
     "text": [
      "ℹ SHA-1 hash of file is \"77e91675366f10788c6bcb59fa1cfc9ee0c75281\""
     ]
    }
   ],
   "source": [
    "\n",
    "# handle conflicts\n",
    "options(conflicts.policy = \"depends.ok\")\n",
    "devtools::source_url(\"https://github.com/jjcurtin/lab_support/blob/main/fun_ml.R?raw=true\")\n"
   ],
   "id": "2b816491-55e9-459e-9d55-d9794f5929bb"
  },
  {
   "cell_type": "markdown",
   "metadata": {},
   "source": [
    "### Packages for script"
   ],
   "id": "bec03b77-189f-425c-b534-7af91ea2256d"
  },
  {
   "cell_type": "code",
   "execution_count": null,
   "metadata": {},
   "outputs": [
    {
     "output_type": "stream",
     "name": "stderr",
     "text": [
      "── Attaching core tidyverse packages ──────────────────────── tidyverse 2.0.0 ──\n",
      "✔ dplyr     1.1.4     ✔ readr     2.1.5\n",
      "✔ forcats   1.0.0     ✔ stringr   1.5.1\n",
      "✔ ggplot2   3.5.1     ✔ tibble    3.2.1\n",
      "✔ lubridate 1.9.3     ✔ tidyr     1.3.1\n",
      "✔ purrr     1.0.2     \n",
      "── Conflicts ────────────────────────────────────────── tidyverse_conflicts() ──\n",
      "✖ dplyr::filter() masks stats::filter()\n",
      "✖ dplyr::lag()    masks stats::lag()\n",
      "ℹ Use the conflicted package (<http://conflicted.r-lib.org/>) to force all conflicts to become errors"
     ]
    },
    {
     "output_type": "stream",
     "name": "stderr",
     "text": [
      "── Attaching packages ────────────────────────────────────── tidymodels 1.2.0 ──\n",
      "✔ broom        1.0.6     ✔ rsample      1.2.1\n",
      "✔ dials        1.3.0     ✔ tune         1.2.1\n",
      "✔ infer        1.0.7     ✔ workflows    1.1.4\n",
      "✔ modeldata    1.4.0     ✔ workflowsets 1.1.0\n",
      "✔ parsnip      1.2.1     ✔ yardstick    1.3.1\n",
      "✔ recipes      1.1.0     \n",
      "── Conflicts ───────────────────────────────────────── tidymodels_conflicts() ──\n",
      "✖ scales::discard() masks purrr::discard()\n",
      "✖ dplyr::filter()   masks stats::filter()\n",
      "✖ recipes::fixed()  masks stringr::fixed()\n",
      "✖ dplyr::lag()      masks stats::lag()\n",
      "✖ yardstick::spec() masks readr::spec()\n",
      "✖ recipes::step()   masks stats::step()\n",
      "• Use tidymodels_prefer() to resolve common conflicts."
     ]
    },
    {
     "output_type": "stream",
     "name": "stderr",
     "text": [
      "ℹ SHA-1 hash of file is \"a58e57da996d1b70bb9a5b58241325d6fd78890f\""
     ]
    }
   ],
   "source": [
    "\n",
    "library(tidyverse)\n"
   ],
   "id": "0a378ede-5c5a-4304-80c1-3f5d491514f2"
  },
  {
   "cell_type": "markdown",
   "metadata": {},
   "source": [
    "### Absolute paths"
   ],
   "id": "2a6cb7b2-f82f-4b6f-ad71-a9b0f8cc5ae5"
  },
  {
   "cell_type": "code",
   "execution_count": null,
   "metadata": {},
   "outputs": [],
   "source": [
    "path_models <- format_path(str_c(\"studydata/risk/models/\", study))\n",
    "path_gps <- format_path(str_c(\"studydata/risk/data_processed/\", study))\n",
    "path_shared <- format_path(str_c(\"studydata/risk/data_processed/shared\"))\n"
   ],
   "id": "c2a2aed9-b535-4a90-adb6-b2865d7dada4"
  },
  {
   "cell_type": "markdown",
   "metadata": {},
   "source": [
    "## Data Cleaning\n",
    "\n",
    "Read in Data"
   ],
   "id": "efb831da-aa63-48fb-955b-78e5c4ba9568"
  },
  {
   "cell_type": "code",
   "execution_count": null,
   "metadata": {},
   "outputs": [
    {
     "output_type": "stream",
     "name": "stdout",
     "text": [
      "Rows: 310,797\n",
      "Columns: 7\n",
      "$ id_obs          <int> 446, 447, 448, 449, 450, 451, 452, 453, 454, 455, 456,…\n",
      "$ outer_split_num <int> 1, 1, 1, 1, 1, 1, 1, 1, 1, 1, 1, 1, 1, 1, 1, 1, 1, 1, …\n",
      "$ inner_split_num <int> 1, 1, 1, 1, 1, 1, 1, 1, 1, 1, 1, 1, 1, 1, 1, 1, 1, 1, …\n",
      "$ prob_raw        <dbl> 0.3209265, 0.3209265, 0.3373791, 0.3209265, 0.3209265,…\n",
      "$ prob_iso        <dbl> 0, 0, 0, 0, 0, 0, 0, 0, 0, 0, 0, 0, 0, 0, 0, 0, 0, 0, …\n",
      "$ prob_logi       <dbl> 0.08943453, 0.08943453, 0.07479958, 0.08943453, 0.0894…\n",
      "$ label           <fct> no lapse, no lapse, no lapse, no lapse, no lapse, no l…"
     ]
    },
    {
     "output_type": "stream",
     "name": "stdout",
     "text": [
      "Rows: 208\n",
      "Columns: 16\n",
      "$ dem_1   <dbl> 57, 35, 22, 39, 22, 38, 22, 38, 25, 45, 63, 50, 53, 26, 52, 54…\n",
      "$ dem_2   <chr> \"Male\", \"Female\", \"Female\", \"Male\", \"Male\", \"Male\", \"Female\", …\n",
      "$ dem_3   <chr> \"White/Caucasian\", \"White/Caucasian\", \"White/Caucasian\", \"Whit…\n",
      "$ dem_3_1 <chr> NA, NA, NA, NA, NA, NA, NA, NA, \"Filipino and Black\", NA, NA, …\n",
      "$ dem_4   <chr> \"No, I am not of Hispanic, Latino, or Spanish origin\", \"No, I …\n",
      "$ dem_4_1 <chr> NA, NA, NA, NA, NA, NA, NA, NA, NA, NA, NA, NA, NA, NA, NA, NA…\n",
      "$ dem_5   <chr> \"College degree\", \"2-Year degree\", \"High school or GED\", \"Coll…\n",
      "$ dem_6   <chr> \"Unemployed\", \"Employed\", \"Employed\", \"Employed\", \"Employed\", …\n",
      "$ dem_6_1 <chr> NA, \"Full-time\", \"Full-time\", \"Full-time\", \"Part-time\", \"Full-…\n",
      "$ dem_7   <dbl> 12000, 36920, 20064, 130000, 5000, 70000, 8000, 57000, 10000, …\n",
      "$ dem_8   <chr> \"Never Married\", \"Never Married\", \"Never Married\", \"Married\", …\n",
      "$ dem2_2  <dbl> 2, 2, 4, 1, 2, 1, 4, 2, 2, 2, 0, 2, 3, 2, 1, 0, 2, 2, 2, 1, 2,…\n",
      "$ dem2_4  <dbl> 0, 1, 0, 1, NA, 1, 0, 0, 0, 0, 2, 0, 1, 0, 0, 0, 0, 0, 0, 1, 0…\n",
      "$ dem2_6  <dbl> 0, 4, 0, 2, NA, NA, 0, 2, 0, 2, 1, 2, 0, 0, 1, 0, 0, 0, 2, 0, …\n",
      "$ dem2_8  <dbl> 0, 0, 0, NA, NA, NA, 0, 0, 0, 0, 1, 0, 0, 0, 0, 0, 0, 0, 0, 0,…\n",
      "$ subid   <dbl> 1, 2, 3, 5, 6, 7, 8, 10, 11, 12, 13, 14, 15, 16, 17, 9, 18, 19…"
     ]
    }
   ],
   "source": [
    "probs <- read_rds(here::here(path_models, str_c(\"inner_preds_\", window, \"_\", version, \"_\",\n",
    "                                         cv, \"_\", model, \".rds\"))) |> \n",
    "  #pivot_longer(cols = starts_with(\"prob\"), \n",
    "               #names_to = \"method\", \n",
    "               #values_to = \".pred_Lapse\") |>\n",
    "  glimpse()\n"
   ],
   "id": "465bbb30-f5c4-44a7-a763-2bdeebba9e73"
  },
  {
   "cell_type": "markdown",
   "metadata": {},
   "source": [
    "Find demographic groups"
   ],
   "id": "4853740b-8206-44b7-b38c-be11de19181f"
  },
  {
   "cell_type": "code",
   "execution_count": null,
   "metadata": {},
   "outputs": [
    {
     "output_type": "stream",
     "name": "stdout",
     "text": [
      "Rows: 11,511\n",
      "Columns: 6\n",
      "$ subid  <dbl> 1, 1, 1, 1, 1, 1, 1, 1, 1, 1, 1, 1, 1, 1, 1, 1, 1, 1, 1, 1, 1, …\n",
      "$ id_obs <int> 1, 2, 3, 4, 5, 6, 7, 8, 9, 10, 11, 12, 13, 14, 15, 16, 17, 18, …\n",
      "$ race   <chr> \"white\", \"white\", \"white\", \"white\", \"white\", \"white\", \"white\", …\n",
      "$ sex    <chr> \"male\", \"male\", \"male\", \"male\", \"male\", \"male\", \"male\", \"male\",…\n",
      "$ age    <chr> \"older\", \"older\", \"older\", \"older\", \"older\", \"older\", \"older\", …\n",
      "$ income <chr> \"below_poverty\", \"below_poverty\", \"below_poverty\", \"below_pover…"
     ]
    }
   ],
   "source": [
    "demographics <- labels |> \n",
    "  left_join(screen, by = \"subid\") |> \n",
    "  select(-day_start, -day_end, -lapse) |> \n",
    "  distinct() |>\n",
    "  mutate(\n",
    "    race = case_when(\n",
    "      dem_3 == \"White/Caucasian\" & grepl(\"No\", dem_4) ~ \"white\",\n",
    "      dem_3 != \"White/Caucasian\" | grepl(\"Yes\", dem_4) ~ \"non_white\"),\n",
    "    sex = if_else(dem_2 == \"Female\", \"female\", \"male\"),\n",
    "    age = if_else(dem_1 >= 55, \"older\", \"younger\"),\n",
    "    income = if_else(dem_7 <= .5 * 30000, \"below_poverty\", \"above_poverty\")\n",
    "  ) |> \n",
    "  select(-starts_with(\"dem\")) |> \n",
    "  glimpse()\n"
   ],
   "id": "aa733f60-21c3-4bce-b6b3-c637af50eb73"
  },
  {
   "cell_type": "code",
   "execution_count": null,
   "metadata": {},
   "outputs": [],
   "source": [
    "probs <- probs |> \n",
    "  left_join(demographics, by = \"id_obs\")\n"
   ],
   "id": "11bd2583-fadf-432a-9d60-46cb0d16f9cd"
  },
  {
   "cell_type": "markdown",
   "metadata": {},
   "source": [
    "## Calculate auROC"
   ],
   "id": "0c714354-7fdf-4bac-934e-33baeaf27bcc"
  },
  {
   "cell_type": "code",
   "execution_count": null,
   "metadata": {},
   "outputs": [
    {
     "output_type": "stream",
     "name": "stderr",
     "text": [
      "Warning: There was 1 warning in `summarize()`.\n",
      "ℹ In argument: `auroc = roc_auc(cur_data(), prob_logi, truth =\n",
      "  label)$.estimate`.\n",
      "ℹ In group 1: `inner_split_num = 1` and `outer_split_num = 1`.\n",
      "Caused by warning:\n",
      "! `cur_data()` was deprecated in dplyr 1.1.0.\n",
      "ℹ Please use `pick()` instead."
     ]
    },
    {
     "output_type": "stream",
     "name": "stderr",
     "text": [
      "`summarise()` has grouped output by 'inner_split_num'. You can override using\n",
      "the `.groups` argument."
     ]
    }
   ],
   "source": [
    "auroc_all <- probs |> \n",
    "  group_by(inner_split_num, outer_split_num) |> \n",
    "  summarize(auroc = roc_auc(cur_data(), prob_logi, truth = label)$.estimate)\n"
   ],
   "id": "99a644e5-ef91-4d18-b49d-81f8634cac53"
  },
  {
   "cell_type": "code",
   "execution_count": null,
   "metadata": {},
   "outputs": [
    {
     "output_type": "stream",
     "name": "stderr",
     "text": [
      "Warning: There were 52 warnings in `summarize()`.\n",
      "The first warning was:\n",
      "ℹ In argument: `auroc = roc_auc(cur_data(), prob_logi, truth =\n",
      "  label)$.estimate`.\n",
      "ℹ In group 16: `inner_split_num = 1`, `outer_split_num = 9`, `race =\n",
      "  \"non_white\"`.\n",
      "Caused by warning:\n",
      "! No event observations were detected in `truth` with event level 'lapse'.\n",
      "ℹ Run `dplyr::last_dplyr_warnings()` to see the 51 remaining warnings."
     ]
    },
    {
     "output_type": "stream",
     "name": "stderr",
     "text": [
      "`summarise()` has grouped output by 'inner_split_num', 'outer_split_num'. You\n",
      "can override using the `.groups` argument."
     ]
    },
    {
     "output_type": "stream",
     "name": "stderr",
     "text": [
      "Warning: There were 3 warnings in `summarize()`.\n",
      "The first warning was:\n",
      "ℹ In argument: `auroc = roc_auc(cur_data(), prob_logi, truth =\n",
      "  label)$.estimate`.\n",
      "ℹ In group 94: `inner_split_num = 2`, `outer_split_num = 17`, `sex = \"male\"`.\n",
      "Caused by warning:\n",
      "! No event observations were detected in `truth` with event level 'lapse'.\n",
      "ℹ Run `dplyr::last_dplyr_warnings()` to see the 2 remaining warnings."
     ]
    },
    {
     "output_type": "stream",
     "name": "stderr",
     "text": [
      "`summarise()` has grouped output by 'inner_split_num', 'outer_split_num'. You\n",
      "can override using the `.groups` argument."
     ]
    },
    {
     "output_type": "stream",
     "name": "stderr",
     "text": [
      "Warning: There were 40 warnings in `summarize()`.\n",
      "The first warning was:\n",
      "ℹ In argument: `auroc = roc_auc(cur_data(), prob_logi, truth =\n",
      "  label)$.estimate`.\n",
      "ℹ In group 13: `inner_split_num = 1`, `outer_split_num = 8`, `age = \"older\"`.\n",
      "Caused by warning:\n",
      "! No event observations were detected in `truth` with event level 'lapse'.\n",
      "ℹ Run `dplyr::last_dplyr_warnings()` to see the 39 remaining warnings."
     ]
    },
    {
     "output_type": "stream",
     "name": "stderr",
     "text": [
      "`summarise()` has grouped output by 'inner_split_num', 'outer_split_num'. You\n",
      "can override using the `.groups` argument."
     ]
    },
    {
     "output_type": "stream",
     "name": "stderr",
     "text": [
      "Warning: There were 14 warnings in `summarize()`.\n",
      "The first warning was:\n",
      "ℹ In argument: `auroc = roc_auc(cur_data(), prob_logi, truth =\n",
      "  label)$.estimate`.\n",
      "ℹ In group 90: `inner_split_num = 2`, `outer_split_num = 15`, `income =\n",
      "  \"below_poverty\"`.\n",
      "Caused by warning:\n",
      "! No event observations were detected in `truth` with event level 'lapse'.\n",
      "ℹ Run `dplyr::last_dplyr_warnings()` to see the 13 remaining warnings."
     ]
    },
    {
     "output_type": "stream",
     "name": "stderr",
     "text": [
      "`summarise()` has grouped output by 'inner_split_num', 'outer_split_num'. You\n",
      "can override using the `.groups` argument."
     ]
    }
   ],
   "source": [
    "auroc_race <- probs |> \n",
    "  group_by(inner_split_num, outer_split_num, race) |> \n",
    "  summarize(auroc = roc_auc(cur_data(), prob_logi, truth = label)$.estimate) |> \n",
    "  ungroup() |> \n",
    "  rename(subgroup = race)\n"
   ],
   "id": "dfce302d-edf5-4074-8c54-d8a33eb668ff"
  },
  {
   "cell_type": "markdown",
   "metadata": {},
   "source": [
    "## Model Comparison"
   ],
   "id": "d128fce4-51e6-4123-ae9e-136428e2c174"
  },
  {
   "cell_type": "code",
   "execution_count": null,
   "metadata": {},
   "outputs": [],
   "source": [
    "# contrast_table <- function(df, levels){\n",
    "#   df |> \n",
    "#     filter(subgroup != \"all\") |>\n",
    "#     select(c(\"auroc\", \"subgroup\", \"inner_split_num\", \"outer_split_num\")) |> \n",
    "#     group_by(subgroup) |>\n",
    "#     pivot_wider(values_from = c(\"auroc\"), names_from = subgroup) |>\n",
    "#     rename(id = outer_split_num, id2 = inner_split_num) |>\n",
    "#     perf_mod(formula = statistic ~ model + (1 | id/id2),\n",
    "#              # prior_intercept = rstanarm::student_t(autoscale = TRUE),\n",
    "#              # prior = rstanarm::student_t(autoscale = TRUE),\n",
    "#              # transform = tidyposterior::logit_trans,  # for skewed & bounded AUC\n",
    "#              # iter = 2000, chains = 4,\n",
    "#              adapt_delta = .99,\n",
    "#              # cores = 4, seed = 12345,\n",
    "#              family = gaussian, verbose = FALSE) |> \n",
    "#     contrast_models(list_1 = levels[1], list_2 = levels[2]) |> \n",
    "#     summary(size = 0) |> \n",
    "#     mutate(metrics = \"auroc\", .before = contrast)\n",
    "#   }\n"
   ],
   "id": "d6262d7a-3633-42df-9dd9-4026a24286f9"
  },
  {
   "cell_type": "code",
   "execution_count": null,
   "metadata": {},
   "outputs": [],
   "source": [
    "# contrast_table(auroc_race, c(\"white\", \"non_white\"))\n",
    "# contrast_table(auroc_sex, c(\"male\", \"female\"))\n",
    "# contrast_table(auroc_age, c(\"younger\", \"older\"))\n",
    "# contrast_table(auroc_income, c(\"above_poverty\", \"below_poverty\"))\n"
   ],
   "id": "2e61d8d6-17d3-4da9-a30f-c942c37360ca"
  },
  {
   "cell_type": "markdown",
   "metadata": {},
   "source": [
    "## CY figure\n",
    "\n",
    "Plots"
   ],
   "id": "a29a4c44-64bf-44c5-afaf-fb6f0be564a3"
  },
  {
   "cell_type": "code",
   "execution_count": null,
   "metadata": {},
   "outputs": [],
   "source": [
    "# auroc_plot <- auroc_race |> \n",
    "#   mutate(group = \"race\") |> \n",
    "#   bind_rows(auroc_sex |> mutate(group = \"sex\")) |> \n",
    "#   bind_rows(auroc_age |> mutate(group = \"age\")) |> \n",
    "#   bind_rows(auroc_income |> mutate(group = \"income\"))\n"
   ],
   "id": "8aa88fec-e24e-4b2c-bd73-948d5d8d8936"
  },
  {
   "cell_type": "code",
   "execution_count": null,
   "metadata": {},
   "outputs": [],
   "source": [
    "# ggpubr::ggarrange(\n",
    "#   auroc_race |> \n",
    "#     ggplot(aes(x = factor(subgroup, levels = c(\"all\", \"white\", \"non_white\")), \n",
    "#                y = auroc, fill = subgroup)) +\n",
    "#     geom_boxplot() +\n",
    "#     theme(legend.position = \"none\", axis.text.x = element_text(angle = 10)) +\n",
    "#     scale_fill_manual(values = c(\"#80B1D3\", \"#B5D66E\", \"#F28072\")) +\n",
    "#     ylim(0, 1) +\n",
    "#     labs(x = \"Race\"),\n",
    "#   auroc_sex |> \n",
    "#     ggplot(aes(x = factor(subgroup, levels = c(\"all\", \"male\", \"female\")),\n",
    "#                y = auroc, fill = subgroup)) +\n",
    "#     geom_boxplot() +\n",
    "#     theme(legend.position = \"none\", axis.text.x = element_text(angle = 10)) +\n",
    "#     scale_fill_manual(values = c(\"#80B1D3\", \"#B5D66E\", \"#F28072\")) +\n",
    "#     ylim(0, 1) +\n",
    "#     labs(x = \"Sex\"),\n",
    "#   auroc_age |> \n",
    "#     ggplot(aes(x = factor(subgroup, levels = c(\"all\", \"younger\", \"older\")),\n",
    "#                y = auroc, fill = subgroup)) +\n",
    "#     geom_boxplot() +\n",
    "#     theme(legend.position = \"none\", axis.text.x = element_text(angle = 10)) +\n",
    "#     scale_fill_manual(values = c(\"#80B1D3\", \"#B5D66E\", \"#F28072\")) +\n",
    "#     ylim(0, 1) +\n",
    "#     labs(x = \"Age\"),\n",
    "#   auroc_income |> \n",
    "#     ggplot(aes(x = factor(subgroup, levels = \n",
    "#                             c(\"all\", \"above_poverty\", \"below_poverty\")),\n",
    "#                y = auroc, fill = subgroup)) +\n",
    "#     geom_boxplot() +\n",
    "#     theme(legend.position = \"none\", axis.text.x = element_text(angle = 10)) +\n",
    "#     scale_fill_manual(values = c(\"#80B1D3\", \"#B5D66E\", \"#F28072\")) +\n",
    "#     ylim(0, 1) +\n",
    "#     labs(x = \"Income\")\n",
    "# )\n"
   ],
   "id": "a174c68a-6f7e-4754-a060-d0d50b3a4dc9"
  },
  {
   "cell_type": "markdown",
   "metadata": {},
   "source": [
    "## JC figure"
   ],
   "id": "b7ebcfe9-2e0e-4b9e-968d-c93b839bdf11"
  },
  {
   "cell_type": "code",
   "execution_count": null,
   "metadata": {},
   "outputs": [],
   "source": [
    "posterior_auroc <- function(df, levels){\n",
    "  q = c(.025, .5, .975)\n",
    "\n",
    "  df |> \n",
    "    filter(subgroup != \"all\") |>\n",
    "    group_by(subgroup) |>\n",
    "    pivot_wider(values_from = auroc, names_from = subgroup) |>\n",
    "    rename(id = inner_split_num, id2 = outer_split_num) |>\n",
    "    perf_mod(formula = statistic ~ model + (1 | id2/id),\n",
    "             # prior_intercept = rstanarm::student_t(autoscale = TRUE),\n",
    "             # prior = rstanarm::student_t(autoscale = TRUE),\n",
    "             # transform = tidyposterior::logit_trans,  # for skewed & bounded AUC\n",
    "             # iter = 2000, chains = 4,\n",
    "             adapt_delta = .99,\n",
    "             # cores = 4, seed = 12345,\n",
    "             family = gaussian, verbose = FALSE)   |> \n",
    "    # output of this needs to go into contrast models\n",
    "    tidy(seed = 123) |> \n",
    "    group_by(model) |> \n",
    "    summarize(median = quantile(posterior, probs = q[2]),\n",
    "              lower = quantile(posterior, probs = q[1]), \n",
    "              upper = quantile(posterior, probs = q[3]))\n",
    "}\n"
   ],
   "id": "f53eafa4-e8fb-4a53-84df-7d237af925da"
  },
  {
   "cell_type": "code",
   "execution_count": null,
   "metadata": {},
   "outputs": [
    {
     "output_type": "stream",
     "name": "stdout",
     "text": [
      "\n",
      "SAMPLING FOR MODEL 'continuous' NOW (CHAIN 1).\n",
      "Chain 1: \n",
      "Chain 1: Gradient evaluation took 0.000216 seconds\n",
      "Chain 1: 1000 transitions using 10 leapfrog steps per transition would take 2.16 seconds.\n",
      "Chain 1: Adjust your expectations accordingly!\n",
      "Chain 1: \n",
      "Chain 1: \n",
      "Chain 1: Iteration:    1 / 2000 [  0%]  (Warmup)\n",
      "Chain 1: Iteration:  200 / 2000 [ 10%]  (Warmup)\n",
      "Chain 1: Iteration:  400 / 2000 [ 20%]  (Warmup)\n",
      "Chain 1: Iteration:  600 / 2000 [ 30%]  (Warmup)\n",
      "Chain 1: Iteration:  800 / 2000 [ 40%]  (Warmup)\n",
      "Chain 1: Iteration: 1000 / 2000 [ 50%]  (Warmup)\n",
      "Chain 1: Iteration: 1001 / 2000 [ 50%]  (Sampling)\n",
      "Chain 1: Iteration: 1200 / 2000 [ 60%]  (Sampling)\n",
      "Chain 1: Iteration: 1400 / 2000 [ 70%]  (Sampling)\n",
      "Chain 1: Iteration: 1600 / 2000 [ 80%]  (Sampling)\n",
      "Chain 1: Iteration: 1800 / 2000 [ 90%]  (Sampling)\n",
      "Chain 1: Iteration: 2000 / 2000 [100%]  (Sampling)\n",
      "Chain 1: \n",
      "Chain 1:  Elapsed Time: 8.189 seconds (Warm-up)\n",
      "Chain 1:                2.769 seconds (Sampling)\n",
      "Chain 1:                10.958 seconds (Total)\n",
      "Chain 1: \n",
      "\n",
      "SAMPLING FOR MODEL 'continuous' NOW (CHAIN 2).\n",
      "Chain 2: \n",
      "Chain 2: Gradient evaluation took 5e-05 seconds\n",
      "Chain 2: 1000 transitions using 10 leapfrog steps per transition would take 0.5 seconds.\n",
      "Chain 2: Adjust your expectations accordingly!\n",
      "Chain 2: \n",
      "Chain 2: \n",
      "Chain 2: Iteration:    1 / 2000 [  0%]  (Warmup)\n",
      "Chain 2: Iteration:  200 / 2000 [ 10%]  (Warmup)\n",
      "Chain 2: Iteration:  400 / 2000 [ 20%]  (Warmup)\n",
      "Chain 2: Iteration:  600 / 2000 [ 30%]  (Warmup)\n",
      "Chain 2: Iteration:  800 / 2000 [ 40%]  (Warmup)\n",
      "Chain 2: Iteration: 1000 / 2000 [ 50%]  (Warmup)\n",
      "Chain 2: Iteration: 1001 / 2000 [ 50%]  (Sampling)\n",
      "Chain 2: Iteration: 1200 / 2000 [ 60%]  (Sampling)\n",
      "Chain 2: Iteration: 1400 / 2000 [ 70%]  (Sampling)\n",
      "Chain 2: Iteration: 1600 / 2000 [ 80%]  (Sampling)\n",
      "Chain 2: Iteration: 1800 / 2000 [ 90%]  (Sampling)\n",
      "Chain 2: Iteration: 2000 / 2000 [100%]  (Sampling)\n",
      "Chain 2: \n",
      "Chain 2:  Elapsed Time: 9.206 seconds (Warm-up)\n",
      "Chain 2:                2.843 seconds (Sampling)\n",
      "Chain 2:                12.049 seconds (Total)\n",
      "Chain 2: \n",
      "\n",
      "SAMPLING FOR MODEL 'continuous' NOW (CHAIN 3).\n",
      "Chain 3: \n",
      "Chain 3: Gradient evaluation took 6.9e-05 seconds\n",
      "Chain 3: 1000 transitions using 10 leapfrog steps per transition would take 0.69 seconds.\n",
      "Chain 3: Adjust your expectations accordingly!\n",
      "Chain 3: \n",
      "Chain 3: \n",
      "Chain 3: Iteration:    1 / 2000 [  0%]  (Warmup)\n",
      "Chain 3: Iteration:  200 / 2000 [ 10%]  (Warmup)\n",
      "Chain 3: Iteration:  400 / 2000 [ 20%]  (Warmup)\n",
      "Chain 3: Iteration:  600 / 2000 [ 30%]  (Warmup)\n",
      "Chain 3: Iteration:  800 / 2000 [ 40%]  (Warmup)\n",
      "Chain 3: Iteration: 1000 / 2000 [ 50%]  (Warmup)\n",
      "Chain 3: Iteration: 1001 / 2000 [ 50%]  (Sampling)\n",
      "Chain 3: Iteration: 1200 / 2000 [ 60%]  (Sampling)\n",
      "Chain 3: Iteration: 1400 / 2000 [ 70%]  (Sampling)\n",
      "Chain 3: Iteration: 1600 / 2000 [ 80%]  (Sampling)\n",
      "Chain 3: Iteration: 1800 / 2000 [ 90%]  (Sampling)\n",
      "Chain 3: Iteration: 2000 / 2000 [100%]  (Sampling)\n",
      "Chain 3: \n",
      "Chain 3:  Elapsed Time: 8.088 seconds (Warm-up)\n",
      "Chain 3:                2.843 seconds (Sampling)\n",
      "Chain 3:                10.931 seconds (Total)\n",
      "Chain 3: \n",
      "\n",
      "SAMPLING FOR MODEL 'continuous' NOW (CHAIN 4).\n",
      "Chain 4: \n",
      "Chain 4: Gradient evaluation took 5.4e-05 seconds\n",
      "Chain 4: 1000 transitions using 10 leapfrog steps per transition would take 0.54 seconds.\n",
      "Chain 4: Adjust your expectations accordingly!\n",
      "Chain 4: \n",
      "Chain 4: \n",
      "Chain 4: Iteration:    1 / 2000 [  0%]  (Warmup)\n",
      "Chain 4: Iteration:  200 / 2000 [ 10%]  (Warmup)\n",
      "Chain 4: Iteration:  400 / 2000 [ 20%]  (Warmup)\n",
      "Chain 4: Iteration:  600 / 2000 [ 30%]  (Warmup)\n",
      "Chain 4: Iteration:  800 / 2000 [ 40%]  (Warmup)\n",
      "Chain 4: Iteration: 1000 / 2000 [ 50%]  (Warmup)\n",
      "Chain 4: Iteration: 1001 / 2000 [ 50%]  (Sampling)\n",
      "Chain 4: Iteration: 1200 / 2000 [ 60%]  (Sampling)\n",
      "Chain 4: Iteration: 1400 / 2000 [ 70%]  (Sampling)\n",
      "Chain 4: Iteration: 1600 / 2000 [ 80%]  (Sampling)\n",
      "Chain 4: Iteration: 1800 / 2000 [ 90%]  (Sampling)\n",
      "Chain 4: Iteration: 2000 / 2000 [100%]  (Sampling)\n",
      "Chain 4: \n",
      "Chain 4:  Elapsed Time: 6.73 seconds (Warm-up)\n",
      "Chain 4:                2.839 seconds (Sampling)\n",
      "Chain 4:                9.569 seconds (Total)\n",
      "Chain 4: "
     ]
    },
    {
     "output_type": "stream",
     "name": "stdout",
     "text": [
      "\n",
      "SAMPLING FOR MODEL 'continuous' NOW (CHAIN 1).\n",
      "Chain 1: \n",
      "Chain 1: Gradient evaluation took 6.3e-05 seconds\n",
      "Chain 1: 1000 transitions using 10 leapfrog steps per transition would take 0.63 seconds.\n",
      "Chain 1: Adjust your expectations accordingly!\n",
      "Chain 1: \n",
      "Chain 1: \n",
      "Chain 1: Iteration:    1 / 2000 [  0%]  (Warmup)\n",
      "Chain 1: Iteration:  200 / 2000 [ 10%]  (Warmup)\n",
      "Chain 1: Iteration:  400 / 2000 [ 20%]  (Warmup)\n",
      "Chain 1: Iteration:  600 / 2000 [ 30%]  (Warmup)\n",
      "Chain 1: Iteration:  800 / 2000 [ 40%]  (Warmup)\n",
      "Chain 1: Iteration: 1000 / 2000 [ 50%]  (Warmup)\n",
      "Chain 1: Iteration: 1001 / 2000 [ 50%]  (Sampling)\n",
      "Chain 1: Iteration: 1200 / 2000 [ 60%]  (Sampling)\n",
      "Chain 1: Iteration: 1400 / 2000 [ 70%]  (Sampling)\n",
      "Chain 1: Iteration: 1600 / 2000 [ 80%]  (Sampling)\n",
      "Chain 1: Iteration: 1800 / 2000 [ 90%]  (Sampling)\n",
      "Chain 1: Iteration: 2000 / 2000 [100%]  (Sampling)\n",
      "Chain 1: \n",
      "Chain 1:  Elapsed Time: 8.636 seconds (Warm-up)\n",
      "Chain 1:                5.205 seconds (Sampling)\n",
      "Chain 1:                13.841 seconds (Total)\n",
      "Chain 1: \n",
      "\n",
      "SAMPLING FOR MODEL 'continuous' NOW (CHAIN 2).\n",
      "Chain 2: \n",
      "Chain 2: Gradient evaluation took 0.000108 seconds\n",
      "Chain 2: 1000 transitions using 10 leapfrog steps per transition would take 1.08 seconds.\n",
      "Chain 2: Adjust your expectations accordingly!\n",
      "Chain 2: \n",
      "Chain 2: \n",
      "Chain 2: Iteration:    1 / 2000 [  0%]  (Warmup)\n",
      "Chain 2: Iteration:  200 / 2000 [ 10%]  (Warmup)\n",
      "Chain 2: Iteration:  400 / 2000 [ 20%]  (Warmup)\n",
      "Chain 2: Iteration:  600 / 2000 [ 30%]  (Warmup)\n",
      "Chain 2: Iteration:  800 / 2000 [ 40%]  (Warmup)\n",
      "Chain 2: Iteration: 1000 / 2000 [ 50%]  (Warmup)\n",
      "Chain 2: Iteration: 1001 / 2000 [ 50%]  (Sampling)\n",
      "Chain 2: Iteration: 1200 / 2000 [ 60%]  (Sampling)\n",
      "Chain 2: Iteration: 1400 / 2000 [ 70%]  (Sampling)\n",
      "Chain 2: Iteration: 1600 / 2000 [ 80%]  (Sampling)\n",
      "Chain 2: Iteration: 1800 / 2000 [ 90%]  (Sampling)\n",
      "Chain 2: Iteration: 2000 / 2000 [100%]  (Sampling)\n",
      "Chain 2: \n",
      "Chain 2:  Elapsed Time: 7.208 seconds (Warm-up)\n",
      "Chain 2:                2.679 seconds (Sampling)\n",
      "Chain 2:                9.887 seconds (Total)\n",
      "Chain 2: \n",
      "\n",
      "SAMPLING FOR MODEL 'continuous' NOW (CHAIN 3).\n",
      "Chain 3: \n",
      "Chain 3: Gradient evaluation took 4.3e-05 seconds\n",
      "Chain 3: 1000 transitions using 10 leapfrog steps per transition would take 0.43 seconds.\n",
      "Chain 3: Adjust your expectations accordingly!\n",
      "Chain 3: \n",
      "Chain 3: \n",
      "Chain 3: Iteration:    1 / 2000 [  0%]  (Warmup)\n",
      "Chain 3: Iteration:  200 / 2000 [ 10%]  (Warmup)\n",
      "Chain 3: Iteration:  400 / 2000 [ 20%]  (Warmup)\n",
      "Chain 3: Iteration:  600 / 2000 [ 30%]  (Warmup)\n",
      "Chain 3: Iteration:  800 / 2000 [ 40%]  (Warmup)\n",
      "Chain 3: Iteration: 1000 / 2000 [ 50%]  (Warmup)\n",
      "Chain 3: Iteration: 1001 / 2000 [ 50%]  (Sampling)\n",
      "Chain 3: Iteration: 1200 / 2000 [ 60%]  (Sampling)\n",
      "Chain 3: Iteration: 1400 / 2000 [ 70%]  (Sampling)\n",
      "Chain 3: Iteration: 1600 / 2000 [ 80%]  (Sampling)\n",
      "Chain 3: Iteration: 1800 / 2000 [ 90%]  (Sampling)\n",
      "Chain 3: Iteration: 2000 / 2000 [100%]  (Sampling)\n",
      "Chain 3: \n",
      "Chain 3:  Elapsed Time: 7.361 seconds (Warm-up)\n",
      "Chain 3:                2.727 seconds (Sampling)\n",
      "Chain 3:                10.088 seconds (Total)\n",
      "Chain 3: \n",
      "\n",
      "SAMPLING FOR MODEL 'continuous' NOW (CHAIN 4).\n",
      "Chain 4: \n",
      "Chain 4: Gradient evaluation took 8.2e-05 seconds\n",
      "Chain 4: 1000 transitions using 10 leapfrog steps per transition would take 0.82 seconds.\n",
      "Chain 4: Adjust your expectations accordingly!\n",
      "Chain 4: \n",
      "Chain 4: \n",
      "Chain 4: Iteration:    1 / 2000 [  0%]  (Warmup)\n",
      "Chain 4: Iteration:  200 / 2000 [ 10%]  (Warmup)\n",
      "Chain 4: Iteration:  400 / 2000 [ 20%]  (Warmup)\n",
      "Chain 4: Iteration:  600 / 2000 [ 30%]  (Warmup)\n",
      "Chain 4: Iteration:  800 / 2000 [ 40%]  (Warmup)\n",
      "Chain 4: Iteration: 1000 / 2000 [ 50%]  (Warmup)\n",
      "Chain 4: Iteration: 1001 / 2000 [ 50%]  (Sampling)\n",
      "Chain 4: Iteration: 1200 / 2000 [ 60%]  (Sampling)\n",
      "Chain 4: Iteration: 1400 / 2000 [ 70%]  (Sampling)\n",
      "Chain 4: Iteration: 1600 / 2000 [ 80%]  (Sampling)\n",
      "Chain 4: Iteration: 1800 / 2000 [ 90%]  (Sampling)\n",
      "Chain 4: Iteration: 2000 / 2000 [100%]  (Sampling)\n",
      "Chain 4: \n",
      "Chain 4:  Elapsed Time: 8.089 seconds (Warm-up)\n",
      "Chain 4:                5.058 seconds (Sampling)\n",
      "Chain 4:                13.147 seconds (Total)\n",
      "Chain 4: "
     ]
    },
    {
     "output_type": "stream",
     "name": "stdout",
     "text": [
      "\n",
      "SAMPLING FOR MODEL 'continuous' NOW (CHAIN 1).\n",
      "Chain 1: \n",
      "Chain 1: Gradient evaluation took 6e-05 seconds\n",
      "Chain 1: 1000 transitions using 10 leapfrog steps per transition would take 0.6 seconds.\n",
      "Chain 1: Adjust your expectations accordingly!\n",
      "Chain 1: \n",
      "Chain 1: \n",
      "Chain 1: Iteration:    1 / 2000 [  0%]  (Warmup)\n",
      "Chain 1: Iteration:  200 / 2000 [ 10%]  (Warmup)\n",
      "Chain 1: Iteration:  400 / 2000 [ 20%]  (Warmup)\n",
      "Chain 1: Iteration:  600 / 2000 [ 30%]  (Warmup)\n",
      "Chain 1: Iteration:  800 / 2000 [ 40%]  (Warmup)\n",
      "Chain 1: Iteration: 1000 / 2000 [ 50%]  (Warmup)\n",
      "Chain 1: Iteration: 1001 / 2000 [ 50%]  (Sampling)\n",
      "Chain 1: Iteration: 1200 / 2000 [ 60%]  (Sampling)\n",
      "Chain 1: Iteration: 1400 / 2000 [ 70%]  (Sampling)\n",
      "Chain 1: Iteration: 1600 / 2000 [ 80%]  (Sampling)\n",
      "Chain 1: Iteration: 1800 / 2000 [ 90%]  (Sampling)\n",
      "Chain 1: Iteration: 2000 / 2000 [100%]  (Sampling)\n",
      "Chain 1: \n",
      "Chain 1:  Elapsed Time: 8.782 seconds (Warm-up)\n",
      "Chain 1:                2.796 seconds (Sampling)\n",
      "Chain 1:                11.578 seconds (Total)\n",
      "Chain 1: \n",
      "\n",
      "SAMPLING FOR MODEL 'continuous' NOW (CHAIN 2).\n",
      "Chain 2: \n",
      "Chain 2: Gradient evaluation took 5.8e-05 seconds\n",
      "Chain 2: 1000 transitions using 10 leapfrog steps per transition would take 0.58 seconds.\n",
      "Chain 2: Adjust your expectations accordingly!\n",
      "Chain 2: \n",
      "Chain 2: \n",
      "Chain 2: Iteration:    1 / 2000 [  0%]  (Warmup)\n",
      "Chain 2: Iteration:  200 / 2000 [ 10%]  (Warmup)\n",
      "Chain 2: Iteration:  400 / 2000 [ 20%]  (Warmup)\n",
      "Chain 2: Iteration:  600 / 2000 [ 30%]  (Warmup)\n",
      "Chain 2: Iteration:  800 / 2000 [ 40%]  (Warmup)\n",
      "Chain 2: Iteration: 1000 / 2000 [ 50%]  (Warmup)\n",
      "Chain 2: Iteration: 1001 / 2000 [ 50%]  (Sampling)\n",
      "Chain 2: Iteration: 1200 / 2000 [ 60%]  (Sampling)\n",
      "Chain 2: Iteration: 1400 / 2000 [ 70%]  (Sampling)\n",
      "Chain 2: Iteration: 1600 / 2000 [ 80%]  (Sampling)\n",
      "Chain 2: Iteration: 1800 / 2000 [ 90%]  (Sampling)\n",
      "Chain 2: Iteration: 2000 / 2000 [100%]  (Sampling)\n",
      "Chain 2: \n",
      "Chain 2:  Elapsed Time: 9.037 seconds (Warm-up)\n",
      "Chain 2:                2.816 seconds (Sampling)\n",
      "Chain 2:                11.853 seconds (Total)\n",
      "Chain 2: \n",
      "\n",
      "SAMPLING FOR MODEL 'continuous' NOW (CHAIN 3).\n",
      "Chain 3: \n",
      "Chain 3: Gradient evaluation took 6.9e-05 seconds\n",
      "Chain 3: 1000 transitions using 10 leapfrog steps per transition would take 0.69 seconds.\n",
      "Chain 3: Adjust your expectations accordingly!\n",
      "Chain 3: \n",
      "Chain 3: \n",
      "Chain 3: Iteration:    1 / 2000 [  0%]  (Warmup)\n",
      "Chain 3: Iteration:  200 / 2000 [ 10%]  (Warmup)\n",
      "Chain 3: Iteration:  400 / 2000 [ 20%]  (Warmup)\n",
      "Chain 3: Iteration:  600 / 2000 [ 30%]  (Warmup)\n",
      "Chain 3: Iteration:  800 / 2000 [ 40%]  (Warmup)\n",
      "Chain 3: Iteration: 1000 / 2000 [ 50%]  (Warmup)\n",
      "Chain 3: Iteration: 1001 / 2000 [ 50%]  (Sampling)\n",
      "Chain 3: Iteration: 1200 / 2000 [ 60%]  (Sampling)\n",
      "Chain 3: Iteration: 1400 / 2000 [ 70%]  (Sampling)\n",
      "Chain 3: Iteration: 1600 / 2000 [ 80%]  (Sampling)\n",
      "Chain 3: Iteration: 1800 / 2000 [ 90%]  (Sampling)\n",
      "Chain 3: Iteration: 2000 / 2000 [100%]  (Sampling)\n",
      "Chain 3: \n",
      "Chain 3:  Elapsed Time: 8.703 seconds (Warm-up)\n",
      "Chain 3:                2.311 seconds (Sampling)\n",
      "Chain 3:                11.014 seconds (Total)\n",
      "Chain 3: \n",
      "\n",
      "SAMPLING FOR MODEL 'continuous' NOW (CHAIN 4).\n",
      "Chain 4: \n",
      "Chain 4: Gradient evaluation took 4.8e-05 seconds\n",
      "Chain 4: 1000 transitions using 10 leapfrog steps per transition would take 0.48 seconds.\n",
      "Chain 4: Adjust your expectations accordingly!\n",
      "Chain 4: \n",
      "Chain 4: \n",
      "Chain 4: Iteration:    1 / 2000 [  0%]  (Warmup)\n",
      "Chain 4: Iteration:  200 / 2000 [ 10%]  (Warmup)\n",
      "Chain 4: Iteration:  400 / 2000 [ 20%]  (Warmup)\n",
      "Chain 4: Iteration:  600 / 2000 [ 30%]  (Warmup)\n",
      "Chain 4: Iteration:  800 / 2000 [ 40%]  (Warmup)\n",
      "Chain 4: Iteration: 1000 / 2000 [ 50%]  (Warmup)\n",
      "Chain 4: Iteration: 1001 / 2000 [ 50%]  (Sampling)\n",
      "Chain 4: Iteration: 1200 / 2000 [ 60%]  (Sampling)\n",
      "Chain 4: Iteration: 1400 / 2000 [ 70%]  (Sampling)\n",
      "Chain 4: Iteration: 1600 / 2000 [ 80%]  (Sampling)\n",
      "Chain 4: Iteration: 1800 / 2000 [ 90%]  (Sampling)\n",
      "Chain 4: Iteration: 2000 / 2000 [100%]  (Sampling)\n",
      "Chain 4: \n",
      "Chain 4:  Elapsed Time: 10.002 seconds (Warm-up)\n",
      "Chain 4:                3.294 seconds (Sampling)\n",
      "Chain 4:                13.296 seconds (Total)\n",
      "Chain 4: "
     ]
    },
    {
     "output_type": "stream",
     "name": "stdout",
     "text": [
      "\n",
      "SAMPLING FOR MODEL 'continuous' NOW (CHAIN 1).\n",
      "Chain 1: \n",
      "Chain 1: Gradient evaluation took 5.8e-05 seconds\n",
      "Chain 1: 1000 transitions using 10 leapfrog steps per transition would take 0.58 seconds.\n",
      "Chain 1: Adjust your expectations accordingly!\n",
      "Chain 1: \n",
      "Chain 1: \n",
      "Chain 1: Iteration:    1 / 2000 [  0%]  (Warmup)\n",
      "Chain 1: Iteration:  200 / 2000 [ 10%]  (Warmup)\n",
      "Chain 1: Iteration:  400 / 2000 [ 20%]  (Warmup)\n",
      "Chain 1: Iteration:  600 / 2000 [ 30%]  (Warmup)\n",
      "Chain 1: Iteration:  800 / 2000 [ 40%]  (Warmup)\n",
      "Chain 1: Iteration: 1000 / 2000 [ 50%]  (Warmup)\n",
      "Chain 1: Iteration: 1001 / 2000 [ 50%]  (Sampling)\n",
      "Chain 1: Iteration: 1200 / 2000 [ 60%]  (Sampling)\n",
      "Chain 1: Iteration: 1400 / 2000 [ 70%]  (Sampling)\n",
      "Chain 1: Iteration: 1600 / 2000 [ 80%]  (Sampling)\n",
      "Chain 1: Iteration: 1800 / 2000 [ 90%]  (Sampling)\n",
      "Chain 1: Iteration: 2000 / 2000 [100%]  (Sampling)\n",
      "Chain 1: \n",
      "Chain 1:  Elapsed Time: 8.344 seconds (Warm-up)\n",
      "Chain 1:                2.776 seconds (Sampling)\n",
      "Chain 1:                11.12 seconds (Total)\n",
      "Chain 1: \n",
      "\n",
      "SAMPLING FOR MODEL 'continuous' NOW (CHAIN 2).\n",
      "Chain 2: \n",
      "Chain 2: Gradient evaluation took 5.1e-05 seconds\n",
      "Chain 2: 1000 transitions using 10 leapfrog steps per transition would take 0.51 seconds.\n",
      "Chain 2: Adjust your expectations accordingly!\n",
      "Chain 2: \n",
      "Chain 2: \n",
      "Chain 2: Iteration:    1 / 2000 [  0%]  (Warmup)\n",
      "Chain 2: Iteration:  200 / 2000 [ 10%]  (Warmup)\n",
      "Chain 2: Iteration:  400 / 2000 [ 20%]  (Warmup)\n",
      "Chain 2: Iteration:  600 / 2000 [ 30%]  (Warmup)\n",
      "Chain 2: Iteration:  800 / 2000 [ 40%]  (Warmup)\n",
      "Chain 2: Iteration: 1000 / 2000 [ 50%]  (Warmup)\n",
      "Chain 2: Iteration: 1001 / 2000 [ 50%]  (Sampling)\n",
      "Chain 2: Iteration: 1200 / 2000 [ 60%]  (Sampling)\n",
      "Chain 2: Iteration: 1400 / 2000 [ 70%]  (Sampling)\n",
      "Chain 2: Iteration: 1600 / 2000 [ 80%]  (Sampling)\n",
      "Chain 2: Iteration: 1800 / 2000 [ 90%]  (Sampling)\n",
      "Chain 2: Iteration: 2000 / 2000 [100%]  (Sampling)\n",
      "Chain 2: \n",
      "Chain 2:  Elapsed Time: 7.262 seconds (Warm-up)\n",
      "Chain 2:                3.309 seconds (Sampling)\n",
      "Chain 2:                10.571 seconds (Total)\n",
      "Chain 2: \n",
      "\n",
      "SAMPLING FOR MODEL 'continuous' NOW (CHAIN 3).\n",
      "Chain 3: \n",
      "Chain 3: Gradient evaluation took 0.000175 seconds\n",
      "Chain 3: 1000 transitions using 10 leapfrog steps per transition would take 1.75 seconds.\n",
      "Chain 3: Adjust your expectations accordingly!\n",
      "Chain 3: \n",
      "Chain 3: \n",
      "Chain 3: Iteration:    1 / 2000 [  0%]  (Warmup)\n",
      "Chain 3: Iteration:  200 / 2000 [ 10%]  (Warmup)\n",
      "Chain 3: Iteration:  400 / 2000 [ 20%]  (Warmup)\n",
      "Chain 3: Iteration:  600 / 2000 [ 30%]  (Warmup)\n",
      "Chain 3: Iteration:  800 / 2000 [ 40%]  (Warmup)\n",
      "Chain 3: Iteration: 1000 / 2000 [ 50%]  (Warmup)\n",
      "Chain 3: Iteration: 1001 / 2000 [ 50%]  (Sampling)\n",
      "Chain 3: Iteration: 1200 / 2000 [ 60%]  (Sampling)\n",
      "Chain 3: Iteration: 1400 / 2000 [ 70%]  (Sampling)\n",
      "Chain 3: Iteration: 1600 / 2000 [ 80%]  (Sampling)\n",
      "Chain 3: Iteration: 1800 / 2000 [ 90%]  (Sampling)\n",
      "Chain 3: Iteration: 2000 / 2000 [100%]  (Sampling)\n",
      "Chain 3: \n",
      "Chain 3:  Elapsed Time: 9.217 seconds (Warm-up)\n",
      "Chain 3:                2.905 seconds (Sampling)\n",
      "Chain 3:                12.122 seconds (Total)\n",
      "Chain 3: \n",
      "\n",
      "SAMPLING FOR MODEL 'continuous' NOW (CHAIN 4).\n",
      "Chain 4: \n",
      "Chain 4: Gradient evaluation took 7.4e-05 seconds\n",
      "Chain 4: 1000 transitions using 10 leapfrog steps per transition would take 0.74 seconds.\n",
      "Chain 4: Adjust your expectations accordingly!\n",
      "Chain 4: \n",
      "Chain 4: \n",
      "Chain 4: Iteration:    1 / 2000 [  0%]  (Warmup)\n",
      "Chain 4: Iteration:  200 / 2000 [ 10%]  (Warmup)\n",
      "Chain 4: Iteration:  400 / 2000 [ 20%]  (Warmup)\n",
      "Chain 4: Iteration:  600 / 2000 [ 30%]  (Warmup)\n",
      "Chain 4: Iteration:  800 / 2000 [ 40%]  (Warmup)\n",
      "Chain 4: Iteration: 1000 / 2000 [ 50%]  (Warmup)\n",
      "Chain 4: Iteration: 1001 / 2000 [ 50%]  (Sampling)\n",
      "Chain 4: Iteration: 1200 / 2000 [ 60%]  (Sampling)\n",
      "Chain 4: Iteration: 1400 / 2000 [ 70%]  (Sampling)\n",
      "Chain 4: Iteration: 1600 / 2000 [ 80%]  (Sampling)\n",
      "Chain 4: Iteration: 1800 / 2000 [ 90%]  (Sampling)\n",
      "Chain 4: Iteration: 2000 / 2000 [100%]  (Sampling)\n",
      "Chain 4: \n",
      "Chain 4:  Elapsed Time: 8.558 seconds (Warm-up)\n",
      "Chain 4:                2.948 seconds (Sampling)\n",
      "Chain 4:                11.506 seconds (Total)\n",
      "Chain 4: "
     ]
    }
   ],
   "source": [
    "ci_sex <- posterior_auroc(auroc_sex, c(\"male\", \"female\"))\n"
   ],
   "id": "69ee4fa1-eeef-425b-a440-7ef9288701b6"
  },
  {
   "cell_type": "code",
   "execution_count": null,
   "metadata": {},
   "outputs": [],
   "source": [
    "ci <- ci_sex |> \n",
    "    bind_rows(ci_race) |> \n",
    "    bind_rows(ci_income) |> \n",
    "    bind_rows(ci_age)\n"
   ],
   "id": "45f1f5b8-5ad3-4741-a103-b6f50544e865"
  },
  {
   "cell_type": "code",
   "execution_count": null,
   "metadata": {},
   "outputs": [],
   "source": [
    "plot_ci <- function(d, title){\n",
    "  d |> \n",
    "    ggplot(aes(x = model, color = model)) +\n",
    "    geom_point(aes(y = median), size = 2) +\n",
    "    geom_errorbar(aes(ymin = lower, ymax = upper), width = .2) +\n",
    "      #width = .2, position = position_dodge(.9)) +\n",
    "    geom_hline(yintercept = .5, linetype = \"dotted\") +\n",
    "    coord_flip() +\n",
    "    ylab(\"auROC\") +\n",
    "    xlab(\"Group\") +\n",
    "    ggtitle(title) +\n",
    "    xlab(\"\") +\n",
    "    theme(legend.position = \"none\") +\n",
    "    scale_y_continuous(breaks = seq(0.45, 0.7, 0.05), limits = c(0.45, 0.7)) +\n",
    "    #scale_y_continuous(breaks = seq(0.4, 1.0, 0.10), limits = c(0.4, 1.0)) +\n",
    "    #scale_color_manual(values = c(\"#7FBFFFFF\",\"#4C4CFFFF\"))\n",
    "    scale_color_manual(values = c(\"darkblue\", \"#af1f21\"))\n",
    "}\n"
   ],
   "id": "0451dbc3-3884-4189-ba88-d44f65bb7789"
  },
  {
   "cell_type": "code",
   "execution_count": null,
   "metadata": {},
   "outputs": [],
   "source": [
    "fig_sex  <- ci |>\n",
    "  filter(model == \"male\" | model == \"female\") |>\n",
    "  mutate(model = fct(model, levels = c(\"female\", \"male\")),\n",
    "         model = fct_recode(model, male = \"male\", female = \"female\")) |> \n",
    "  plot_ci(\"Sex\")\n",
    "\n",
    "fig_race  <- ci |>\n",
    "  filter(model == \"white\" | model == \"non_white\") |>\n",
    "  mutate(model = fct(model, levels = c(\"non_white\", \"white\")),\n",
    "         model = fct_recode(model, white = \"white\", nonwhite = \"non_white\")) |> \n",
    "  plot_ci(\"Race/Ethnicity\")\n",
    "\n",
    "fig_income  <- ci |>\n",
    "  filter(model == \"above_poverty\" | model == \"below_poverty\") |>\n",
    "  mutate(model = fct(model, levels = c(\"below_poverty\", \"above_poverty\")),\n",
    "         model = fct_recode(model, `above poverty` = \"above_poverty\", `below poverty` = \"below_poverty\")) |> \n",
    "  plot_ci(\"Income\")\n",
    "  \n",
    "fig_age  <- ci |>\n",
    "  filter(model == \"younger\" | model == \"older\") |>\n",
    "  mutate(model = fct(model, levels = c(\"older\", \"younger\"))) |> \n",
    "  plot_ci(\"Age\")\n"
   ],
   "id": "0a2cff0b-b832-4d4f-ab6f-41a2f009bdbf"
  },
  {
   "cell_type": "code",
   "execution_count": null,
   "metadata": {},
   "outputs": [
    {
     "output_type": "display_data",
     "metadata": {},
     "data": {
      "image/png": "[encoded data removed]"
     }
    }
   ],
   "source": [
    "\n",
    "cowplot::plot_grid(fig_race, fig_sex, fig_age, fig_income, align=\"v\", scale = 0.95)\n"
   ],
   "id": "cell-fig-fairness-subgroups"
  }
 ],
 "nbformat": 4,
 "nbformat_minor": 5,
 "metadata": {}
}
