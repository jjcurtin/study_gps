{
 "cells": [
  {
   "cell_type": "markdown",
   "metadata": {},
   "source": [
    "# Generate INNER calibration\n",
    "\n",
    "John Curtin & Claire Punturieri  \n",
    "October 23, 2024"
   ],
   "id": "89337c61-5c07-4131-a765-94b55d169064"
  },
  {
   "cell_type": "code",
   "execution_count": null,
   "metadata": {},
   "outputs": [],
   "source": [
    "study <- params$study\n",
    "cv <- params$cv\n",
    "model <- params$model\n",
    "algorithms <- params$algorithms\n",
    "version <- params$version\n",
    "window <- params$window"
   ],
   "id": "001ca2d5-a64c-4a1d-9dd2-28f89e277e6b"
  },
  {
   "cell_type": "markdown",
   "metadata": {},
   "source": [
    "Function conflicts"
   ],
   "id": "8953c876-8ba4-406b-8112-13276c659071"
  },
  {
   "cell_type": "code",
   "execution_count": null,
   "metadata": {},
   "outputs": [
    {
     "output_type": "stream",
     "name": "stderr",
     "text": [
      "ℹ SHA-1 hash of file is \"77e91675366f10788c6bcb59fa1cfc9ee0c75281\""
     ]
    },
    {
     "output_type": "stream",
     "name": "stderr",
     "text": [
      "ℹ SHA-1 hash of file is \"a58e57da996d1b70bb9a5b58241325d6fd78890f\""
     ]
    }
   ],
   "source": [
    "#| message: false\n",
    "#| warning: false\n",
    "\n",
    "# source\n",
    "devtools::source_url(\"https://github.com/jjcurtin/lab_support/blob/main/fun_ml.R?raw=true\")"
   ],
   "id": "d187ce84-074f-4383-9168-3f3581db682a"
  },
  {
   "cell_type": "markdown",
   "metadata": {},
   "source": [
    "Packages for script"
   ],
   "id": "8ff8d083-dd71-4ea8-b0b7-03aab135d8f3"
  },
  {
   "cell_type": "code",
   "execution_count": null,
   "metadata": {},
   "outputs": [
    {
     "output_type": "stream",
     "name": "stderr",
     "text": [
      "── Attaching core tidyverse packages ──────────────────────── tidyverse 2.0.0 ──\n",
      "✔ dplyr     1.1.4     ✔ readr     2.1.5\n",
      "✔ forcats   1.0.0     ✔ stringr   1.5.1\n",
      "✔ ggplot2   3.5.1     ✔ tibble    3.2.1\n",
      "✔ lubridate 1.9.3     ✔ tidyr     1.3.1\n",
      "✔ purrr     1.0.2     \n",
      "── Conflicts ────────────────────────────────────────── tidyverse_conflicts() ──\n",
      "✖ dplyr::filter() masks stats::filter()\n",
      "✖ dplyr::lag()    masks stats::lag()\n",
      "ℹ Use the conflicted package (<http://conflicted.r-lib.org/>) to force all conflicts to become errors"
     ]
    },
    {
     "output_type": "stream",
     "name": "stderr",
     "text": [
      "── Attaching packages ────────────────────────────────────── tidymodels 1.2.0 ──\n",
      "✔ broom        1.0.7     ✔ rsample      1.2.1\n",
      "✔ dials        1.3.0     ✔ tune         1.2.1\n",
      "✔ infer        1.0.7     ✔ workflows    1.1.4\n",
      "✔ modeldata    1.4.0     ✔ workflowsets 1.1.0\n",
      "✔ parsnip      1.2.1     ✔ yardstick    1.3.1\n",
      "✔ recipes      1.1.0     \n",
      "── Conflicts ───────────────────────────────────────── tidymodels_conflicts() ──\n",
      "✖ scales::discard() masks purrr::discard()\n",
      "✖ dplyr::filter()   masks stats::filter()\n",
      "✖ recipes::fixed()  masks stringr::fixed()\n",
      "✖ dplyr::lag()      masks stats::lag()\n",
      "✖ yardstick::spec() masks readr::spec()\n",
      "✖ recipes::step()   masks stats::step()\n",
      "• Search for functions across packages at https://www.tidymodels.org/find/"
     ]
    },
    {
     "output_type": "stream",
     "name": "stderr",
     "text": [
      "\n",
      "Attaching package: 'probably'\n",
      "\n",
      "The following objects are masked from 'package:base':\n",
      "\n",
      "    as.factor, as.ordered"
     ]
    }
   ],
   "source": [
    "#| message: false\n",
    "#| warning: false\n",
    "\n",
    "library(tidyverse)"
   ],
   "id": "3e3043e1-bb3f-4243-813e-326f121a72e9"
  },
  {
   "cell_type": "markdown",
   "metadata": {},
   "source": [
    "Path"
   ],
   "id": "82be5f2a-a14d-4806-9663-e970a91eb86d"
  },
  {
   "cell_type": "code",
   "execution_count": null,
   "metadata": {},
   "outputs": [],
   "source": [
    "path_models <- format_path(str_c(\"studydata/risk/models/\", study))"
   ],
   "id": "3e636a45-4a51-41e2-856f-79624a05a9f2"
  },
  {
   "cell_type": "markdown",
   "metadata": {},
   "source": [
    "## Functions"
   ],
   "id": "86b8d0e7-1ddb-4d61-97ae-50f33325a74f"
  },
  {
   "cell_type": "code",
   "execution_count": null,
   "metadata": {},
   "outputs": [],
   "source": [
    "get_brier <- function(split, df){\n",
    "  \n",
    "  #filter to split\n",
    "  probs_split <- df |> \n",
    "    filter(split_num == split)\n",
    "\n",
    "  raw <- probs_split |>\n",
    "    filter(method == \"prob_raw\") |> \n",
    "    brier_class(label, .pred_Lapse)\n",
    "  \n",
    "  logi <- probs_split |>\n",
    "    filter(method == \"prob_logi\") |> \n",
    "    brier_class(label, .pred_Lapse)\n",
    "  \n",
    "  iso <- probs_split |>\n",
    "    filter(method == \"prob_iso\") |> \n",
    "    brier_class(label, .pred_Lapse)\n",
    "  \n",
    "  #beta <- probs_split |>\n",
    "    #filter(method == \"prob_beta\") |> \n",
    "    #brier_class(label, .pred_Lapse)\n",
    "  \n",
    "  brier <- tibble(raw = raw$.estimate, \n",
    "                 logi = logi$.estimate, \n",
    "                 iso = iso$.estimate) \n",
    "  #               beta = beta$.estimate)\n",
    "  \n",
    "  #brier <- tibble(raw = raw$.estimate)\n",
    "  \n",
    "  return(brier)\n",
    "}"
   ],
   "id": "c5e4a057-f87b-42a4-9c3f-9f23d369161a"
  },
  {
   "cell_type": "markdown",
   "metadata": {},
   "source": [
    "## Get Probs"
   ],
   "id": "43112fdd-6529-498c-b3d9-119c0d16c039"
  },
  {
   "cell_type": "code",
   "execution_count": null,
   "metadata": {},
   "outputs": [
    {
     "output_type": "stream",
     "name": "stdout",
     "text": [
      "Rows: 932,391\n",
      "Columns: 7\n",
      "$ id_obs          <int> 446, 446, 446, 447, 447, 447, 448, 448, 448, 449, 449,…\n",
      "$ outer_split_num <int> 1, 1, 1, 1, 1, 1, 1, 1, 1, 1, 1, 1, 1, 1, 1, 1, 1, 1, …\n",
      "$ inner_split_num <int> 1, 1, 1, 1, 1, 1, 1, 1, 1, 1, 1, 1, 1, 1, 1, 1, 1, 1, …\n",
      "$ label           <fct> no lapse, no lapse, no lapse, no lapse, no lapse, no l…\n",
      "$ split_num       <dbl> 1, 1, 1, 1, 1, 1, 1, 1, 1, 1, 1, 1, 1, 1, 1, 1, 1, 1, …\n",
      "$ method          <chr> \"prob_raw\", \"prob_iso\", \"prob_logi\", \"prob_raw\", \"prob…\n",
      "$ .pred_Lapse     <dbl> 0.32092649, 0.00000000, 0.08943453, 0.32092649, 0.0000…"
     ]
    }
   ],
   "source": [
    "probs <- read_rds(here::here(path_models,\n",
    "                             str_c(\"inner_preds_\", window, \"_\", version, \"_\",\n",
    "                                         cv, \"_\", model, \".rds\"))) |>\n",
    "  mutate(split_num = 10 * outer_split_num + (inner_split_num - 10)) |> \n",
    "  pivot_longer(cols = starts_with(\"prob\"), \n",
    "               names_to = \"method\", \n",
    "               values_to = \".pred_Lapse\") |>\n",
    "  glimpse()"
   ],
   "id": "4f0e69b9-ba92-4c0a-90a8-32a02d68e04c"
  },
  {
   "cell_type": "markdown",
   "metadata": {},
   "source": [
    "## Brier Scores"
   ],
   "id": "46b7b2a6-c46f-462c-bc57-66fe1fb08eb5"
  },
  {
   "cell_type": "code",
   "execution_count": null,
   "metadata": {},
   "outputs": [
    {
     "output_type": "stream",
     "name": "stdout",
     "text": [
      "# A tibble: 6 × 3\n",
      "    raw   logi    iso\n",
      "  <dbl>  <dbl>  <dbl>\n",
      "1 0.182 0.0536 0.0503\n",
      "2 0.164 0.0175 0.0139\n",
      "3 0.238 0.0787 0.0758\n",
      "4 0.182 0.0727 0.0730\n",
      "5 0.203 0.0540 0.0436\n",
      "6 0.239 0.0978 0.0995"
     ]
    },
    {
     "output_type": "stream",
     "name": "stdout",
     "text": [
      "# A tibble: 1 × 6\n",
      "  raw_1 raw_2 logi_1 logi_2  iso_1  iso_2\n",
      "  <dbl> <dbl>  <dbl>  <dbl>  <dbl>  <dbl>\n",
      "1 0.195 0.194 0.0684 0.0666 0.0680 0.0664"
     ]
    }
   ],
   "source": [
    "brier <- 1:300 |>\n",
    "  map(\\(split_num) get_brier(split_num, probs)) |> \n",
    "  list_rbind()\n",
    "\n",
    "brier |> head()"
   ],
   "id": "2f9aee85-6ab8-428e-9f09-fb8da09eaf8c"
  },
  {
   "cell_type": "markdown",
   "metadata": {},
   "source": [
    "## Explore Plots\n",
    "\n",
    "Raw and logi"
   ],
   "id": "76fe356c-005f-4256-88f2-dad845b87e05"
  },
  {
   "cell_type": "code",
   "execution_count": null,
   "metadata": {},
   "outputs": [
    {
     "output_type": "stream",
     "name": "stderr",
     "text": [
      "Scale for y is already present.\n",
      "Adding another scale for y, which will replace the existing scale.\n",
      "Scale for x is already present.\n",
      "Adding another scale for x, which will replace the existing scale."
     ]
    },
    {
     "output_type": "display_data",
     "metadata": {},
     "data": {
      "image/png": "[encoded data removed]"
     }
    }
   ],
   "source": [
    "#| label: fig-calibration\n",
    "#| fig-cap: Comparison between raw (uncalibrated) and logistic (calibrated) probabilities. Predicted lapse probability represents the predicted probabilities derived from the model, whereas observed lapse rate reflects the true rate of lapses in the data. The dashed y = x line represents perfect performance, where predicted probabilities reflect true probabilities. Each point represents the midpoint of a given bin, which increase by 10% (i.e., 5% represents the midpoint from 0-10%).\n",
    "#| fig-height: 4\n",
    "#| fig-width: 6\n",
    "cols <- c(\"prob_raw\" = \"#FF9898FF\", \"prob_logi\" = \"#A91E45FF\")\n",
    "\n",
    "probs |>\n",
    "  mutate(.pred_lapse = .pred_Lapse) |>\n",
    "  filter(method == \"prob_raw\" | method == \"prob_logi\") |> \n",
    "  cal_plot_breaks(truth = label, \n",
    "                  estimate = .pred_lapse,\n",
    "                  .by = method) +\n",
    "  scale_color_manual(values = cols,\n",
    "                     aesthetics = c(\"color\", \"fill\")) +\n",
    "  ylab(\"Observed Lapse Rate\") +\n",
    "  xlab(\"Predicted Lapse Probability (Bin Midpoint)\") +\n",
    "  facet_grid(~factor(method, levels=c('prob_raw','prob_logi'),\n",
    "                     labels = c(\"Raw (Uncalibrated) Probability\",\n",
    "                                \"Logistic (Calibrated) Probability\"))) +\n",
    "  scale_y_continuous(breaks = seq(0,1, by = .1),\n",
    "                     limits = seq(0,1)) +\n",
    "  scale_x_continuous(breaks = seq(0,1, by = .1),\n",
    "                     limits = seq(0,1)) +\n",
    "  theme_classic() +\n",
    "  theme(legend.position=\"none\")"
   ],
   "id": "cell-fig-calibration"
  }
 ],
 "nbformat": 4,
 "nbformat_minor": 5,
 "metadata": {}
}
